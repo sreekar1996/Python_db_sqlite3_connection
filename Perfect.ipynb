{
 "cells": [
  {
   "cell_type": "code",
   "execution_count": 258,
   "metadata": {},
   "outputs": [],
   "source": [
    "#imports\n",
    "import sqlite3\n",
    "import pandas as pd\n",
    "import numpy as np\n",
    "import matplotlib.pyplot as plt\n",
    "import seaborn as sns"
   ]
  },
  {
   "cell_type": "code",
   "execution_count": 102,
   "metadata": {},
   "outputs": [],
   "source": [
    "# Creating the connection\n",
    "cnx = sqlite3.connect(r'kinara_assessment_20181008.db')"
   ]
  },
  {
   "cell_type": "markdown",
   "metadata": {},
   "source": [
    "## Loan information"
   ]
  },
  {
   "cell_type": "code",
   "execution_count": 103,
   "metadata": {},
   "outputs": [],
   "source": [
    "# create the dataframe from a query\n",
    "df_loan = pd.read_sql_query(\"SELECT * FROM loan_information\", cnx)"
   ]
  },
  {
   "cell_type": "code",
   "execution_count": 104,
   "metadata": {},
   "outputs": [
    {
     "data": {
      "text/plain": [
       "(2662, 7)"
      ]
     },
     "execution_count": 104,
     "metadata": {},
     "output_type": "execute_result"
    }
   ],
   "source": [
    "df_loan.shape"
   ]
  },
  {
   "cell_type": "code",
   "execution_count": 105,
   "metadata": {},
   "outputs": [
    {
     "data": {
      "text/html": [
       "<div>\n",
       "<style scoped>\n",
       "    .dataframe tbody tr th:only-of-type {\n",
       "        vertical-align: middle;\n",
       "    }\n",
       "\n",
       "    .dataframe tbody tr th {\n",
       "        vertical-align: top;\n",
       "    }\n",
       "\n",
       "    .dataframe thead th {\n",
       "        text-align: right;\n",
       "    }\n",
       "</style>\n",
       "<table border=\"1\" class=\"dataframe\">\n",
       "  <thead>\n",
       "    <tr style=\"text-align: right;\">\n",
       "      <th></th>\n",
       "      <th>loan_id</th>\n",
       "      <th>account_number</th>\n",
       "      <th>customer_id</th>\n",
       "      <th>enterprise_id</th>\n",
       "      <th>screening_date</th>\n",
       "      <th>product_code</th>\n",
       "      <th>hub_id</th>\n",
       "    </tr>\n",
       "  </thead>\n",
       "  <tbody>\n",
       "    <tr>\n",
       "      <th>0</th>\n",
       "      <td>5692</td>\n",
       "      <td>TLMFS0000055</td>\n",
       "      <td>17850</td>\n",
       "      <td>6278</td>\n",
       "      <td>2017-03-07</td>\n",
       "      <td>TLMFS</td>\n",
       "      <td>46</td>\n",
       "    </tr>\n",
       "    <tr>\n",
       "      <th>1</th>\n",
       "      <td>6190</td>\n",
       "      <td>TLWCU0001219</td>\n",
       "      <td>17857</td>\n",
       "      <td>6280</td>\n",
       "      <td>2017-03-07</td>\n",
       "      <td>TLWCU</td>\n",
       "      <td>32</td>\n",
       "    </tr>\n",
       "  </tbody>\n",
       "</table>\n",
       "</div>"
      ],
      "text/plain": [
       "   loan_id account_number  customer_id  enterprise_id screening_date  \\\n",
       "0     5692   TLMFS0000055        17850           6278     2017-03-07   \n",
       "1     6190   TLWCU0001219        17857           6280     2017-03-07   \n",
       "\n",
       "  product_code  hub_id  \n",
       "0        TLMFS      46  \n",
       "1        TLWCU      32  "
      ]
     },
     "execution_count": 105,
     "metadata": {},
     "output_type": "execute_result"
    }
   ],
   "source": [
    "df_loan.head(2)"
   ]
  },
  {
   "cell_type": "code",
   "execution_count": 106,
   "metadata": {},
   "outputs": [
    {
     "data": {
      "text/plain": [
       "10239    1\n",
       "9356     1\n",
       "9352     1\n",
       "9350     1\n",
       "9348     1\n",
       "Name: loan_id, dtype: int64"
      ]
     },
     "execution_count": 106,
     "metadata": {},
     "output_type": "execute_result"
    }
   ],
   "source": [
    "df_loan.loan_id.value_counts().head()    ##primary key"
   ]
  },
  {
   "cell_type": "code",
   "execution_count": 107,
   "metadata": {},
   "outputs": [
    {
     "data": {
      "text/plain": [
       "TLWCU0001933    1\n",
       "TLWCS0000832    1\n",
       "TLWCU0001898    1\n",
       "TLWCS0001028    1\n",
       "TLWCU0002118    1\n",
       "Name: account_number, dtype: int64"
      ]
     },
     "execution_count": 107,
     "metadata": {},
     "output_type": "execute_result"
    }
   ],
   "source": [
    "df_loan.account_number.value_counts().head()  #not a primary key because it has null values."
   ]
  },
  {
   "cell_type": "code",
   "execution_count": 108,
   "metadata": {},
   "outputs": [
    {
     "data": {
      "text/plain": [
       "loan_id              0\n",
       "account_number    1115\n",
       "customer_id          0\n",
       "enterprise_id        0\n",
       "screening_date       0\n",
       "product_code      1056\n",
       "hub_id               0\n",
       "dtype: int64"
      ]
     },
     "execution_count": 108,
     "metadata": {},
     "output_type": "execute_result"
    }
   ],
   "source": [
    "df_loan.isnull().sum()"
   ]
  },
  {
   "cell_type": "markdown",
   "metadata": {},
   "source": [
    "## Scores information"
   ]
  },
  {
   "cell_type": "code",
   "execution_count": 109,
   "metadata": {},
   "outputs": [],
   "source": [
    "df_score = pd.read_sql_query(\"SELECT * FROM scores_information\", cnx)"
   ]
  },
  {
   "cell_type": "code",
   "execution_count": 110,
   "metadata": {},
   "outputs": [
    {
     "data": {
      "text/plain": [
       "(2033, 4)"
      ]
     },
     "execution_count": 110,
     "metadata": {},
     "output_type": "execute_result"
    }
   ],
   "source": [
    "df_score.shape"
   ]
  },
  {
   "cell_type": "code",
   "execution_count": 111,
   "metadata": {},
   "outputs": [
    {
     "data": {
      "text/html": [
       "<div>\n",
       "<style scoped>\n",
       "    .dataframe tbody tr th:only-of-type {\n",
       "        vertical-align: middle;\n",
       "    }\n",
       "\n",
       "    .dataframe tbody tr th {\n",
       "        vertical-align: top;\n",
       "    }\n",
       "\n",
       "    .dataframe thead th {\n",
       "        text-align: right;\n",
       "    }\n",
       "</style>\n",
       "<table border=\"1\" class=\"dataframe\">\n",
       "  <thead>\n",
       "    <tr style=\"text-align: right;\">\n",
       "      <th></th>\n",
       "      <th>loan_id</th>\n",
       "      <th>ManagAgeui_APP</th>\n",
       "      <th>BusinFormalityOfTheBusinessui</th>\n",
       "      <th>ManagCBscoreui_APP</th>\n",
       "    </tr>\n",
       "  </thead>\n",
       "  <tbody>\n",
       "    <tr>\n",
       "      <th>0</th>\n",
       "      <td>5692</td>\n",
       "      <td>32</td>\n",
       "      <td>Cash &amp; Non Banked</td>\n",
       "      <td>0</td>\n",
       "    </tr>\n",
       "    <tr>\n",
       "      <th>1</th>\n",
       "      <td>6190</td>\n",
       "      <td>35</td>\n",
       "      <td>Cash &amp; Non Banked</td>\n",
       "      <td>0</td>\n",
       "    </tr>\n",
       "    <tr>\n",
       "      <th>2</th>\n",
       "      <td>6191</td>\n",
       "      <td>32</td>\n",
       "      <td>Cash &amp; Non Banked</td>\n",
       "      <td>0</td>\n",
       "    </tr>\n",
       "    <tr>\n",
       "      <th>3</th>\n",
       "      <td>6193</td>\n",
       "      <td>39</td>\n",
       "      <td>Cash &amp; Non Banked</td>\n",
       "      <td>548</td>\n",
       "    </tr>\n",
       "    <tr>\n",
       "      <th>4</th>\n",
       "      <td>8581</td>\n",
       "      <td>36</td>\n",
       "      <td>Cash &amp; Non Banked</td>\n",
       "      <td>0</td>\n",
       "    </tr>\n",
       "  </tbody>\n",
       "</table>\n",
       "</div>"
      ],
      "text/plain": [
       "   loan_id ManagAgeui_APP BusinFormalityOfTheBusinessui ManagCBscoreui_APP\n",
       "0     5692             32             Cash & Non Banked                  0\n",
       "1     6190             35             Cash & Non Banked                  0\n",
       "2     6191             32             Cash & Non Banked                  0\n",
       "3     6193             39             Cash & Non Banked                548\n",
       "4     8581             36             Cash & Non Banked                  0"
      ]
     },
     "execution_count": 111,
     "metadata": {},
     "output_type": "execute_result"
    }
   ],
   "source": [
    "df_score.head(5)"
   ]
  },
  {
   "cell_type": "code",
   "execution_count": 112,
   "metadata": {},
   "outputs": [
    {
     "data": {
      "text/plain": [
       "10239    1\n",
       "9372     1\n",
       "9340     1\n",
       "9342     1\n",
       "9344     1\n",
       "Name: loan_id, dtype: int64"
      ]
     },
     "execution_count": 112,
     "metadata": {},
     "output_type": "execute_result"
    }
   ],
   "source": [
    "df_score.loan_id.value_counts().head()"
   ]
  },
  {
   "cell_type": "markdown",
   "metadata": {},
   "source": [
    "## Enterprise information"
   ]
  },
  {
   "cell_type": "code",
   "execution_count": 113,
   "metadata": {},
   "outputs": [],
   "source": [
    "df_epc= pd.read_sql_query(\"SELECT * FROM enteprise_information\", cnx)"
   ]
  },
  {
   "cell_type": "code",
   "execution_count": 114,
   "metadata": {},
   "outputs": [
    {
     "data": {
      "text/plain": [
       "(2589, 4)"
      ]
     },
     "execution_count": 114,
     "metadata": {},
     "output_type": "execute_result"
    }
   ],
   "source": [
    "df_epc.shape"
   ]
  },
  {
   "cell_type": "code",
   "execution_count": 115,
   "metadata": {},
   "outputs": [
    {
     "data": {
      "text/html": [
       "<div>\n",
       "<style scoped>\n",
       "    .dataframe tbody tr th:only-of-type {\n",
       "        vertical-align: middle;\n",
       "    }\n",
       "\n",
       "    .dataframe tbody tr th {\n",
       "        vertical-align: top;\n",
       "    }\n",
       "\n",
       "    .dataframe thead th {\n",
       "        text-align: right;\n",
       "    }\n",
       "</style>\n",
       "<table border=\"1\" class=\"dataframe\">\n",
       "  <thead>\n",
       "    <tr style=\"text-align: right;\">\n",
       "      <th></th>\n",
       "      <th>enterprise_id</th>\n",
       "      <th>business_type</th>\n",
       "      <th>business_activity</th>\n",
       "      <th>business_sector</th>\n",
       "    </tr>\n",
       "  </thead>\n",
       "  <tbody>\n",
       "    <tr>\n",
       "      <th>0</th>\n",
       "      <td>4</td>\n",
       "      <td>Manufacturing</td>\n",
       "      <td>Sales</td>\n",
       "      <td>Printing</td>\n",
       "    </tr>\n",
       "    <tr>\n",
       "      <th>1</th>\n",
       "      <td>7</td>\n",
       "      <td>Manufacturing</td>\n",
       "      <td>Job Work &amp; Sales</td>\n",
       "      <td>Fabrication</td>\n",
       "    </tr>\n",
       "  </tbody>\n",
       "</table>\n",
       "</div>"
      ],
      "text/plain": [
       "   enterprise_id  business_type business_activity business_sector\n",
       "0              4  Manufacturing             Sales        Printing\n",
       "1              7  Manufacturing  Job Work & Sales     Fabrication"
      ]
     },
     "execution_count": 115,
     "metadata": {},
     "output_type": "execute_result"
    }
   ],
   "source": [
    "df_epc.head(2)"
   ]
  },
  {
   "cell_type": "markdown",
   "metadata": {},
   "source": [
    "## Disbursements Information"
   ]
  },
  {
   "cell_type": "code",
   "execution_count": 116,
   "metadata": {},
   "outputs": [],
   "source": [
    "df_dis = pd.read_sql_query(\"SELECT * FROM disbursements_information\", cnx)"
   ]
  },
  {
   "cell_type": "code",
   "execution_count": 117,
   "metadata": {},
   "outputs": [
    {
     "data": {
      "text/plain": [
       "(1575, 3)"
      ]
     },
     "execution_count": 117,
     "metadata": {},
     "output_type": "execute_result"
    }
   ],
   "source": [
    "df_dis.shape"
   ]
  },
  {
   "cell_type": "code",
   "execution_count": 118,
   "metadata": {},
   "outputs": [
    {
     "data": {
      "text/html": [
       "<div>\n",
       "<style scoped>\n",
       "    .dataframe tbody tr th:only-of-type {\n",
       "        vertical-align: middle;\n",
       "    }\n",
       "\n",
       "    .dataframe tbody tr th {\n",
       "        vertical-align: top;\n",
       "    }\n",
       "\n",
       "    .dataframe thead th {\n",
       "        text-align: right;\n",
       "    }\n",
       "</style>\n",
       "<table border=\"1\" class=\"dataframe\">\n",
       "  <thead>\n",
       "    <tr style=\"text-align: right;\">\n",
       "      <th></th>\n",
       "      <th>account_number</th>\n",
       "      <th>net_disbursement_magnitude</th>\n",
       "      <th>transaction_Date</th>\n",
       "    </tr>\n",
       "  </thead>\n",
       "  <tbody>\n",
       "    <tr>\n",
       "      <th>0</th>\n",
       "      <td>TLWCS0000594</td>\n",
       "      <td>276196.0</td>\n",
       "      <td>2017-02-28</td>\n",
       "    </tr>\n",
       "    <tr>\n",
       "      <th>1</th>\n",
       "      <td>TLWCS0000609</td>\n",
       "      <td>731482.0</td>\n",
       "      <td>2017-02-28</td>\n",
       "    </tr>\n",
       "  </tbody>\n",
       "</table>\n",
       "</div>"
      ],
      "text/plain": [
       "  account_number  net_disbursement_magnitude transaction_Date\n",
       "0   TLWCS0000594                    276196.0       2017-02-28\n",
       "1   TLWCS0000609                    731482.0       2017-02-28"
      ]
     },
     "execution_count": 118,
     "metadata": {},
     "output_type": "execute_result"
    }
   ],
   "source": [
    "df_dis.head(2)"
   ]
  },
  {
   "cell_type": "code",
   "execution_count": 119,
   "metadata": {},
   "outputs": [
    {
     "data": {
      "text/plain": [
       "TLAPS0000438    2\n",
       "TLAPS0000355    2\n",
       "TLAPS0000305    2\n",
       "TLAPS0000375    2\n",
       "TLAPS0000406    2\n",
       "TLAPS0000327    2\n",
       "TLAPS0000412    2\n",
       "TLAPS0000294    2\n",
       "TLAPS0000262    2\n",
       "TLAPS0000295    2\n",
       "TLAPS0000446    2\n",
       "TLAPS0000437    2\n",
       "TLAPS0000416    2\n",
       "TLAPS0000266    2\n",
       "TLAPS0000340    2\n",
       "TLAPS0000358    2\n",
       "TLAPS0000388    2\n",
       "TLAPS0000414    2\n",
       "TLAPS0000362    2\n",
       "TLAPS0000318    2\n",
       "TLAPS0000379    2\n",
       "TLAPS0000434    2\n",
       "TLAPS0000407    2\n",
       "TLAPS0000390    2\n",
       "TLAPS0000424    2\n",
       "TLAPS0000321    2\n",
       "TLAPS0000425    2\n",
       "TLAPS0000383    2\n",
       "TLAPS0000381    2\n",
       "TLAPS0000246    2\n",
       "TLWCS0000852    1\n",
       "Name: account_number, dtype: int64"
      ]
     },
     "execution_count": 119,
     "metadata": {},
     "output_type": "execute_result"
    }
   ],
   "source": [
    "df_dis.account_number.value_counts().head(31)"
   ]
  },
  {
   "cell_type": "code",
   "execution_count": 120,
   "metadata": {},
   "outputs": [],
   "source": [
    "## 30 account numbers are repeated.it means two times those account numbers with sucess loan transaction"
   ]
  },
  {
   "cell_type": "markdown",
   "metadata": {},
   "source": [
    "- It is clearly said that for the customers who dont have accout_numbers,they are considered that there loan appliaction is rejected\n",
    "- Here ,loan_information be the parent table where all 3 tabales are joined using left outer join to get a target varibale (loan acceptance or loan rejection)"
   ]
  },
  {
   "cell_type": "markdown",
   "metadata": {},
   "source": [
    "# My Approach\n",
    "- joining loan_information table with other three tables with Left Outer Join\n",
    "- Target Varible is added based on null values of Account_numbers\n",
    "- Understanding the data (taking insights)\n",
    "- Cleaning the data (removing dupliacate account_numbers,loan_id's) for model\n",
    "- removing the unrelavent features which cant explain the loan acceptance or rejection\n",
    "- Missing value Treatment\n",
    "- Model selection\n",
    "- Recommendations"
   ]
  },
  {
   "cell_type": "code",
   "execution_count": 121,
   "metadata": {},
   "outputs": [],
   "source": [
    "# Joining the tablels #left outer join"
   ]
  },
  {
   "cell_type": "code",
   "execution_count": 122,
   "metadata": {},
   "outputs": [],
   "source": [
    "data=pd.read_sql_query(\"SELECT l.loan_id,l.account_number,l.customer_id,l.enterprise_id,l.screening_date,l.product_code,l.hub_id,s.ManagAgeui_APP,s.BusinFormalityOfTheBusinessui,s.ManagCBscoreui_APP,e.business_type,e.business_activity,e.business_sector,d.net_disbursement_magnitude,d.transaction_Date from loan_information l left outer join scores_information s on l.loan_id=s.loan_id left outer join  enteprise_information e on l.enterprise_id=e.enterprise_id left outer join disbursements_information d on l.account_number=d.account_number \", cnx)"
   ]
  },
  {
   "cell_type": "code",
   "execution_count": 123,
   "metadata": {},
   "outputs": [
    {
     "data": {
      "text/plain": [
       "(2692, 15)"
      ]
     },
     "execution_count": 123,
     "metadata": {},
     "output_type": "execute_result"
    }
   ],
   "source": [
    "data.shape"
   ]
  },
  {
   "cell_type": "code",
   "execution_count": 124,
   "metadata": {},
   "outputs": [
    {
     "data": {
      "text/html": [
       "<div>\n",
       "<style scoped>\n",
       "    .dataframe tbody tr th:only-of-type {\n",
       "        vertical-align: middle;\n",
       "    }\n",
       "\n",
       "    .dataframe tbody tr th {\n",
       "        vertical-align: top;\n",
       "    }\n",
       "\n",
       "    .dataframe thead th {\n",
       "        text-align: right;\n",
       "    }\n",
       "</style>\n",
       "<table border=\"1\" class=\"dataframe\">\n",
       "  <thead>\n",
       "    <tr style=\"text-align: right;\">\n",
       "      <th></th>\n",
       "      <th>loan_id</th>\n",
       "      <th>account_number</th>\n",
       "      <th>customer_id</th>\n",
       "      <th>enterprise_id</th>\n",
       "      <th>screening_date</th>\n",
       "      <th>product_code</th>\n",
       "      <th>hub_id</th>\n",
       "      <th>ManagAgeui_APP</th>\n",
       "      <th>BusinFormalityOfTheBusinessui</th>\n",
       "      <th>ManagCBscoreui_APP</th>\n",
       "      <th>business_type</th>\n",
       "      <th>business_activity</th>\n",
       "      <th>business_sector</th>\n",
       "      <th>net_disbursement_magnitude</th>\n",
       "      <th>transaction_Date</th>\n",
       "    </tr>\n",
       "  </thead>\n",
       "  <tbody>\n",
       "    <tr>\n",
       "      <th>0</th>\n",
       "      <td>5692</td>\n",
       "      <td>TLMFS0000055</td>\n",
       "      <td>17850</td>\n",
       "      <td>6278</td>\n",
       "      <td>2017-03-07</td>\n",
       "      <td>TLMFS</td>\n",
       "      <td>46</td>\n",
       "      <td>32</td>\n",
       "      <td>Cash &amp; Non Banked</td>\n",
       "      <td>0</td>\n",
       "      <td>Manufacturing</td>\n",
       "      <td>Job Work</td>\n",
       "      <td>Auto Components</td>\n",
       "      <td>345909.0</td>\n",
       "      <td>2017-02-28</td>\n",
       "    </tr>\n",
       "    <tr>\n",
       "      <th>1</th>\n",
       "      <td>6190</td>\n",
       "      <td>TLWCU0001219</td>\n",
       "      <td>17857</td>\n",
       "      <td>6280</td>\n",
       "      <td>2017-03-07</td>\n",
       "      <td>TLWCU</td>\n",
       "      <td>32</td>\n",
       "      <td>35</td>\n",
       "      <td>Cash &amp; Non Banked</td>\n",
       "      <td>0</td>\n",
       "      <td>Trading</td>\n",
       "      <td>Retail</td>\n",
       "      <td>Book Stores</td>\n",
       "      <td>144157.0</td>\n",
       "      <td>2017-02-28</td>\n",
       "    </tr>\n",
       "    <tr>\n",
       "      <th>2</th>\n",
       "      <td>6191</td>\n",
       "      <td>TLAPS0000292</td>\n",
       "      <td>9481</td>\n",
       "      <td>2916</td>\n",
       "      <td>2017-03-07</td>\n",
       "      <td>TLAPS</td>\n",
       "      <td>32</td>\n",
       "      <td>32</td>\n",
       "      <td>Cash &amp; Non Banked</td>\n",
       "      <td>0</td>\n",
       "      <td>Manufacturing</td>\n",
       "      <td>Sales</td>\n",
       "      <td>Electricals</td>\n",
       "      <td>484931.0</td>\n",
       "      <td>2017-03-23</td>\n",
       "    </tr>\n",
       "    <tr>\n",
       "      <th>3</th>\n",
       "      <td>6192</td>\n",
       "      <td>LCRIU0000019</td>\n",
       "      <td>6597</td>\n",
       "      <td>32</td>\n",
       "      <td>2017-03-10</td>\n",
       "      <td>LCRIU</td>\n",
       "      <td>32</td>\n",
       "      <td>None</td>\n",
       "      <td>None</td>\n",
       "      <td>None</td>\n",
       "      <td>Manufacturing</td>\n",
       "      <td>Job Work &amp; Sales</td>\n",
       "      <td>Auto Components</td>\n",
       "      <td>683859.0</td>\n",
       "      <td>2017-03-13</td>\n",
       "    </tr>\n",
       "    <tr>\n",
       "      <th>4</th>\n",
       "      <td>6193</td>\n",
       "      <td>LCRIU0000020</td>\n",
       "      <td>9732</td>\n",
       "      <td>3167</td>\n",
       "      <td>2017-03-13</td>\n",
       "      <td>LCRIU</td>\n",
       "      <td>32</td>\n",
       "      <td>39</td>\n",
       "      <td>Cash &amp; Non Banked</td>\n",
       "      <td>548</td>\n",
       "      <td>Manufacturing</td>\n",
       "      <td>Job Work</td>\n",
       "      <td>Auto Components</td>\n",
       "      <td>896703.0</td>\n",
       "      <td>2017-03-15</td>\n",
       "    </tr>\n",
       "  </tbody>\n",
       "</table>\n",
       "</div>"
      ],
      "text/plain": [
       "   loan_id account_number  customer_id  enterprise_id screening_date  \\\n",
       "0     5692   TLMFS0000055        17850           6278     2017-03-07   \n",
       "1     6190   TLWCU0001219        17857           6280     2017-03-07   \n",
       "2     6191   TLAPS0000292         9481           2916     2017-03-07   \n",
       "3     6192   LCRIU0000019         6597             32     2017-03-10   \n",
       "4     6193   LCRIU0000020         9732           3167     2017-03-13   \n",
       "\n",
       "  product_code  hub_id ManagAgeui_APP BusinFormalityOfTheBusinessui  \\\n",
       "0        TLMFS      46             32             Cash & Non Banked   \n",
       "1        TLWCU      32             35             Cash & Non Banked   \n",
       "2        TLAPS      32             32             Cash & Non Banked   \n",
       "3        LCRIU      32           None                          None   \n",
       "4        LCRIU      32             39             Cash & Non Banked   \n",
       "\n",
       "  ManagCBscoreui_APP  business_type business_activity  business_sector  \\\n",
       "0                  0  Manufacturing          Job Work  Auto Components   \n",
       "1                  0        Trading            Retail      Book Stores   \n",
       "2                  0  Manufacturing             Sales      Electricals   \n",
       "3               None  Manufacturing  Job Work & Sales  Auto Components   \n",
       "4                548  Manufacturing          Job Work  Auto Components   \n",
       "\n",
       "   net_disbursement_magnitude transaction_Date  \n",
       "0                    345909.0       2017-02-28  \n",
       "1                    144157.0       2017-02-28  \n",
       "2                    484931.0       2017-03-23  \n",
       "3                    683859.0       2017-03-13  \n",
       "4                    896703.0       2017-03-15  "
      ]
     },
     "execution_count": 124,
     "metadata": {},
     "output_type": "execute_result"
    }
   ],
   "source": [
    "data.head()"
   ]
  },
  {
   "cell_type": "code",
   "execution_count": 125,
   "metadata": {},
   "outputs": [
    {
     "data": {
      "text/plain": [
       "loan_id                             0\n",
       "account_number                   1115\n",
       "customer_id                         0\n",
       "enterprise_id                       0\n",
       "screening_date                      0\n",
       "product_code                     1056\n",
       "hub_id                              0\n",
       "ManagAgeui_APP                    705\n",
       "BusinFormalityOfTheBusinessui     631\n",
       "ManagCBscoreui_APP                705\n",
       "business_type                       0\n",
       "business_activity                   0\n",
       "business_sector                     2\n",
       "net_disbursement_magnitude       1117\n",
       "transaction_Date                 1117\n",
       "dtype: int64"
      ]
     },
     "execution_count": 125,
     "metadata": {},
     "output_type": "execute_result"
    }
   ],
   "source": [
    "data.isnull().sum()"
   ]
  },
  {
   "cell_type": "markdown",
   "metadata": {},
   "source": [
    "## EDA"
   ]
  },
  {
   "cell_type": "code",
   "execution_count": 126,
   "metadata": {},
   "outputs": [
    {
     "data": {
      "text/plain": [
       "TLAPS0000318    2\n",
       "TLAPS0000295    2\n",
       "TLAPS0000294    2\n",
       "TLAPS0000246    2\n",
       "TLAPS0000379    2\n",
       "TLAPS0000327    2\n",
       "TLAPS0000340    2\n",
       "TLAPS0000375    2\n",
       "TLAPS0000416    2\n",
       "TLAPS0000412    2\n",
       "TLAPS0000407    2\n",
       "TLAPS0000424    2\n",
       "TLAPS0000358    2\n",
       "TLAPS0000438    2\n",
       "TLAPS0000425    2\n",
       "TLAPS0000446    2\n",
       "TLAPS0000362    2\n",
       "TLAPS0000414    2\n",
       "TLAPS0000262    2\n",
       "TLAPS0000388    2\n",
       "TLAPS0000355    2\n",
       "TLAPS0000266    2\n",
       "TLAPS0000437    2\n",
       "TLAPS0000321    2\n",
       "TLAPS0000381    2\n",
       "TLAPS0000434    2\n",
       "TLAPS0000390    2\n",
       "TLAPS0000383    2\n",
       "TLAPS0000305    2\n",
       "TLAPS0000406    2\n",
       "TLWCS0000804    1\n",
       "Name: account_number, dtype: int64"
      ]
     },
     "execution_count": 126,
     "metadata": {},
     "output_type": "execute_result"
    }
   ],
   "source": [
    "data.account_number.value_counts().head(31)"
   ]
  },
  {
   "cell_type": "code",
   "execution_count": 127,
   "metadata": {},
   "outputs": [],
   "source": [
    "#30 account_numbers are being repeated ,means applied loan for two times"
   ]
  },
  {
   "cell_type": "code",
   "execution_count": 128,
   "metadata": {},
   "outputs": [
    {
     "data": {
      "text/plain": [
       "24221    8\n",
       "24277    4\n",
       "6684     4\n",
       "6923     3\n",
       "20437    3\n",
       "Name: customer_id, dtype: int64"
      ]
     },
     "execution_count": 128,
     "metadata": {},
     "output_type": "execute_result"
    }
   ],
   "source": [
    "data.customer_id.value_counts().head()"
   ]
  },
  {
   "cell_type": "code",
   "execution_count": 129,
   "metadata": {},
   "outputs": [
    {
     "data": {
      "text/html": [
       "<div>\n",
       "<style scoped>\n",
       "    .dataframe tbody tr th:only-of-type {\n",
       "        vertical-align: middle;\n",
       "    }\n",
       "\n",
       "    .dataframe tbody tr th {\n",
       "        vertical-align: top;\n",
       "    }\n",
       "\n",
       "    .dataframe thead th {\n",
       "        text-align: right;\n",
       "    }\n",
       "</style>\n",
       "<table border=\"1\" class=\"dataframe\">\n",
       "  <thead>\n",
       "    <tr style=\"text-align: right;\">\n",
       "      <th></th>\n",
       "      <th>loan_id</th>\n",
       "      <th>account_number</th>\n",
       "      <th>customer_id</th>\n",
       "      <th>enterprise_id</th>\n",
       "      <th>screening_date</th>\n",
       "      <th>product_code</th>\n",
       "      <th>hub_id</th>\n",
       "      <th>ManagAgeui_APP</th>\n",
       "      <th>BusinFormalityOfTheBusinessui</th>\n",
       "      <th>ManagCBscoreui_APP</th>\n",
       "      <th>business_type</th>\n",
       "      <th>business_activity</th>\n",
       "      <th>business_sector</th>\n",
       "      <th>net_disbursement_magnitude</th>\n",
       "      <th>transaction_Date</th>\n",
       "    </tr>\n",
       "  </thead>\n",
       "  <tbody>\n",
       "    <tr>\n",
       "      <th>2425</th>\n",
       "      <td>11032</td>\n",
       "      <td>None</td>\n",
       "      <td>24221</td>\n",
       "      <td>8439</td>\n",
       "      <td>2017-05-22</td>\n",
       "      <td>None</td>\n",
       "      <td>35</td>\n",
       "      <td>None</td>\n",
       "      <td>None</td>\n",
       "      <td>None</td>\n",
       "      <td>Manufacturing</td>\n",
       "      <td>Job Work &amp; Sales</td>\n",
       "      <td>Plastics</td>\n",
       "      <td>NaN</td>\n",
       "      <td>None</td>\n",
       "    </tr>\n",
       "    <tr>\n",
       "      <th>2479</th>\n",
       "      <td>11084</td>\n",
       "      <td>None</td>\n",
       "      <td>24221</td>\n",
       "      <td>8439</td>\n",
       "      <td>2017-05-23</td>\n",
       "      <td>None</td>\n",
       "      <td>35</td>\n",
       "      <td>35</td>\n",
       "      <td>Cash &amp; Non Banked</td>\n",
       "      <td>744</td>\n",
       "      <td>Manufacturing</td>\n",
       "      <td>Job Work &amp; Sales</td>\n",
       "      <td>Plastics</td>\n",
       "      <td>NaN</td>\n",
       "      <td>None</td>\n",
       "    </tr>\n",
       "    <tr>\n",
       "      <th>2499</th>\n",
       "      <td>11104</td>\n",
       "      <td>None</td>\n",
       "      <td>24221</td>\n",
       "      <td>8439</td>\n",
       "      <td>2017-05-24</td>\n",
       "      <td>None</td>\n",
       "      <td>35</td>\n",
       "      <td>None</td>\n",
       "      <td>None</td>\n",
       "      <td>None</td>\n",
       "      <td>Manufacturing</td>\n",
       "      <td>Job Work &amp; Sales</td>\n",
       "      <td>Plastics</td>\n",
       "      <td>NaN</td>\n",
       "      <td>None</td>\n",
       "    </tr>\n",
       "    <tr>\n",
       "      <th>2518</th>\n",
       "      <td>11123</td>\n",
       "      <td>None</td>\n",
       "      <td>24221</td>\n",
       "      <td>8439</td>\n",
       "      <td>2017-05-24</td>\n",
       "      <td>None</td>\n",
       "      <td>35</td>\n",
       "      <td>None</td>\n",
       "      <td>None</td>\n",
       "      <td>None</td>\n",
       "      <td>Manufacturing</td>\n",
       "      <td>Job Work &amp; Sales</td>\n",
       "      <td>Plastics</td>\n",
       "      <td>NaN</td>\n",
       "      <td>None</td>\n",
       "    </tr>\n",
       "    <tr>\n",
       "      <th>2531</th>\n",
       "      <td>11136</td>\n",
       "      <td>None</td>\n",
       "      <td>24221</td>\n",
       "      <td>8439</td>\n",
       "      <td>2017-05-24</td>\n",
       "      <td>None</td>\n",
       "      <td>35</td>\n",
       "      <td>None</td>\n",
       "      <td>None</td>\n",
       "      <td>None</td>\n",
       "      <td>Manufacturing</td>\n",
       "      <td>Job Work &amp; Sales</td>\n",
       "      <td>Plastics</td>\n",
       "      <td>NaN</td>\n",
       "      <td>None</td>\n",
       "    </tr>\n",
       "    <tr>\n",
       "      <th>2555</th>\n",
       "      <td>11159</td>\n",
       "      <td>None</td>\n",
       "      <td>24221</td>\n",
       "      <td>8439</td>\n",
       "      <td>2017-05-25</td>\n",
       "      <td>None</td>\n",
       "      <td>35</td>\n",
       "      <td>None</td>\n",
       "      <td>None</td>\n",
       "      <td>None</td>\n",
       "      <td>Manufacturing</td>\n",
       "      <td>Job Work &amp; Sales</td>\n",
       "      <td>Plastics</td>\n",
       "      <td>NaN</td>\n",
       "      <td>None</td>\n",
       "    </tr>\n",
       "    <tr>\n",
       "      <th>2611</th>\n",
       "      <td>11213</td>\n",
       "      <td>None</td>\n",
       "      <td>24221</td>\n",
       "      <td>8439</td>\n",
       "      <td>2017-05-26</td>\n",
       "      <td>None</td>\n",
       "      <td>35</td>\n",
       "      <td>None</td>\n",
       "      <td>None</td>\n",
       "      <td>None</td>\n",
       "      <td>Manufacturing</td>\n",
       "      <td>Job Work &amp; Sales</td>\n",
       "      <td>Plastics</td>\n",
       "      <td>NaN</td>\n",
       "      <td>None</td>\n",
       "    </tr>\n",
       "    <tr>\n",
       "      <th>2612</th>\n",
       "      <td>11214</td>\n",
       "      <td>None</td>\n",
       "      <td>24221</td>\n",
       "      <td>8439</td>\n",
       "      <td>2017-05-26</td>\n",
       "      <td>None</td>\n",
       "      <td>35</td>\n",
       "      <td>35</td>\n",
       "      <td>Cash &amp; Non Banked</td>\n",
       "      <td>801</td>\n",
       "      <td>Manufacturing</td>\n",
       "      <td>Job Work &amp; Sales</td>\n",
       "      <td>Plastics</td>\n",
       "      <td>NaN</td>\n",
       "      <td>None</td>\n",
       "    </tr>\n",
       "  </tbody>\n",
       "</table>\n",
       "</div>"
      ],
      "text/plain": [
       "      loan_id account_number  customer_id  enterprise_id screening_date  \\\n",
       "2425    11032           None        24221           8439     2017-05-22   \n",
       "2479    11084           None        24221           8439     2017-05-23   \n",
       "2499    11104           None        24221           8439     2017-05-24   \n",
       "2518    11123           None        24221           8439     2017-05-24   \n",
       "2531    11136           None        24221           8439     2017-05-24   \n",
       "2555    11159           None        24221           8439     2017-05-25   \n",
       "2611    11213           None        24221           8439     2017-05-26   \n",
       "2612    11214           None        24221           8439     2017-05-26   \n",
       "\n",
       "     product_code  hub_id ManagAgeui_APP BusinFormalityOfTheBusinessui  \\\n",
       "2425         None      35           None                          None   \n",
       "2479         None      35             35             Cash & Non Banked   \n",
       "2499         None      35           None                          None   \n",
       "2518         None      35           None                          None   \n",
       "2531         None      35           None                          None   \n",
       "2555         None      35           None                          None   \n",
       "2611         None      35           None                          None   \n",
       "2612         None      35             35             Cash & Non Banked   \n",
       "\n",
       "     ManagCBscoreui_APP  business_type business_activity business_sector  \\\n",
       "2425               None  Manufacturing  Job Work & Sales        Plastics   \n",
       "2479                744  Manufacturing  Job Work & Sales        Plastics   \n",
       "2499               None  Manufacturing  Job Work & Sales        Plastics   \n",
       "2518               None  Manufacturing  Job Work & Sales        Plastics   \n",
       "2531               None  Manufacturing  Job Work & Sales        Plastics   \n",
       "2555               None  Manufacturing  Job Work & Sales        Plastics   \n",
       "2611               None  Manufacturing  Job Work & Sales        Plastics   \n",
       "2612                801  Manufacturing  Job Work & Sales        Plastics   \n",
       "\n",
       "      net_disbursement_magnitude transaction_Date  \n",
       "2425                         NaN             None  \n",
       "2479                         NaN             None  \n",
       "2499                         NaN             None  \n",
       "2518                         NaN             None  \n",
       "2531                         NaN             None  \n",
       "2555                         NaN             None  \n",
       "2611                         NaN             None  \n",
       "2612                         NaN             None  "
      ]
     },
     "execution_count": 129,
     "metadata": {},
     "output_type": "execute_result"
    }
   ],
   "source": [
    "data[data.customer_id==24221]   #he's been rejected for 8 times "
   ]
  },
  {
   "cell_type": "markdown",
   "metadata": {},
   "source": [
    "- since 30 account numbers are being repeated,i can remove the duplicates"
   ]
  },
  {
   "cell_type": "code",
   "execution_count": 130,
   "metadata": {},
   "outputs": [],
   "source": [
    "data1=data.drop_duplicates(subset=['loan_id'])"
   ]
  },
  {
   "cell_type": "markdown",
   "metadata": {},
   "source": [
    "# Problem statement given that if he or she has no account number ,it is concidered that loan has rejected"
   ]
  },
  {
   "cell_type": "markdown",
   "metadata": {},
   "source": [
    "### If the account number has null value ,i mapped target to 0 and vice versa"
   ]
  },
  {
   "cell_type": "markdown",
   "metadata": {},
   "source": [
    "#### 1- loan sanctioned\n",
    "#### 0 - loan rejected"
   ]
  },
  {
   "cell_type": "code",
   "execution_count": 131,
   "metadata": {},
   "outputs": [
    {
     "name": "stderr",
     "output_type": "stream",
     "text": [
      "C:\\Users\\sreekar chidurala\\Anaconda3\\envs\\sreekar\\lib\\site-packages\\ipykernel_launcher.py:2: SettingWithCopyWarning: \n",
      "A value is trying to be set on a copy of a slice from a DataFrame.\n",
      "Try using .loc[row_indexer,col_indexer] = value instead\n",
      "\n",
      "See the caveats in the documentation: http://pandas.pydata.org/pandas-docs/stable/indexing.html#indexing-view-versus-copy\n",
      "  \n"
     ]
    }
   ],
   "source": [
    "## adding target variable\n",
    "data1['target'] = data1['account_number'].apply(lambda x: 0 if x==None else 1)"
   ]
  },
  {
   "cell_type": "code",
   "execution_count": 132,
   "metadata": {},
   "outputs": [
    {
     "data": {
      "text/html": [
       "<div>\n",
       "<style scoped>\n",
       "    .dataframe tbody tr th:only-of-type {\n",
       "        vertical-align: middle;\n",
       "    }\n",
       "\n",
       "    .dataframe tbody tr th {\n",
       "        vertical-align: top;\n",
       "    }\n",
       "\n",
       "    .dataframe thead th {\n",
       "        text-align: right;\n",
       "    }\n",
       "</style>\n",
       "<table border=\"1\" class=\"dataframe\">\n",
       "  <thead>\n",
       "    <tr style=\"text-align: right;\">\n",
       "      <th></th>\n",
       "      <th>loan_id</th>\n",
       "      <th>account_number</th>\n",
       "      <th>customer_id</th>\n",
       "      <th>enterprise_id</th>\n",
       "      <th>screening_date</th>\n",
       "      <th>product_code</th>\n",
       "      <th>hub_id</th>\n",
       "      <th>ManagAgeui_APP</th>\n",
       "      <th>BusinFormalityOfTheBusinessui</th>\n",
       "      <th>ManagCBscoreui_APP</th>\n",
       "      <th>business_type</th>\n",
       "      <th>business_activity</th>\n",
       "      <th>business_sector</th>\n",
       "      <th>net_disbursement_magnitude</th>\n",
       "      <th>transaction_Date</th>\n",
       "      <th>target</th>\n",
       "    </tr>\n",
       "  </thead>\n",
       "  <tbody>\n",
       "    <tr>\n",
       "      <th>0</th>\n",
       "      <td>5692</td>\n",
       "      <td>TLMFS0000055</td>\n",
       "      <td>17850</td>\n",
       "      <td>6278</td>\n",
       "      <td>2017-03-07</td>\n",
       "      <td>TLMFS</td>\n",
       "      <td>46</td>\n",
       "      <td>32</td>\n",
       "      <td>Cash &amp; Non Banked</td>\n",
       "      <td>0</td>\n",
       "      <td>Manufacturing</td>\n",
       "      <td>Job Work</td>\n",
       "      <td>Auto Components</td>\n",
       "      <td>345909.0</td>\n",
       "      <td>2017-02-28</td>\n",
       "      <td>1</td>\n",
       "    </tr>\n",
       "    <tr>\n",
       "      <th>1</th>\n",
       "      <td>6190</td>\n",
       "      <td>TLWCU0001219</td>\n",
       "      <td>17857</td>\n",
       "      <td>6280</td>\n",
       "      <td>2017-03-07</td>\n",
       "      <td>TLWCU</td>\n",
       "      <td>32</td>\n",
       "      <td>35</td>\n",
       "      <td>Cash &amp; Non Banked</td>\n",
       "      <td>0</td>\n",
       "      <td>Trading</td>\n",
       "      <td>Retail</td>\n",
       "      <td>Book Stores</td>\n",
       "      <td>144157.0</td>\n",
       "      <td>2017-02-28</td>\n",
       "      <td>1</td>\n",
       "    </tr>\n",
       "    <tr>\n",
       "      <th>2</th>\n",
       "      <td>6191</td>\n",
       "      <td>TLAPS0000292</td>\n",
       "      <td>9481</td>\n",
       "      <td>2916</td>\n",
       "      <td>2017-03-07</td>\n",
       "      <td>TLAPS</td>\n",
       "      <td>32</td>\n",
       "      <td>32</td>\n",
       "      <td>Cash &amp; Non Banked</td>\n",
       "      <td>0</td>\n",
       "      <td>Manufacturing</td>\n",
       "      <td>Sales</td>\n",
       "      <td>Electricals</td>\n",
       "      <td>484931.0</td>\n",
       "      <td>2017-03-23</td>\n",
       "      <td>1</td>\n",
       "    </tr>\n",
       "    <tr>\n",
       "      <th>3</th>\n",
       "      <td>6192</td>\n",
       "      <td>LCRIU0000019</td>\n",
       "      <td>6597</td>\n",
       "      <td>32</td>\n",
       "      <td>2017-03-10</td>\n",
       "      <td>LCRIU</td>\n",
       "      <td>32</td>\n",
       "      <td>None</td>\n",
       "      <td>None</td>\n",
       "      <td>None</td>\n",
       "      <td>Manufacturing</td>\n",
       "      <td>Job Work &amp; Sales</td>\n",
       "      <td>Auto Components</td>\n",
       "      <td>683859.0</td>\n",
       "      <td>2017-03-13</td>\n",
       "      <td>1</td>\n",
       "    </tr>\n",
       "    <tr>\n",
       "      <th>4</th>\n",
       "      <td>6193</td>\n",
       "      <td>LCRIU0000020</td>\n",
       "      <td>9732</td>\n",
       "      <td>3167</td>\n",
       "      <td>2017-03-13</td>\n",
       "      <td>LCRIU</td>\n",
       "      <td>32</td>\n",
       "      <td>39</td>\n",
       "      <td>Cash &amp; Non Banked</td>\n",
       "      <td>548</td>\n",
       "      <td>Manufacturing</td>\n",
       "      <td>Job Work</td>\n",
       "      <td>Auto Components</td>\n",
       "      <td>896703.0</td>\n",
       "      <td>2017-03-15</td>\n",
       "      <td>1</td>\n",
       "    </tr>\n",
       "  </tbody>\n",
       "</table>\n",
       "</div>"
      ],
      "text/plain": [
       "   loan_id account_number  customer_id  enterprise_id screening_date  \\\n",
       "0     5692   TLMFS0000055        17850           6278     2017-03-07   \n",
       "1     6190   TLWCU0001219        17857           6280     2017-03-07   \n",
       "2     6191   TLAPS0000292         9481           2916     2017-03-07   \n",
       "3     6192   LCRIU0000019         6597             32     2017-03-10   \n",
       "4     6193   LCRIU0000020         9732           3167     2017-03-13   \n",
       "\n",
       "  product_code  hub_id ManagAgeui_APP BusinFormalityOfTheBusinessui  \\\n",
       "0        TLMFS      46             32             Cash & Non Banked   \n",
       "1        TLWCU      32             35             Cash & Non Banked   \n",
       "2        TLAPS      32             32             Cash & Non Banked   \n",
       "3        LCRIU      32           None                          None   \n",
       "4        LCRIU      32             39             Cash & Non Banked   \n",
       "\n",
       "  ManagCBscoreui_APP  business_type business_activity  business_sector  \\\n",
       "0                  0  Manufacturing          Job Work  Auto Components   \n",
       "1                  0        Trading            Retail      Book Stores   \n",
       "2                  0  Manufacturing             Sales      Electricals   \n",
       "3               None  Manufacturing  Job Work & Sales  Auto Components   \n",
       "4                548  Manufacturing          Job Work  Auto Components   \n",
       "\n",
       "   net_disbursement_magnitude transaction_Date  target  \n",
       "0                    345909.0       2017-02-28       1  \n",
       "1                    144157.0       2017-02-28       1  \n",
       "2                    484931.0       2017-03-23       1  \n",
       "3                    683859.0       2017-03-13       1  \n",
       "4                    896703.0       2017-03-15       1  "
      ]
     },
     "execution_count": 132,
     "metadata": {},
     "output_type": "execute_result"
    }
   ],
   "source": [
    "data1.head()"
   ]
  },
  {
   "cell_type": "code",
   "execution_count": 133,
   "metadata": {},
   "outputs": [
    {
     "data": {
      "text/plain": [
       "(2662, 16)"
      ]
     },
     "execution_count": 133,
     "metadata": {},
     "output_type": "execute_result"
    }
   ],
   "source": [
    "data1.shape"
   ]
  },
  {
   "cell_type": "code",
   "execution_count": 134,
   "metadata": {},
   "outputs": [
    {
     "data": {
      "text/plain": [
       "10239    1\n",
       "9356     1\n",
       "9352     1\n",
       "9350     1\n",
       "9348     1\n",
       "Name: loan_id, dtype: int64"
      ]
     },
     "execution_count": 134,
     "metadata": {},
     "output_type": "execute_result"
    }
   ],
   "source": [
    "data1.loan_id.value_counts().head()"
   ]
  },
  {
   "cell_type": "code",
   "execution_count": 135,
   "metadata": {},
   "outputs": [
    {
     "data": {
      "text/plain": [
       "TLWCU0001933    1\n",
       "TLWCS0000832    1\n",
       "TLWCU0001898    1\n",
       "TLWCS0001028    1\n",
       "TLWCU0002118    1\n",
       "Name: account_number, dtype: int64"
      ]
     },
     "execution_count": 135,
     "metadata": {},
     "output_type": "execute_result"
    }
   ],
   "source": [
    "data1.account_number.value_counts().head()"
   ]
  },
  {
   "cell_type": "code",
   "execution_count": 138,
   "metadata": {},
   "outputs": [
    {
     "data": {
      "text/plain": [
       "1    1547\n",
       "0    1115\n",
       "Name: target, dtype: int64"
      ]
     },
     "execution_count": 138,
     "metadata": {},
     "output_type": "execute_result"
    }
   ],
   "source": [
    "data1.target.value_counts()"
   ]
  },
  {
   "cell_type": "code",
   "execution_count": 139,
   "metadata": {},
   "outputs": [
    {
     "data": {
      "text/plain": [
       "(2662, 16)"
      ]
     },
     "execution_count": 139,
     "metadata": {},
     "output_type": "execute_result"
    }
   ],
   "source": [
    "data1.shape"
   ]
  },
  {
   "cell_type": "code",
   "execution_count": 140,
   "metadata": {},
   "outputs": [
    {
     "data": {
      "text/plain": [
       "(2662, 7)"
      ]
     },
     "execution_count": 140,
     "metadata": {},
     "output_type": "execute_result"
    }
   ],
   "source": [
    "df_loan.shape"
   ]
  },
  {
   "cell_type": "code",
   "execution_count": 141,
   "metadata": {},
   "outputs": [
    {
     "data": {
      "text/plain": [
       "TLWCU0001933    1\n",
       "TLWCS0000832    1\n",
       "TLWCU0001898    1\n",
       "TLWCS0001028    1\n",
       "TLWCU0002118    1\n",
       "Name: account_number, dtype: int64"
      ]
     },
     "execution_count": 141,
     "metadata": {},
     "output_type": "execute_result"
    }
   ],
   "source": [
    "df_loan.account_number.value_counts().head()"
   ]
  },
  {
   "cell_type": "code",
   "execution_count": 142,
   "metadata": {},
   "outputs": [
    {
     "data": {
      "text/plain": [
       "(2662, 16)"
      ]
     },
     "execution_count": 142,
     "metadata": {},
     "output_type": "execute_result"
    }
   ],
   "source": [
    "data1.shape"
   ]
  },
  {
   "cell_type": "code",
   "execution_count": 143,
   "metadata": {},
   "outputs": [
    {
     "data": {
      "text/plain": [
       "(2662, 7)"
      ]
     },
     "execution_count": 143,
     "metadata": {},
     "output_type": "execute_result"
    }
   ],
   "source": [
    "df_loan.shape"
   ]
  },
  {
   "cell_type": "markdown",
   "metadata": {},
   "source": [
    "# Understanding the data"
   ]
  },
  {
   "cell_type": "code",
   "execution_count": 144,
   "metadata": {},
   "outputs": [
    {
     "data": {
      "text/plain": [
       "<matplotlib.axes._subplots.AxesSubplot at 0x179f15ae5c0>"
      ]
     },
     "execution_count": 144,
     "metadata": {},
     "output_type": "execute_result"
    },
    {
     "data": {
      "image/png": "[encoded data removed]",
      "text/plain": [
       "<Figure size 432x288 with 1 Axes>"
      ]
     },
     "metadata": {
      "needs_background": "light"
     },
     "output_type": "display_data"
    }
   ],
   "source": [
    "data1.target.value_counts().plot(kind='bar')   # 1 is got loan  ,0 means rejected"
   ]
  },
  {
   "cell_type": "code",
   "execution_count": 145,
   "metadata": {},
   "outputs": [
    {
     "data": {
      "text/plain": [
       "<matplotlib.axes._subplots.AxesSubplot at 0x179f16ce5c0>"
      ]
     },
     "execution_count": 145,
     "metadata": {},
     "output_type": "execute_result"
    },
    {
     "data": {
      "image/png": "[encoded data removed]",
      "text/plain": [
       "<Figure size 1080x360 with 1 Axes>"
      ]
     },
     "metadata": {
      "needs_background": "light"
     },
     "output_type": "display_data"
    }
   ],
   "source": [
    "plt.figure(figsize=(15,5))\n",
    "data1.hub_id.value_counts().plot(kind=\"bar\")"
   ]
  },
  {
   "cell_type": "code",
   "execution_count": 146,
   "metadata": {},
   "outputs": [
    {
     "data": {
      "text/plain": [
       "<matplotlib.axes._subplots.AxesSubplot at 0x179f189e5f8>"
      ]
     },
     "execution_count": 146,
     "metadata": {},
     "output_type": "execute_result"
    },
    {
     "data": {
      "image/png": "[encoded data removed]",
      "text/plain": [
       "<Figure size 432x288 with 1 Axes>"
      ]
     },
     "metadata": {
      "needs_background": "light"
     },
     "output_type": "display_data"
    }
   ],
   "source": [
    "data1.BusinFormalityOfTheBusinessui.value_counts().plot(kind=\"barh\")"
   ]
  },
  {
   "cell_type": "code",
   "execution_count": 147,
   "metadata": {},
   "outputs": [
    {
     "data": {
      "text/plain": [
       "<matplotlib.axes._subplots.AxesSubplot at 0x179f16fbc18>"
      ]
     },
     "execution_count": 147,
     "metadata": {},
     "output_type": "execute_result"
    },
    {
     "data": {
      "image/png": "[encoded data removed]",
      "text/plain": [
       "<Figure size 432x288 with 1 Axes>"
      ]
     },
     "metadata": {
      "needs_background": "light"
     },
     "output_type": "display_data"
    }
   ],
   "source": [
    "data.product_code.value_counts().plot(kind=\"barh\")"
   ]
  },
  {
   "cell_type": "code",
   "execution_count": 148,
   "metadata": {},
   "outputs": [
    {
     "data": {
      "text/plain": [
       "<matplotlib.axes._subplots.AxesSubplot at 0x179f18a0588>"
      ]
     },
     "execution_count": 148,
     "metadata": {},
     "output_type": "execute_result"
    },
    {
     "data": {
      "image/png": "[encoded data removed]",
      "text/plain": [
       "<Figure size 432x288 with 1 Axes>"
      ]
     },
     "metadata": {
      "needs_background": "light"
     },
     "output_type": "display_data"
    }
   ],
   "source": [
    "data1.business_type.value_counts().plot(kind=\"barh\")"
   ]
  },
  {
   "cell_type": "code",
   "execution_count": 149,
   "metadata": {},
   "outputs": [
    {
     "data": {
      "text/plain": [
       "<matplotlib.axes._subplots.AxesSubplot at 0x179f17e2668>"
      ]
     },
     "execution_count": 149,
     "metadata": {},
     "output_type": "execute_result"
    },
    {
     "data": {
      "image/png": "[encoded data removed]",
      "text/plain": [
       "<Figure size 432x288 with 1 Axes>"
      ]
     },
     "metadata": {
      "needs_background": "light"
     },
     "output_type": "display_data"
    }
   ],
   "source": [
    "data1.business_activity.value_counts().plot(kind=\"barh\")"
   ]
  },
  {
   "cell_type": "code",
   "execution_count": 150,
   "metadata": {},
   "outputs": [
    {
     "data": {
      "text/plain": [
       "<matplotlib.axes._subplots.AxesSubplot at 0x179f1852860>"
      ]
     },
     "execution_count": 150,
     "metadata": {},
     "output_type": "execute_result"
    },
    {
     "data": {
      "image/png": "[encoded data removed]",
      "text/plain": [
       "<Figure size 576x864 with 1 Axes>"
      ]
     },
     "metadata": {
      "needs_background": "light"
     },
     "output_type": "display_data"
    }
   ],
   "source": [
    "plt.figure(figsize=(8,12))\n",
    "data1.business_sector.value_counts().plot(kind=\"barh\")"
   ]
  },
  {
   "cell_type": "code",
   "execution_count": 151,
   "metadata": {},
   "outputs": [],
   "source": [
    "#label  encoding for facet graphs\n",
    "import numpy as np"
   ]
  },
  {
   "cell_type": "code",
   "execution_count": 152,
   "metadata": {},
   "outputs": [
    {
     "name": "stderr",
     "output_type": "stream",
     "text": [
      "C:\\Users\\sreekar chidurala\\Anaconda3\\envs\\sreekar\\lib\\site-packages\\ipykernel_launcher.py:2: SettingWithCopyWarning: \n",
      "A value is trying to be set on a copy of a slice from a DataFrame.\n",
      "Try using .loc[row_indexer,col_indexer] = value instead\n",
      "\n",
      "See the caveats in the documentation: http://pandas.pydata.org/pandas-docs/stable/indexing.html#indexing-view-versus-copy\n",
      "  \n"
     ]
    }
   ],
   "source": [
    "data1['product_code']=data1['product_code'].map({'TLMFS':1, 'TLWCU':2, 'TLAPS':3, 'LCRIU':4, 'TLWCS':5, 'LCRDS':6, None:np.NaN,\n",
    "       'ICWCS':7, 'LCRDU':8, 'ICAPS':9, 'ICMFS':10, 'TLBDU':11, 'ICBDS':12, 'TLBDS':13})"
   ]
  },
  {
   "cell_type": "code",
   "execution_count": 153,
   "metadata": {},
   "outputs": [
    {
     "name": "stderr",
     "output_type": "stream",
     "text": [
      "C:\\Users\\sreekar chidurala\\Anaconda3\\envs\\sreekar\\lib\\site-packages\\ipykernel_launcher.py:2: SettingWithCopyWarning: \n",
      "A value is trying to be set on a copy of a slice from a DataFrame.\n",
      "Try using .loc[row_indexer,col_indexer] = value instead\n",
      "\n",
      "See the caveats in the documentation: http://pandas.pydata.org/pandas-docs/stable/indexing.html#indexing-view-versus-copy\n",
      "  \n"
     ]
    }
   ],
   "source": [
    "data1['BusinFormalityOfTheBusinessui']=data1['BusinFormalityOfTheBusinessui'].map({'Cash & Non Banked':1, None:np.NaN, 'Invoice & Banked':2,\n",
    "       'Invoice & Non Banked':3, 'Cash & Banked':4})"
   ]
  },
  {
   "cell_type": "code",
   "execution_count": 154,
   "metadata": {},
   "outputs": [
    {
     "name": "stderr",
     "output_type": "stream",
     "text": [
      "C:\\Users\\sreekar chidurala\\Anaconda3\\envs\\sreekar\\lib\\site-packages\\ipykernel_launcher.py:1: SettingWithCopyWarning: \n",
      "A value is trying to be set on a copy of a slice from a DataFrame.\n",
      "Try using .loc[row_indexer,col_indexer] = value instead\n",
      "\n",
      "See the caveats in the documentation: http://pandas.pydata.org/pandas-docs/stable/indexing.html#indexing-view-versus-copy\n",
      "  \"\"\"Entry point for launching an IPython kernel.\n"
     ]
    }
   ],
   "source": [
    "data1['business_type']=data1['business_type'].map({'Manufacturing':1, 'Trading':2, 'Services':3})"
   ]
  },
  {
   "cell_type": "code",
   "execution_count": 155,
   "metadata": {},
   "outputs": [
    {
     "name": "stderr",
     "output_type": "stream",
     "text": [
      "C:\\Users\\sreekar chidurala\\Anaconda3\\envs\\sreekar\\lib\\site-packages\\ipykernel_launcher.py:2: SettingWithCopyWarning: \n",
      "A value is trying to be set on a copy of a slice from a DataFrame.\n",
      "Try using .loc[row_indexer,col_indexer] = value instead\n",
      "\n",
      "See the caveats in the documentation: http://pandas.pydata.org/pandas-docs/stable/indexing.html#indexing-view-versus-copy\n",
      "  \n"
     ]
    }
   ],
   "source": [
    "data1['business_activity']=data1['business_activity'].map({'Job Work':1, 'Retail':2, 'Sales':3, 'Job Work & Sales':4, 'Whole Sale':5,\n",
    "       'Retail (Business to Customer)':6, 'Retail (Business to Business)':7})"
   ]
  },
  {
   "cell_type": "code",
   "execution_count": 156,
   "metadata": {},
   "outputs": [
    {
     "name": "stderr",
     "output_type": "stream",
     "text": [
      "C:\\Users\\sreekar chidurala\\Anaconda3\\envs\\sreekar\\lib\\site-packages\\ipykernel_launcher.py:10: SettingWithCopyWarning: \n",
      "A value is trying to be set on a copy of a slice from a DataFrame.\n",
      "Try using .loc[row_indexer,col_indexer] = value instead\n",
      "\n",
      "See the caveats in the documentation: http://pandas.pydata.org/pandas-docs/stable/indexing.html#indexing-view-versus-copy\n",
      "  # Remove the CWD from sys.path while we load stuff.\n"
     ]
    }
   ],
   "source": [
    "data1['business_sector']=data1['business_sector'].map({'Auto Components':1, 'Book Stores':2, 'Electricals':3,\n",
    "       'Machine  Components':4, 'Wood':5, None:np.NaN, 'Fabrication':6,\n",
    "       'Food & Beverage':7, 'Industrial':8, 'Fashion':9, 'Electrical':10,\n",
    "       'Food Products':11, 'Chemicals':12, 'Plastics':13, 'Textiles':14, 'Printing':15,\n",
    "       'Construction':16, 'Electronics':17, 'Furniture':18, 'General':19, 'Education':20,\n",
    "       'Health & Beauty':21, 'Houseware':22, 'Medical Equipment':23, 'Paper':24,\n",
    "       'Automobiles':25, 'Handicrafts':26, 'Rubber':27, 'Bedding':28, 'Leather':29,\n",
    "       'Construction Material':30, 'Software & Tech':31, 'Apparel':32,\n",
    "       'Agriculture':33, 'Pharmaceuticals':34, 'Metal works':35, 'Hobbies':36,\n",
    "       'Home Furnishings':37})"
   ]
  },
  {
   "cell_type": "markdown",
   "metadata": {},
   "source": [
    "## Lets see how Target variable varies with respect to features"
   ]
  },
  {
   "cell_type": "code",
   "execution_count": 157,
   "metadata": {},
   "outputs": [
    {
     "name": "stderr",
     "output_type": "stream",
     "text": [
      "C:\\Users\\sreekar chidurala\\Anaconda3\\envs\\sreekar\\lib\\site-packages\\scipy\\stats\\stats.py:1713: FutureWarning: Using a non-tuple sequence for multidimensional indexing is deprecated; use `arr[tuple(seq)]` instead of `arr[seq]`. In the future this will be interpreted as an array index, `arr[np.array(seq)]`, which will result either in an error or a different result.\n",
      "  return np.add.reduce(sorted[indexer] * weights, axis=axis) / sumval\n"
     ]
    },
    {
     "data": {
      "image/png": "[encoded data removed]",
      "text/plain": [
       "<Figure size 906.375x216 with 1 Axes>"
      ]
     },
     "metadata": {
      "needs_background": "light"
     },
     "output_type": "display_data"
    }
   ],
   "source": [
    "#facet graphs\n",
    "facet = sns.FacetGrid(data1, hue=\"target\",aspect=4)\n",
    "facet.map(sns.kdeplot,'hub_id',shade= True)\n",
    "facet.set(xlim=(0, data1['hub_id'].max()))\n",
    "facet.add_legend();"
   ]
  },
  {
   "cell_type": "markdown",
   "metadata": {},
   "source": [
    "- for hub_id in between 10-20 ,customers are more likely to get the loan sanction\n",
    "- for hub_id between 23-35 , customers are more likely to get loan rejection\n",
    "- for hub_id =80, customers are more likely to get loan sanction."
   ]
  },
  {
   "cell_type": "code",
   "execution_count": 158,
   "metadata": {},
   "outputs": [
    {
     "data": {
      "image/png": "[encoded data removed]",
      "text/plain": [
       "<Figure size 906.375x216 with 1 Axes>"
      ]
     },
     "metadata": {
      "needs_background": "light"
     },
     "output_type": "display_data"
    }
   ],
   "source": [
    "#facet graphs\n",
    "facet = sns.FacetGrid(data1, hue=\"target\",aspect=4)\n",
    "facet.map(sns.kdeplot,'product_code',shade= True)\n",
    "facet.set(xlim=(0, data1['product_code'].max()))\n",
    "facet.add_legend();"
   ]
  },
  {
   "cell_type": "markdown",
   "metadata": {},
   "source": [
    "- for product_code 2 which is TLWCU ,they are high number of loan rejections\n",
    "- for product_code 4, 6 and 7 ie LCRIU , LCRDS , ICWCS ,customers are more likely to get loan sanction\n",
    "- for product_code 5 ie TLWCS ,customers are more likely to get loan rejection "
   ]
  },
  {
   "cell_type": "code",
   "execution_count": 159,
   "metadata": {},
   "outputs": [
    {
     "data": {
      "image/png": "[encoded data removed]",
      "text/plain": [
       "<Figure size 906.375x216 with 1 Axes>"
      ]
     },
     "metadata": {
      "needs_background": "light"
     },
     "output_type": "display_data"
    }
   ],
   "source": [
    "facet = sns.FacetGrid(data1, hue=\"target\",aspect=4)\n",
    "facet.map(sns.kdeplot,'BusinFormalityOfTheBusinessui',shade= True)\n",
    "facet.set(xlim=(0, data1['BusinFormalityOfTheBusinessui'].max()))\n",
    "facet.add_legend();"
   ]
  },
  {
   "cell_type": "markdown",
   "metadata": {},
   "source": [
    "- for cash & non banked customers,invoice & banked,Invoice & non banked customers , they are more number of loan acceptance then rejections\n"
   ]
  },
  {
   "cell_type": "code",
   "execution_count": 160,
   "metadata": {},
   "outputs": [
    {
     "data": {
      "image/png": "[encoded data removed]",
      "text/plain": [
       "<Figure size 906.375x216 with 1 Axes>"
      ]
     },
     "metadata": {
      "needs_background": "light"
     },
     "output_type": "display_data"
    }
   ],
   "source": [
    "facet = sns.FacetGrid(data1, hue=\"target\",aspect=4)\n",
    "facet.map(sns.kdeplot,'business_type',shade= True)\n",
    "facet.set(xlim=(0, data1['business_type'].max()))\n",
    "facet.add_legend();"
   ]
  },
  {
   "cell_type": "markdown",
   "metadata": {},
   "source": [
    "- for business_type of manufactureing ,high chances of getting loan"
   ]
  },
  {
   "cell_type": "code",
   "execution_count": 161,
   "metadata": {},
   "outputs": [
    {
     "data": {
      "image/png": "[encoded data removed]",
      "text/plain": [
       "<Figure size 906.375x216 with 1 Axes>"
      ]
     },
     "metadata": {
      "needs_background": "light"
     },
     "output_type": "display_data"
    }
   ],
   "source": [
    "facet = sns.FacetGrid(data1, hue=\"target\",aspect=4)\n",
    "facet.map(sns.kdeplot,'business_sector',shade= True)\n",
    "facet.set(xlim=(0, data1['business_sector'].max()))\n",
    "facet.add_legend();"
   ]
  },
  {
   "cell_type": "markdown",
   "metadata": {},
   "source": [
    "- for business_sector from 4 to 7 ie Machine omponets ,wood,Fabrications, Food ,they are high chances of getting loan\n",
    "- for business_sector 20 ie education ,low chances of getting loan"
   ]
  },
  {
   "cell_type": "code",
   "execution_count": 162,
   "metadata": {},
   "outputs": [
    {
     "data": {
      "image/png": "[encoded data removed]",
      "text/plain": [
       "<Figure size 906.375x216 with 1 Axes>"
      ]
     },
     "metadata": {
      "needs_background": "light"
     },
     "output_type": "display_data"
    }
   ],
   "source": [
    "facet = sns.FacetGrid(data1, hue=\"target\",aspect=4)\n",
    "facet.map(sns.kdeplot,'business_activity',shade= True)\n",
    "facet.set(xlim=(0, data1['business_activity'].max()))\n",
    "facet.add_legend();"
   ]
  },
  {
   "cell_type": "markdown",
   "metadata": {},
   "source": [
    "- for business activity 3 , ie Sales they're high chances of getting loan\n",
    "- for other business activity the chances of getting loan is 50-50%"
   ]
  },
  {
   "cell_type": "code",
   "execution_count": 252,
   "metadata": {},
   "outputs": [],
   "source": [
    "#lets create a bar function\n",
    "def bar_chart(feature):\n",
    "    yes = data1[data1['target']==1][feature].value_counts()\n",
    "    no = data1[data1['target']==0][feature].value_counts()\n",
    "    df = pd.DataFrame([yes,no])\n",
    "    df.index = ['yes','no']\n",
    "    df.plot(kind='bar',stacked=True, figsize=(10,5))"
   ]
  },
  {
   "cell_type": "code",
   "execution_count": 253,
   "metadata": {},
   "outputs": [
    {
     "data": {
      "image/png": "[encoded data removed]",
      "text/plain": [
       "<Figure size 720x360 with 1 Axes>"
      ]
     },
     "metadata": {
      "needs_background": "light"
     },
     "output_type": "display_data"
    }
   ],
   "source": [
    "bar_chart('product_code')  \n",
    "## product code \" ICBDS\" has higher chances of getting loan"
   ]
  },
  {
   "cell_type": "code",
   "execution_count": 255,
   "metadata": {},
   "outputs": [
    {
     "data": {
      "image/png": "[encoded data removed]",
      "text/plain": [
       "<Figure size 720x360 with 1 Axes>"
      ]
     },
     "metadata": {
      "needs_background": "light"
     },
     "output_type": "display_data"
    }
   ],
   "source": [
    "bar_chart('business_activity')"
   ]
  },
  {
   "cell_type": "code",
   "execution_count": 256,
   "metadata": {},
   "outputs": [
    {
     "data": {
      "image/png": "[encoded data removed]",
      "text/plain": [
       "<Figure size 720x360 with 1 Axes>"
      ]
     },
     "metadata": {
      "needs_background": "light"
     },
     "output_type": "display_data"
    }
   ],
   "source": [
    "bar_chart('business_type')"
   ]
  },
  {
   "cell_type": "code",
   "execution_count": 257,
   "metadata": {},
   "outputs": [
    {
     "data": {
      "image/png": "[encoded data removed]",
      "text/plain": [
       "<Figure size 720x360 with 1 Axes>"
      ]
     },
     "metadata": {
      "needs_background": "light"
     },
     "output_type": "display_data"
    }
   ],
   "source": [
    "bar_chart('BusinFormalityOfTheBusinessui')  ##  customers with cash and non banked having high no. of sucessfull loan approaval"
   ]
  },
  {
   "cell_type": "markdown",
   "metadata": {},
   "source": [
    "- importing with mode values is not a currect choice since the values of product_code is significanly varing with hub_id ,Business_activity,Business_type\n",
    "- i can go with KNN imputation"
   ]
  },
  {
   "cell_type": "markdown",
   "metadata": {},
   "source": [
    "## Adding a another feature says secured or unsecured product (Feature Engineering)"
   ]
  },
  {
   "cell_type": "code",
   "execution_count": 165,
   "metadata": {},
   "outputs": [],
   "source": [
    "def get(x):\n",
    "    if x!=None:\n",
    "        p=list(x)\n",
    "        return p[4]\n",
    "    else:  \n",
    "        return None"
   ]
  },
  {
   "cell_type": "code",
   "execution_count": 166,
   "metadata": {},
   "outputs": [
    {
     "name": "stderr",
     "output_type": "stream",
     "text": [
      "C:\\Users\\sreekar chidurala\\Anaconda3\\envs\\sreekar\\lib\\site-packages\\ipykernel_launcher.py:1: SettingWithCopyWarning: \n",
      "A value is trying to be set on a copy of a slice from a DataFrame.\n",
      "Try using .loc[row_indexer,col_indexer] = value instead\n",
      "\n",
      "See the caveats in the documentation: http://pandas.pydata.org/pandas-docs/stable/indexing.html#indexing-view-versus-copy\n",
      "  \"\"\"Entry point for launching an IPython kernel.\n"
     ]
    }
   ],
   "source": [
    "data1['product_type']=data.product_code.map(lambda x : get(x))"
   ]
  },
  {
   "cell_type": "code",
   "execution_count": 167,
   "metadata": {},
   "outputs": [
    {
     "name": "stderr",
     "output_type": "stream",
     "text": [
      "C:\\Users\\sreekar chidurala\\Anaconda3\\envs\\sreekar\\lib\\site-packages\\ipykernel_launcher.py:1: SettingWithCopyWarning: \n",
      "A value is trying to be set on a copy of a slice from a DataFrame.\n",
      "Try using .loc[row_indexer,col_indexer] = value instead\n",
      "\n",
      "See the caveats in the documentation: http://pandas.pydata.org/pandas-docs/stable/indexing.html#indexing-view-versus-copy\n",
      "  \"\"\"Entry point for launching an IPython kernel.\n"
     ]
    }
   ],
   "source": [
    "data1[\"product_type\"]=data1.product_type.apply(lambda x : \"Unsecured\" if x=='U' else 'Secured')"
   ]
  },
  {
   "cell_type": "code",
   "execution_count": 168,
   "metadata": {},
   "outputs": [
    {
     "data": {
      "text/html": [
       "<div>\n",
       "<style scoped>\n",
       "    .dataframe tbody tr th:only-of-type {\n",
       "        vertical-align: middle;\n",
       "    }\n",
       "\n",
       "    .dataframe tbody tr th {\n",
       "        vertical-align: top;\n",
       "    }\n",
       "\n",
       "    .dataframe thead th {\n",
       "        text-align: right;\n",
       "    }\n",
       "</style>\n",
       "<table border=\"1\" class=\"dataframe\">\n",
       "  <thead>\n",
       "    <tr style=\"text-align: right;\">\n",
       "      <th></th>\n",
       "      <th>loan_id</th>\n",
       "      <th>account_number</th>\n",
       "      <th>customer_id</th>\n",
       "      <th>enterprise_id</th>\n",
       "      <th>screening_date</th>\n",
       "      <th>product_code</th>\n",
       "      <th>hub_id</th>\n",
       "      <th>ManagAgeui_APP</th>\n",
       "      <th>BusinFormalityOfTheBusinessui</th>\n",
       "      <th>ManagCBscoreui_APP</th>\n",
       "      <th>business_type</th>\n",
       "      <th>business_activity</th>\n",
       "      <th>business_sector</th>\n",
       "      <th>net_disbursement_magnitude</th>\n",
       "      <th>transaction_Date</th>\n",
       "      <th>target</th>\n",
       "      <th>product_type</th>\n",
       "    </tr>\n",
       "  </thead>\n",
       "  <tbody>\n",
       "    <tr>\n",
       "      <th>0</th>\n",
       "      <td>5692</td>\n",
       "      <td>TLMFS0000055</td>\n",
       "      <td>17850</td>\n",
       "      <td>6278</td>\n",
       "      <td>2017-03-07</td>\n",
       "      <td>1.0</td>\n",
       "      <td>46</td>\n",
       "      <td>32</td>\n",
       "      <td>1.0</td>\n",
       "      <td>0</td>\n",
       "      <td>1</td>\n",
       "      <td>1</td>\n",
       "      <td>1.0</td>\n",
       "      <td>345909.0</td>\n",
       "      <td>2017-02-28</td>\n",
       "      <td>1</td>\n",
       "      <td>Secured</td>\n",
       "    </tr>\n",
       "    <tr>\n",
       "      <th>1</th>\n",
       "      <td>6190</td>\n",
       "      <td>TLWCU0001219</td>\n",
       "      <td>17857</td>\n",
       "      <td>6280</td>\n",
       "      <td>2017-03-07</td>\n",
       "      <td>2.0</td>\n",
       "      <td>32</td>\n",
       "      <td>35</td>\n",
       "      <td>1.0</td>\n",
       "      <td>0</td>\n",
       "      <td>2</td>\n",
       "      <td>2</td>\n",
       "      <td>2.0</td>\n",
       "      <td>144157.0</td>\n",
       "      <td>2017-02-28</td>\n",
       "      <td>1</td>\n",
       "      <td>Unsecured</td>\n",
       "    </tr>\n",
       "    <tr>\n",
       "      <th>2</th>\n",
       "      <td>6191</td>\n",
       "      <td>TLAPS0000292</td>\n",
       "      <td>9481</td>\n",
       "      <td>2916</td>\n",
       "      <td>2017-03-07</td>\n",
       "      <td>3.0</td>\n",
       "      <td>32</td>\n",
       "      <td>32</td>\n",
       "      <td>1.0</td>\n",
       "      <td>0</td>\n",
       "      <td>1</td>\n",
       "      <td>3</td>\n",
       "      <td>3.0</td>\n",
       "      <td>484931.0</td>\n",
       "      <td>2017-03-23</td>\n",
       "      <td>1</td>\n",
       "      <td>Secured</td>\n",
       "    </tr>\n",
       "    <tr>\n",
       "      <th>3</th>\n",
       "      <td>6192</td>\n",
       "      <td>LCRIU0000019</td>\n",
       "      <td>6597</td>\n",
       "      <td>32</td>\n",
       "      <td>2017-03-10</td>\n",
       "      <td>4.0</td>\n",
       "      <td>32</td>\n",
       "      <td>None</td>\n",
       "      <td>NaN</td>\n",
       "      <td>None</td>\n",
       "      <td>1</td>\n",
       "      <td>4</td>\n",
       "      <td>1.0</td>\n",
       "      <td>683859.0</td>\n",
       "      <td>2017-03-13</td>\n",
       "      <td>1</td>\n",
       "      <td>Unsecured</td>\n",
       "    </tr>\n",
       "    <tr>\n",
       "      <th>4</th>\n",
       "      <td>6193</td>\n",
       "      <td>LCRIU0000020</td>\n",
       "      <td>9732</td>\n",
       "      <td>3167</td>\n",
       "      <td>2017-03-13</td>\n",
       "      <td>4.0</td>\n",
       "      <td>32</td>\n",
       "      <td>39</td>\n",
       "      <td>1.0</td>\n",
       "      <td>548</td>\n",
       "      <td>1</td>\n",
       "      <td>1</td>\n",
       "      <td>1.0</td>\n",
       "      <td>896703.0</td>\n",
       "      <td>2017-03-15</td>\n",
       "      <td>1</td>\n",
       "      <td>Unsecured</td>\n",
       "    </tr>\n",
       "  </tbody>\n",
       "</table>\n",
       "</div>"
      ],
      "text/plain": [
       "   loan_id account_number  customer_id  enterprise_id screening_date  \\\n",
       "0     5692   TLMFS0000055        17850           6278     2017-03-07   \n",
       "1     6190   TLWCU0001219        17857           6280     2017-03-07   \n",
       "2     6191   TLAPS0000292         9481           2916     2017-03-07   \n",
       "3     6192   LCRIU0000019         6597             32     2017-03-10   \n",
       "4     6193   LCRIU0000020         9732           3167     2017-03-13   \n",
       "\n",
       "   product_code  hub_id ManagAgeui_APP  BusinFormalityOfTheBusinessui  \\\n",
       "0           1.0      46             32                            1.0   \n",
       "1           2.0      32             35                            1.0   \n",
       "2           3.0      32             32                            1.0   \n",
       "3           4.0      32           None                            NaN   \n",
       "4           4.0      32             39                            1.0   \n",
       "\n",
       "  ManagCBscoreui_APP  business_type  business_activity  business_sector  \\\n",
       "0                  0              1                  1              1.0   \n",
       "1                  0              2                  2              2.0   \n",
       "2                  0              1                  3              3.0   \n",
       "3               None              1                  4              1.0   \n",
       "4                548              1                  1              1.0   \n",
       "\n",
       "   net_disbursement_magnitude transaction_Date  target product_type  \n",
       "0                    345909.0       2017-02-28       1      Secured  \n",
       "1                    144157.0       2017-02-28       1    Unsecured  \n",
       "2                    484931.0       2017-03-23       1      Secured  \n",
       "3                    683859.0       2017-03-13       1    Unsecured  \n",
       "4                    896703.0       2017-03-15       1    Unsecured  "
      ]
     },
     "execution_count": 168,
     "metadata": {},
     "output_type": "execute_result"
    }
   ],
   "source": [
    "data1.head()"
   ]
  },
  {
   "cell_type": "code",
   "execution_count": 169,
   "metadata": {},
   "outputs": [
    {
     "data": {
      "text/plain": [
       "product_type  target\n",
       "Secured       0         1078\n",
       "              1          653\n",
       "Unsecured     1          894\n",
       "              0           37\n",
       "Name: target, dtype: int64"
      ]
     },
     "execution_count": 169,
     "metadata": {},
     "output_type": "execute_result"
    }
   ],
   "source": [
    "data1.groupby(\"product_type\").target.value_counts()"
   ]
  },
  {
   "cell_type": "code",
   "execution_count": 170,
   "metadata": {},
   "outputs": [
    {
     "data": {
      "text/plain": [
       "<matplotlib.axes._subplots.AxesSubplot at 0x179f1c87940>"
      ]
     },
     "execution_count": 170,
     "metadata": {},
     "output_type": "execute_result"
    },
    {
     "data": {
      "image/png": "[encoded data removed]",
      "text/plain": [
       "<Figure size 432x288 with 1 Axes>"
      ]
     },
     "metadata": {
      "needs_background": "light"
     },
     "output_type": "display_data"
    }
   ],
   "source": [
    "data1.groupby(\"product_type\").target.value_counts().plot(kind=\"barh\")"
   ]
  },
  {
   "cell_type": "code",
   "execution_count": 171,
   "metadata": {},
   "outputs": [
    {
     "data": {
      "text/html": [
       "<div>\n",
       "<style scoped>\n",
       "    .dataframe tbody tr th:only-of-type {\n",
       "        vertical-align: middle;\n",
       "    }\n",
       "\n",
       "    .dataframe tbody tr th {\n",
       "        vertical-align: top;\n",
       "    }\n",
       "\n",
       "    .dataframe thead th {\n",
       "        text-align: right;\n",
       "    }\n",
       "</style>\n",
       "<table border=\"1\" class=\"dataframe\">\n",
       "  <thead>\n",
       "    <tr style=\"text-align: right;\">\n",
       "      <th></th>\n",
       "      <th>loan_id</th>\n",
       "      <th>account_number</th>\n",
       "      <th>customer_id</th>\n",
       "      <th>enterprise_id</th>\n",
       "      <th>screening_date</th>\n",
       "      <th>product_code</th>\n",
       "      <th>hub_id</th>\n",
       "      <th>ManagAgeui_APP</th>\n",
       "      <th>BusinFormalityOfTheBusinessui</th>\n",
       "      <th>ManagCBscoreui_APP</th>\n",
       "      <th>business_type</th>\n",
       "      <th>business_activity</th>\n",
       "      <th>business_sector</th>\n",
       "      <th>net_disbursement_magnitude</th>\n",
       "      <th>transaction_Date</th>\n",
       "      <th>target</th>\n",
       "      <th>product_type</th>\n",
       "    </tr>\n",
       "  </thead>\n",
       "  <tbody>\n",
       "    <tr>\n",
       "      <th>0</th>\n",
       "      <td>5692</td>\n",
       "      <td>TLMFS0000055</td>\n",
       "      <td>17850</td>\n",
       "      <td>6278</td>\n",
       "      <td>2017-03-07</td>\n",
       "      <td>1.0</td>\n",
       "      <td>46</td>\n",
       "      <td>32</td>\n",
       "      <td>1.0</td>\n",
       "      <td>0</td>\n",
       "      <td>1</td>\n",
       "      <td>1</td>\n",
       "      <td>1.0</td>\n",
       "      <td>345909.0</td>\n",
       "      <td>2017-02-28</td>\n",
       "      <td>1</td>\n",
       "      <td>Secured</td>\n",
       "    </tr>\n",
       "    <tr>\n",
       "      <th>1</th>\n",
       "      <td>6190</td>\n",
       "      <td>TLWCU0001219</td>\n",
       "      <td>17857</td>\n",
       "      <td>6280</td>\n",
       "      <td>2017-03-07</td>\n",
       "      <td>2.0</td>\n",
       "      <td>32</td>\n",
       "      <td>35</td>\n",
       "      <td>1.0</td>\n",
       "      <td>0</td>\n",
       "      <td>2</td>\n",
       "      <td>2</td>\n",
       "      <td>2.0</td>\n",
       "      <td>144157.0</td>\n",
       "      <td>2017-02-28</td>\n",
       "      <td>1</td>\n",
       "      <td>Unsecured</td>\n",
       "    </tr>\n",
       "    <tr>\n",
       "      <th>2</th>\n",
       "      <td>6191</td>\n",
       "      <td>TLAPS0000292</td>\n",
       "      <td>9481</td>\n",
       "      <td>2916</td>\n",
       "      <td>2017-03-07</td>\n",
       "      <td>3.0</td>\n",
       "      <td>32</td>\n",
       "      <td>32</td>\n",
       "      <td>1.0</td>\n",
       "      <td>0</td>\n",
       "      <td>1</td>\n",
       "      <td>3</td>\n",
       "      <td>3.0</td>\n",
       "      <td>484931.0</td>\n",
       "      <td>2017-03-23</td>\n",
       "      <td>1</td>\n",
       "      <td>Secured</td>\n",
       "    </tr>\n",
       "    <tr>\n",
       "      <th>3</th>\n",
       "      <td>6192</td>\n",
       "      <td>LCRIU0000019</td>\n",
       "      <td>6597</td>\n",
       "      <td>32</td>\n",
       "      <td>2017-03-10</td>\n",
       "      <td>4.0</td>\n",
       "      <td>32</td>\n",
       "      <td>None</td>\n",
       "      <td>NaN</td>\n",
       "      <td>None</td>\n",
       "      <td>1</td>\n",
       "      <td>4</td>\n",
       "      <td>1.0</td>\n",
       "      <td>683859.0</td>\n",
       "      <td>2017-03-13</td>\n",
       "      <td>1</td>\n",
       "      <td>Unsecured</td>\n",
       "    </tr>\n",
       "    <tr>\n",
       "      <th>4</th>\n",
       "      <td>6193</td>\n",
       "      <td>LCRIU0000020</td>\n",
       "      <td>9732</td>\n",
       "      <td>3167</td>\n",
       "      <td>2017-03-13</td>\n",
       "      <td>4.0</td>\n",
       "      <td>32</td>\n",
       "      <td>39</td>\n",
       "      <td>1.0</td>\n",
       "      <td>548</td>\n",
       "      <td>1</td>\n",
       "      <td>1</td>\n",
       "      <td>1.0</td>\n",
       "      <td>896703.0</td>\n",
       "      <td>2017-03-15</td>\n",
       "      <td>1</td>\n",
       "      <td>Unsecured</td>\n",
       "    </tr>\n",
       "  </tbody>\n",
       "</table>\n",
       "</div>"
      ],
      "text/plain": [
       "   loan_id account_number  customer_id  enterprise_id screening_date  \\\n",
       "0     5692   TLMFS0000055        17850           6278     2017-03-07   \n",
       "1     6190   TLWCU0001219        17857           6280     2017-03-07   \n",
       "2     6191   TLAPS0000292         9481           2916     2017-03-07   \n",
       "3     6192   LCRIU0000019         6597             32     2017-03-10   \n",
       "4     6193   LCRIU0000020         9732           3167     2017-03-13   \n",
       "\n",
       "   product_code  hub_id ManagAgeui_APP  BusinFormalityOfTheBusinessui  \\\n",
       "0           1.0      46             32                            1.0   \n",
       "1           2.0      32             35                            1.0   \n",
       "2           3.0      32             32                            1.0   \n",
       "3           4.0      32           None                            NaN   \n",
       "4           4.0      32             39                            1.0   \n",
       "\n",
       "  ManagCBscoreui_APP  business_type  business_activity  business_sector  \\\n",
       "0                  0              1                  1              1.0   \n",
       "1                  0              2                  2              2.0   \n",
       "2                  0              1                  3              3.0   \n",
       "3               None              1                  4              1.0   \n",
       "4                548              1                  1              1.0   \n",
       "\n",
       "   net_disbursement_magnitude transaction_Date  target product_type  \n",
       "0                    345909.0       2017-02-28       1      Secured  \n",
       "1                    144157.0       2017-02-28       1    Unsecured  \n",
       "2                    484931.0       2017-03-23       1      Secured  \n",
       "3                    683859.0       2017-03-13       1    Unsecured  \n",
       "4                    896703.0       2017-03-15       1    Unsecured  "
      ]
     },
     "execution_count": 171,
     "metadata": {},
     "output_type": "execute_result"
    }
   ],
   "source": [
    "data1.head()"
   ]
  },
  {
   "cell_type": "markdown",
   "metadata": {},
   "source": [
    "#### My main aim is to create a model which says what kind of customer is most likely to get loan"
   ]
  },
  {
   "cell_type": "code",
   "execution_count": 172,
   "metadata": {},
   "outputs": [],
   "source": [
    "## removing unrelevent features\n",
    "# adding features which explains the loan acceptance or rejection"
   ]
  },
  {
   "cell_type": "code",
   "execution_count": 173,
   "metadata": {},
   "outputs": [],
   "source": [
    "rm_data=data1.drop([\"loan_id\",\"hub_id\",\"screening_date\",\"account_number\",\"customer_id\",\"enterprise_id\",\"net_disbursement_magnitude\",\"transaction_Date\"],1)"
   ]
  },
  {
   "cell_type": "code",
   "execution_count": 174,
   "metadata": {},
   "outputs": [
    {
     "data": {
      "text/plain": [
       "(2662, 9)"
      ]
     },
     "execution_count": 174,
     "metadata": {},
     "output_type": "execute_result"
    }
   ],
   "source": [
    "rm_data.shape"
   ]
  },
  {
   "cell_type": "code",
   "execution_count": 175,
   "metadata": {},
   "outputs": [
    {
     "data": {
      "text/html": [
       "<div>\n",
       "<style scoped>\n",
       "    .dataframe tbody tr th:only-of-type {\n",
       "        vertical-align: middle;\n",
       "    }\n",
       "\n",
       "    .dataframe tbody tr th {\n",
       "        vertical-align: top;\n",
       "    }\n",
       "\n",
       "    .dataframe thead th {\n",
       "        text-align: right;\n",
       "    }\n",
       "</style>\n",
       "<table border=\"1\" class=\"dataframe\">\n",
       "  <thead>\n",
       "    <tr style=\"text-align: right;\">\n",
       "      <th></th>\n",
       "      <th>product_code</th>\n",
       "      <th>ManagAgeui_APP</th>\n",
       "      <th>BusinFormalityOfTheBusinessui</th>\n",
       "      <th>ManagCBscoreui_APP</th>\n",
       "      <th>business_type</th>\n",
       "      <th>business_activity</th>\n",
       "      <th>business_sector</th>\n",
       "      <th>target</th>\n",
       "      <th>product_type</th>\n",
       "    </tr>\n",
       "  </thead>\n",
       "  <tbody>\n",
       "    <tr>\n",
       "      <th>0</th>\n",
       "      <td>1.0</td>\n",
       "      <td>32</td>\n",
       "      <td>1.0</td>\n",
       "      <td>0</td>\n",
       "      <td>1</td>\n",
       "      <td>1</td>\n",
       "      <td>1.0</td>\n",
       "      <td>1</td>\n",
       "      <td>Secured</td>\n",
       "    </tr>\n",
       "    <tr>\n",
       "      <th>1</th>\n",
       "      <td>2.0</td>\n",
       "      <td>35</td>\n",
       "      <td>1.0</td>\n",
       "      <td>0</td>\n",
       "      <td>2</td>\n",
       "      <td>2</td>\n",
       "      <td>2.0</td>\n",
       "      <td>1</td>\n",
       "      <td>Unsecured</td>\n",
       "    </tr>\n",
       "    <tr>\n",
       "      <th>2</th>\n",
       "      <td>3.0</td>\n",
       "      <td>32</td>\n",
       "      <td>1.0</td>\n",
       "      <td>0</td>\n",
       "      <td>1</td>\n",
       "      <td>3</td>\n",
       "      <td>3.0</td>\n",
       "      <td>1</td>\n",
       "      <td>Secured</td>\n",
       "    </tr>\n",
       "    <tr>\n",
       "      <th>3</th>\n",
       "      <td>4.0</td>\n",
       "      <td>None</td>\n",
       "      <td>NaN</td>\n",
       "      <td>None</td>\n",
       "      <td>1</td>\n",
       "      <td>4</td>\n",
       "      <td>1.0</td>\n",
       "      <td>1</td>\n",
       "      <td>Unsecured</td>\n",
       "    </tr>\n",
       "    <tr>\n",
       "      <th>4</th>\n",
       "      <td>4.0</td>\n",
       "      <td>39</td>\n",
       "      <td>1.0</td>\n",
       "      <td>548</td>\n",
       "      <td>1</td>\n",
       "      <td>1</td>\n",
       "      <td>1.0</td>\n",
       "      <td>1</td>\n",
       "      <td>Unsecured</td>\n",
       "    </tr>\n",
       "  </tbody>\n",
       "</table>\n",
       "</div>"
      ],
      "text/plain": [
       "   product_code ManagAgeui_APP  BusinFormalityOfTheBusinessui  \\\n",
       "0           1.0             32                            1.0   \n",
       "1           2.0             35                            1.0   \n",
       "2           3.0             32                            1.0   \n",
       "3           4.0           None                            NaN   \n",
       "4           4.0             39                            1.0   \n",
       "\n",
       "  ManagCBscoreui_APP  business_type  business_activity  business_sector  \\\n",
       "0                  0              1                  1              1.0   \n",
       "1                  0              2                  2              2.0   \n",
       "2                  0              1                  3              3.0   \n",
       "3               None              1                  4              1.0   \n",
       "4                548              1                  1              1.0   \n",
       "\n",
       "   target product_type  \n",
       "0       1      Secured  \n",
       "1       1    Unsecured  \n",
       "2       1      Secured  \n",
       "3       1    Unsecured  \n",
       "4       1    Unsecured  "
      ]
     },
     "execution_count": 175,
     "metadata": {},
     "output_type": "execute_result"
    }
   ],
   "source": [
    "rm_data.head()"
   ]
  },
  {
   "cell_type": "markdown",
   "metadata": {},
   "source": [
    "- for imputing missing values ,i'll use KNN imputation"
   ]
  },
  {
   "cell_type": "markdown",
   "metadata": {},
   "source": [
    "### lets lebel the category variables "
   ]
  },
  {
   "cell_type": "code",
   "execution_count": 176,
   "metadata": {},
   "outputs": [],
   "source": [
    "rm_data[\"product_type\"]=rm_data.product_type.map({\"Secured\":0,\"Unsecured\":1})"
   ]
  },
  {
   "cell_type": "code",
   "execution_count": 177,
   "metadata": {},
   "outputs": [
    {
     "data": {
      "text/html": [
       "<div>\n",
       "<style scoped>\n",
       "    .dataframe tbody tr th:only-of-type {\n",
       "        vertical-align: middle;\n",
       "    }\n",
       "\n",
       "    .dataframe tbody tr th {\n",
       "        vertical-align: top;\n",
       "    }\n",
       "\n",
       "    .dataframe thead th {\n",
       "        text-align: right;\n",
       "    }\n",
       "</style>\n",
       "<table border=\"1\" class=\"dataframe\">\n",
       "  <thead>\n",
       "    <tr style=\"text-align: right;\">\n",
       "      <th></th>\n",
       "      <th>product_code</th>\n",
       "      <th>ManagAgeui_APP</th>\n",
       "      <th>BusinFormalityOfTheBusinessui</th>\n",
       "      <th>ManagCBscoreui_APP</th>\n",
       "      <th>business_type</th>\n",
       "      <th>business_activity</th>\n",
       "      <th>business_sector</th>\n",
       "      <th>target</th>\n",
       "      <th>product_type</th>\n",
       "    </tr>\n",
       "  </thead>\n",
       "  <tbody>\n",
       "    <tr>\n",
       "      <th>0</th>\n",
       "      <td>1.0</td>\n",
       "      <td>32</td>\n",
       "      <td>1.0</td>\n",
       "      <td>0</td>\n",
       "      <td>1</td>\n",
       "      <td>1</td>\n",
       "      <td>1.0</td>\n",
       "      <td>1</td>\n",
       "      <td>0</td>\n",
       "    </tr>\n",
       "    <tr>\n",
       "      <th>1</th>\n",
       "      <td>2.0</td>\n",
       "      <td>35</td>\n",
       "      <td>1.0</td>\n",
       "      <td>0</td>\n",
       "      <td>2</td>\n",
       "      <td>2</td>\n",
       "      <td>2.0</td>\n",
       "      <td>1</td>\n",
       "      <td>1</td>\n",
       "    </tr>\n",
       "    <tr>\n",
       "      <th>2</th>\n",
       "      <td>3.0</td>\n",
       "      <td>32</td>\n",
       "      <td>1.0</td>\n",
       "      <td>0</td>\n",
       "      <td>1</td>\n",
       "      <td>3</td>\n",
       "      <td>3.0</td>\n",
       "      <td>1</td>\n",
       "      <td>0</td>\n",
       "    </tr>\n",
       "    <tr>\n",
       "      <th>3</th>\n",
       "      <td>4.0</td>\n",
       "      <td>None</td>\n",
       "      <td>NaN</td>\n",
       "      <td>None</td>\n",
       "      <td>1</td>\n",
       "      <td>4</td>\n",
       "      <td>1.0</td>\n",
       "      <td>1</td>\n",
       "      <td>1</td>\n",
       "    </tr>\n",
       "    <tr>\n",
       "      <th>4</th>\n",
       "      <td>4.0</td>\n",
       "      <td>39</td>\n",
       "      <td>1.0</td>\n",
       "      <td>548</td>\n",
       "      <td>1</td>\n",
       "      <td>1</td>\n",
       "      <td>1.0</td>\n",
       "      <td>1</td>\n",
       "      <td>1</td>\n",
       "    </tr>\n",
       "  </tbody>\n",
       "</table>\n",
       "</div>"
      ],
      "text/plain": [
       "   product_code ManagAgeui_APP  BusinFormalityOfTheBusinessui  \\\n",
       "0           1.0             32                            1.0   \n",
       "1           2.0             35                            1.0   \n",
       "2           3.0             32                            1.0   \n",
       "3           4.0           None                            NaN   \n",
       "4           4.0             39                            1.0   \n",
       "\n",
       "  ManagCBscoreui_APP  business_type  business_activity  business_sector  \\\n",
       "0                  0              1                  1              1.0   \n",
       "1                  0              2                  2              2.0   \n",
       "2                  0              1                  3              3.0   \n",
       "3               None              1                  4              1.0   \n",
       "4                548              1                  1              1.0   \n",
       "\n",
       "   target  product_type  \n",
       "0       1             0  \n",
       "1       1             1  \n",
       "2       1             0  \n",
       "3       1             1  \n",
       "4       1             1  "
      ]
     },
     "execution_count": 177,
     "metadata": {},
     "output_type": "execute_result"
    }
   ],
   "source": [
    "rm_data.head()"
   ]
  },
  {
   "cell_type": "markdown",
   "metadata": {},
   "source": [
    "# Handling missing values"
   ]
  },
  {
   "cell_type": "code",
   "execution_count": 260,
   "metadata": {},
   "outputs": [
    {
     "data": {
      "text/plain": [
       "loan_id                             0\n",
       "account_number                   1115\n",
       "customer_id                         0\n",
       "enterprise_id                       0\n",
       "screening_date                      0\n",
       "product_code                     1056\n",
       "hub_id                              0\n",
       "ManagAgeui_APP                    703\n",
       "BusinFormalityOfTheBusinessui     631\n",
       "ManagCBscoreui_APP                703\n",
       "business_type                       0\n",
       "business_activity                   0\n",
       "business_sector                     2\n",
       "net_disbursement_magnitude       1117\n",
       "transaction_Date                 1117\n",
       "target                              0\n",
       "product_type                        0\n",
       "dtype: int64"
      ]
     },
     "execution_count": 260,
     "metadata": {},
     "output_type": "execute_result"
    }
   ],
   "source": [
    "data1.isnull().sum()"
   ]
  },
  {
   "cell_type": "code",
   "execution_count": 259,
   "metadata": {},
   "outputs": [
    {
     "data": {
      "text/plain": [
       "hub_id  BusinFormalityOfTheBusinessui  business_activity  business_type  product_code\n",
       "3       Cash & Non Banked              Job Work           Manufacturing  TLWCS           1\n",
       "                                       Job Work & Sales   Manufacturing  TLWCS           6\n",
       "                                                                         TLWCU           2\n",
       "                                                                         LCRDU           1\n",
       "                                       Retail             Trading        TLWCU           6\n",
       "                                                                         LCRDU           1\n",
       "                                       Sales              Manufacturing  TLWCS           3\n",
       "                                                                         TLWCU           3\n",
       "                                                                         ICWCS           1\n",
       "                                                                         LCRDU           1\n",
       "                                                                         TLBDU           1\n",
       "                                       Whole Sale         Trading        TLWCU           5\n",
       "                                                                         LCRDU           1\n",
       "        Invoice & Banked               Sales              Manufacturing  LCRDU           1\n",
       "                                                                         TLWCS           1\n",
       "                                                                         TLWCU           1\n",
       "        Invoice & Non Banked           Job Work & Sales   Manufacturing  TLWCS           2\n",
       "                                                                         TLWCU           2\n",
       "                                                                         TLAPS           1\n",
       "                                       Sales              Manufacturing  TLWCS           2\n",
       "                                                                         LCRDS           1\n",
       "                                                                         TLAPS           1\n",
       "                                       Whole Sale         Trading        LCRDU           1\n",
       "4       Cash & Non Banked              Job Work & Sales   Manufacturing  TLWCS           3\n",
       "                                                                         LCRDU           1\n",
       "                                                                         TLBDS           1\n",
       "                                                                         TLWCU           1\n",
       "                                       Retail             Trading        TLWCU           9\n",
       "                                                                         TLBDU           1\n",
       "                                       Sales              Manufacturing  TLWCU           2\n",
       "                                                                                        ..\n",
       "81      Cash & Non Banked              Job Work & Sales   Manufacturing  TLWCU           1\n",
       "                                       Retail             Trading        TLWCU           5\n",
       "                                       Sales              Manufacturing  TLWCU           1\n",
       "                                       Whole Sale         Trading        TLWCU           4\n",
       "        Invoice & Non Banked           Job Work & Sales   Manufacturing  TLWCS           1\n",
       "82      Cash & Non Banked              Job Work           Manufacturing  TLAPS           1\n",
       "                                       Job Work & Sales   Manufacturing  TLWCS           2\n",
       "                                       Retail             Trading        TLWCU           1\n",
       "                                       Sales              Manufacturing  TLWCU           1\n",
       "                                       Whole Sale         Trading        TLWCU           2\n",
       "84      Cash & Non Banked              Sales              Manufacturing  LCRDU           1\n",
       "                                                                         TLMFS           1\n",
       "                                                                         TLWCU           1\n",
       "        Invoice & Banked               Job Work & Sales   Manufacturing  TLWCS           1\n",
       "                                       Sales              Manufacturing  TLWCU           1\n",
       "87      Cash & Non Banked              Sales              Manufacturing  TLWCU           1\n",
       "                                       Whole Sale         Trading        TLWCU           1\n",
       "89      Cash & Non Banked              Whole Sale         Trading        TLWCU           1\n",
       "92      Cash & Non Banked              Job Work           Manufacturing  TLWCU           1\n",
       "                                       Job Work & Sales   Manufacturing  ICWCS           2\n",
       "                                                                         TLWCU           2\n",
       "                                       Retail             Trading        TLWCU           2\n",
       "                                       Sales              Manufacturing  TLWCU           8\n",
       "                                                                         TLAPS           2\n",
       "                                                                         ICWCS           1\n",
       "                                                                         TLWCS           1\n",
       "                                       Whole Sale         Trading        TLWCU           2\n",
       "97      Cash & Non Banked              Retail             Trading        TLBDU           1\n",
       "        Invoice & Non Banked           Job Work & Sales   Manufacturing  TLWCS           1\n",
       "                                                                         TLWCU           1\n",
       "Name: product_code, Length: 755, dtype: int64"
      ]
     },
     "execution_count": 259,
     "metadata": {},
     "output_type": "execute_result"
    }
   ],
   "source": [
    "data.groupby([\"hub_id\",\"BusinFormalityOfTheBusinessui\",\"business_activity\",\"business_type\"]).product_code.value_counts()"
   ]
  },
  {
   "cell_type": "markdown",
   "metadata": {},
   "source": [
    "## KNN Imputation for Missing Values"
   ]
  },
  {
   "cell_type": "code",
   "execution_count": 178,
   "metadata": {},
   "outputs": [],
   "source": [
    "#!pip3 install fancyimputer"
   ]
  },
  {
   "cell_type": "code",
   "execution_count": 179,
   "metadata": {},
   "outputs": [
    {
     "name": "stderr",
     "output_type": "stream",
     "text": [
      "Using TensorFlow backend.\n"
     ]
    },
    {
     "name": "stdout",
     "output_type": "stream",
     "text": [
      "Imputing row 1/2662 with 0 missing, elapsed time: 1.270\n",
      "Imputing row 101/2662 with 4 missing, elapsed time: 1.286\n",
      "Imputing row 201/2662 with 1 missing, elapsed time: 1.286\n",
      "Imputing row 301/2662 with 0 missing, elapsed time: 1.286\n",
      "Imputing row 401/2662 with 4 missing, elapsed time: 1.286\n",
      "Imputing row 501/2662 with 2 missing, elapsed time: 1.302\n",
      "Imputing row 601/2662 with 0 missing, elapsed time: 1.302\n",
      "Imputing row 701/2662 with 0 missing, elapsed time: 1.302\n",
      "Imputing row 801/2662 with 0 missing, elapsed time: 1.302\n",
      "Imputing row 901/2662 with 1 missing, elapsed time: 1.317\n",
      "Imputing row 1001/2662 with 4 missing, elapsed time: 1.317\n",
      "Imputing row 1101/2662 with 0 missing, elapsed time: 1.317\n",
      "Imputing row 1201/2662 with 4 missing, elapsed time: 1.317\n",
      "Imputing row 1301/2662 with 0 missing, elapsed time: 1.333\n",
      "Imputing row 1401/2662 with 0 missing, elapsed time: 1.333\n",
      "Imputing row 1501/2662 with 0 missing, elapsed time: 1.333\n",
      "Imputing row 1601/2662 with 4 missing, elapsed time: 1.348\n",
      "Imputing row 1701/2662 with 1 missing, elapsed time: 1.348\n",
      "Imputing row 1801/2662 with 0 missing, elapsed time: 1.348\n",
      "Imputing row 1901/2662 with 0 missing, elapsed time: 1.348\n",
      "Imputing row 2001/2662 with 0 missing, elapsed time: 1.364\n",
      "Imputing row 2101/2662 with 0 missing, elapsed time: 1.364\n",
      "Imputing row 2201/2662 with 0 missing, elapsed time: 1.364\n",
      "Imputing row 2301/2662 with 4 missing, elapsed time: 1.364\n",
      "Imputing row 2401/2662 with 4 missing, elapsed time: 1.380\n",
      "Imputing row 2501/2662 with 0 missing, elapsed time: 1.380\n",
      "Imputing row 2601/2662 with 1 missing, elapsed time: 1.380\n"
     ]
    }
   ],
   "source": [
    "from fancyimpute import KNN\n",
    "X_filled_knn = KNN(k=3).fit_transform(rm_data)"
   ]
  },
  {
   "cell_type": "code",
   "execution_count": 180,
   "metadata": {},
   "outputs": [],
   "source": [
    "fix_data=pd.DataFrame(X_filled_knn)"
   ]
  },
  {
   "cell_type": "code",
   "execution_count": 181,
   "metadata": {},
   "outputs": [],
   "source": [
    "fix_data=round(fix_data)"
   ]
  },
  {
   "cell_type": "code",
   "execution_count": 182,
   "metadata": {},
   "outputs": [
    {
     "data": {
      "text/html": [
       "<div>\n",
       "<style scoped>\n",
       "    .dataframe tbody tr th:only-of-type {\n",
       "        vertical-align: middle;\n",
       "    }\n",
       "\n",
       "    .dataframe tbody tr th {\n",
       "        vertical-align: top;\n",
       "    }\n",
       "\n",
       "    .dataframe thead th {\n",
       "        text-align: right;\n",
       "    }\n",
       "</style>\n",
       "<table border=\"1\" class=\"dataframe\">\n",
       "  <thead>\n",
       "    <tr style=\"text-align: right;\">\n",
       "      <th></th>\n",
       "      <th>0</th>\n",
       "      <th>1</th>\n",
       "      <th>2</th>\n",
       "      <th>3</th>\n",
       "      <th>4</th>\n",
       "      <th>5</th>\n",
       "      <th>6</th>\n",
       "      <th>7</th>\n",
       "      <th>8</th>\n",
       "    </tr>\n",
       "  </thead>\n",
       "  <tbody>\n",
       "    <tr>\n",
       "      <th>0</th>\n",
       "      <td>1.0</td>\n",
       "      <td>32.0</td>\n",
       "      <td>1.0</td>\n",
       "      <td>0.0</td>\n",
       "      <td>1.0</td>\n",
       "      <td>1.0</td>\n",
       "      <td>1.0</td>\n",
       "      <td>1.0</td>\n",
       "      <td>0.0</td>\n",
       "    </tr>\n",
       "    <tr>\n",
       "      <th>1</th>\n",
       "      <td>2.0</td>\n",
       "      <td>35.0</td>\n",
       "      <td>1.0</td>\n",
       "      <td>0.0</td>\n",
       "      <td>2.0</td>\n",
       "      <td>2.0</td>\n",
       "      <td>2.0</td>\n",
       "      <td>1.0</td>\n",
       "      <td>1.0</td>\n",
       "    </tr>\n",
       "    <tr>\n",
       "      <th>2</th>\n",
       "      <td>3.0</td>\n",
       "      <td>32.0</td>\n",
       "      <td>1.0</td>\n",
       "      <td>0.0</td>\n",
       "      <td>1.0</td>\n",
       "      <td>3.0</td>\n",
       "      <td>3.0</td>\n",
       "      <td>1.0</td>\n",
       "      <td>0.0</td>\n",
       "    </tr>\n",
       "    <tr>\n",
       "      <th>3</th>\n",
       "      <td>4.0</td>\n",
       "      <td>41.0</td>\n",
       "      <td>1.0</td>\n",
       "      <td>736.0</td>\n",
       "      <td>1.0</td>\n",
       "      <td>4.0</td>\n",
       "      <td>1.0</td>\n",
       "      <td>1.0</td>\n",
       "      <td>1.0</td>\n",
       "    </tr>\n",
       "    <tr>\n",
       "      <th>4</th>\n",
       "      <td>4.0</td>\n",
       "      <td>39.0</td>\n",
       "      <td>1.0</td>\n",
       "      <td>548.0</td>\n",
       "      <td>1.0</td>\n",
       "      <td>1.0</td>\n",
       "      <td>1.0</td>\n",
       "      <td>1.0</td>\n",
       "      <td>1.0</td>\n",
       "    </tr>\n",
       "  </tbody>\n",
       "</table>\n",
       "</div>"
      ],
      "text/plain": [
       "     0     1    2      3    4    5    6    7    8\n",
       "0  1.0  32.0  1.0    0.0  1.0  1.0  1.0  1.0  0.0\n",
       "1  2.0  35.0  1.0    0.0  2.0  2.0  2.0  1.0  1.0\n",
       "2  3.0  32.0  1.0    0.0  1.0  3.0  3.0  1.0  0.0\n",
       "3  4.0  41.0  1.0  736.0  1.0  4.0  1.0  1.0  1.0\n",
       "4  4.0  39.0  1.0  548.0  1.0  1.0  1.0  1.0  1.0"
      ]
     },
     "execution_count": 182,
     "metadata": {},
     "output_type": "execute_result"
    }
   ],
   "source": [
    "fix_data.head()"
   ]
  },
  {
   "cell_type": "code",
   "execution_count": 183,
   "metadata": {},
   "outputs": [],
   "source": [
    "fix_data.columns=[\"product_code\",\"ManagAgeui_APP\",\"BusinFormalityOfTheBusinessui\",\"ManagCBscoreui_APP\",\"business_type\",\"business_activity\",\"business_sector\",\"target\",\"product_type\"]"
   ]
  },
  {
   "cell_type": "code",
   "execution_count": 203,
   "metadata": {},
   "outputs": [
    {
     "data": {
      "text/html": [
       "<div>\n",
       "<style scoped>\n",
       "    .dataframe tbody tr th:only-of-type {\n",
       "        vertical-align: middle;\n",
       "    }\n",
       "\n",
       "    .dataframe tbody tr th {\n",
       "        vertical-align: top;\n",
       "    }\n",
       "\n",
       "    .dataframe thead th {\n",
       "        text-align: right;\n",
       "    }\n",
       "</style>\n",
       "<table border=\"1\" class=\"dataframe\">\n",
       "  <thead>\n",
       "    <tr style=\"text-align: right;\">\n",
       "      <th></th>\n",
       "      <th>product_code</th>\n",
       "      <th>ManagAgeui_APP</th>\n",
       "      <th>BusinFormalityOfTheBusinessui</th>\n",
       "      <th>ManagCBscoreui_APP</th>\n",
       "      <th>business_type</th>\n",
       "      <th>business_activity</th>\n",
       "      <th>business_sector</th>\n",
       "      <th>target</th>\n",
       "      <th>product_type</th>\n",
       "      <th>credit_score</th>\n",
       "    </tr>\n",
       "  </thead>\n",
       "  <tbody>\n",
       "    <tr>\n",
       "      <th>0</th>\n",
       "      <td>1.0</td>\n",
       "      <td>32.0</td>\n",
       "      <td>1.0</td>\n",
       "      <td>0</td>\n",
       "      <td>1.0</td>\n",
       "      <td>1.0</td>\n",
       "      <td>1.0</td>\n",
       "      <td>1.0</td>\n",
       "      <td>0.0</td>\n",
       "      <td>0</td>\n",
       "    </tr>\n",
       "    <tr>\n",
       "      <th>1</th>\n",
       "      <td>2.0</td>\n",
       "      <td>35.0</td>\n",
       "      <td>1.0</td>\n",
       "      <td>0</td>\n",
       "      <td>2.0</td>\n",
       "      <td>2.0</td>\n",
       "      <td>2.0</td>\n",
       "      <td>1.0</td>\n",
       "      <td>1.0</td>\n",
       "      <td>0</td>\n",
       "    </tr>\n",
       "    <tr>\n",
       "      <th>2</th>\n",
       "      <td>3.0</td>\n",
       "      <td>32.0</td>\n",
       "      <td>1.0</td>\n",
       "      <td>0</td>\n",
       "      <td>1.0</td>\n",
       "      <td>3.0</td>\n",
       "      <td>3.0</td>\n",
       "      <td>1.0</td>\n",
       "      <td>0.0</td>\n",
       "      <td>0</td>\n",
       "    </tr>\n",
       "    <tr>\n",
       "      <th>3</th>\n",
       "      <td>4.0</td>\n",
       "      <td>41.0</td>\n",
       "      <td>1.0</td>\n",
       "      <td>736</td>\n",
       "      <td>1.0</td>\n",
       "      <td>4.0</td>\n",
       "      <td>1.0</td>\n",
       "      <td>1.0</td>\n",
       "      <td>1.0</td>\n",
       "      <td>1</td>\n",
       "    </tr>\n",
       "    <tr>\n",
       "      <th>4</th>\n",
       "      <td>4.0</td>\n",
       "      <td>39.0</td>\n",
       "      <td>1.0</td>\n",
       "      <td>548</td>\n",
       "      <td>1.0</td>\n",
       "      <td>1.0</td>\n",
       "      <td>1.0</td>\n",
       "      <td>1.0</td>\n",
       "      <td>1.0</td>\n",
       "      <td>1</td>\n",
       "    </tr>\n",
       "  </tbody>\n",
       "</table>\n",
       "</div>"
      ],
      "text/plain": [
       "   product_code  ManagAgeui_APP  BusinFormalityOfTheBusinessui  \\\n",
       "0           1.0            32.0                            1.0   \n",
       "1           2.0            35.0                            1.0   \n",
       "2           3.0            32.0                            1.0   \n",
       "3           4.0            41.0                            1.0   \n",
       "4           4.0            39.0                            1.0   \n",
       "\n",
       "   ManagCBscoreui_APP  business_type  business_activity  business_sector  \\\n",
       "0                   0            1.0                1.0              1.0   \n",
       "1                   0            2.0                2.0              2.0   \n",
       "2                   0            1.0                3.0              3.0   \n",
       "3                 736            1.0                4.0              1.0   \n",
       "4                 548            1.0                1.0              1.0   \n",
       "\n",
       "   target  product_type  credit_score  \n",
       "0     1.0           0.0             0  \n",
       "1     1.0           1.0             0  \n",
       "2     1.0           0.0             0  \n",
       "3     1.0           1.0             1  \n",
       "4     1.0           1.0             1  "
      ]
     },
     "execution_count": 203,
     "metadata": {},
     "output_type": "execute_result"
    }
   ],
   "source": [
    "fix_data.head()"
   ]
  },
  {
   "cell_type": "code",
   "execution_count": 262,
   "metadata": {},
   "outputs": [],
   "source": [
    "features=fix_data.drop([\"target\",\"product_code\"],1)\n",
    "target=fix_data[\"target\"]"
   ]
  },
  {
   "cell_type": "code",
   "execution_count": 290,
   "metadata": {},
   "outputs": [],
   "source": [
    "from sklearn.model_selection import train_test_split\n",
    "\n",
    "train_x, test_x, y_train, y_test = train_test_split(features, target, test_size=0.2, random_state=0)"
   ]
  },
  {
   "cell_type": "markdown",
   "metadata": {},
   "source": [
    "## Scalling"
   ]
  },
  {
   "cell_type": "code",
   "execution_count": 291,
   "metadata": {},
   "outputs": [],
   "source": [
    "from sklearn.preprocessing import MaxAbsScaler\n",
    "scaler = MaxAbsScaler()\n",
    "scaler.fit(train_x)\n",
    "X_train = scaler.transform(train_x)\n",
    "X_test = scaler.transform(test_x)"
   ]
  },
  {
   "cell_type": "markdown",
   "metadata": {},
   "source": [
    "## Decision tree classifier"
   ]
  },
  {
   "cell_type": "code",
   "execution_count": 292,
   "metadata": {},
   "outputs": [
    {
     "name": "stdout",
     "output_type": "stream",
     "text": [
      "0.8367729831144465\n"
     ]
    }
   ],
   "source": [
    "from sklearn.tree import DecisionTreeClassifier\n",
    "from sklearn.neighbors import KNeighborsClassifier\n",
    "from sklearn.metrics import accuracy_score\n",
    "from sklearn import metrics\n",
    "DTClassifier= DecisionTreeClassifier (max_depth=200,criterion='gini',min_samples_leaf=9)\n",
    "DTClassifier.fit(X_train,y_train)\n",
    "predicted_labels = DTClassifier.predict(X_test)\n",
    "accuracy_score= accuracy_score(y_test, predicted_labels)\n",
    "print(accuracy_score)"
   ]
  },
  {
   "cell_type": "markdown",
   "metadata": {},
   "source": [
    "## Random Forest Classifier"
   ]
  },
  {
   "cell_type": "code",
   "execution_count": 293,
   "metadata": {},
   "outputs": [
    {
     "data": {
      "text/plain": [
       "RandomForestClassifier(bootstrap=True, class_weight='balanced',\n",
       "            criterion='gini', max_depth=None, max_features=3,\n",
       "            max_leaf_nodes=None, min_impurity_decrease=0.0,\n",
       "            min_impurity_split=None, min_samples_leaf=1,\n",
       "            min_samples_split=2, min_weight_fraction_leaf=0.0,\n",
       "            n_estimators=500, n_jobs=-1, oob_score=False, random_state=1,\n",
       "            verbose=0, warm_start=False)"
      ]
     },
     "execution_count": 293,
     "metadata": {},
     "output_type": "execute_result"
    }
   ],
   "source": [
    "from sklearn.ensemble import RandomForestClassifier\n",
    "from sklearn.metrics import classification_report, confusion_matrix, roc_curve, make_scorer\n",
    "SEED = 1\n",
    "model_full_rf = RandomForestClassifier(n_estimators=500, class_weight='balanced',max_features=3, random_state=SEED, n_jobs=-1)\n",
    "model_full_rf.fit(X_train, y_train)"
   ]
  },
  {
   "cell_type": "code",
   "execution_count": 294,
   "metadata": {},
   "outputs": [
    {
     "data": {
      "text/plain": [
       "0.8611632270168855"
      ]
     },
     "execution_count": 294,
     "metadata": {},
     "output_type": "execute_result"
    }
   ],
   "source": [
    "model_full_rf.score(X_test,y_test)"
   ]
  },
  {
   "cell_type": "markdown",
   "metadata": {},
   "source": [
    "## Gradient boosting"
   ]
  },
  {
   "cell_type": "code",
   "execution_count": 295,
   "metadata": {},
   "outputs": [],
   "source": [
    "from sklearn.ensemble import GradientBoostingClassifier\n",
    "gbcl = GradientBoostingClassifier(n_estimators =200, random_state=1)\n",
    "gbcl = gbcl.fit(X_train, y_train)"
   ]
  },
  {
   "cell_type": "code",
   "execution_count": 296,
   "metadata": {},
   "outputs": [
    {
     "data": {
      "text/plain": [
       "0.8630393996247655"
      ]
     },
     "execution_count": 296,
     "metadata": {},
     "output_type": "execute_result"
    }
   ],
   "source": [
    "gbcl.score(X_test,y_test)"
   ]
  },
  {
   "cell_type": "code",
   "execution_count": 297,
   "metadata": {},
   "outputs": [],
   "source": [
    "predicted_labels=gbcl.predict(X_test)"
   ]
  },
  {
   "cell_type": "markdown",
   "metadata": {},
   "source": [
    "## SVC"
   ]
  },
  {
   "cell_type": "code",
   "execution_count": 298,
   "metadata": {},
   "outputs": [],
   "source": [
    "from sklearn import svm\n",
    "clf = svm.SVC()"
   ]
  },
  {
   "cell_type": "code",
   "execution_count": 299,
   "metadata": {},
   "outputs": [
    {
     "name": "stderr",
     "output_type": "stream",
     "text": [
      "C:\\Users\\sreekar chidurala\\Anaconda3\\envs\\sreekar\\lib\\site-packages\\sklearn\\svm\\base.py:196: FutureWarning: The default value of gamma will change from 'auto' to 'scale' in version 0.22 to account better for unscaled features. Set gamma explicitly to 'auto' or 'scale' to avoid this warning.\n",
      "  \"avoid this warning.\", FutureWarning)\n"
     ]
    },
    {
     "data": {
      "text/plain": [
       "SVC(C=1.0, cache_size=200, class_weight=None, coef0=0.0,\n",
       "  decision_function_shape='ovr', degree=3, gamma='auto_deprecated',\n",
       "  kernel='rbf', max_iter=-1, probability=False, random_state=None,\n",
       "  shrinking=True, tol=0.001, verbose=False)"
      ]
     },
     "execution_count": 299,
     "metadata": {},
     "output_type": "execute_result"
    }
   ],
   "source": [
    "clf.fit(X_train,y_train)"
   ]
  },
  {
   "cell_type": "code",
   "execution_count": 300,
   "metadata": {},
   "outputs": [
    {
     "data": {
      "text/plain": [
       "0.8123827392120075"
      ]
     },
     "execution_count": 300,
     "metadata": {},
     "output_type": "execute_result"
    }
   ],
   "source": [
    "clf.score(X_test,y_test)"
   ]
  },
  {
   "cell_type": "code",
   "execution_count": 301,
   "metadata": {},
   "outputs": [],
   "source": [
    "#!pip3 install scikit-plot"
   ]
  },
  {
   "cell_type": "code",
   "execution_count": 302,
   "metadata": {},
   "outputs": [
    {
     "data": {
      "image/png": "[encoded data removed]",
      "text/plain": [
       "<Figure size 432x288 with 2 Axes>"
      ]
     },
     "metadata": {
      "needs_background": "light"
     },
     "output_type": "display_data"
    }
   ],
   "source": [
    "import scikitplot as skplt\n",
    "skplt.metrics.plot_confusion_matrix(y_test,predicted_labels, normalize=False)\n",
    "plt.show()"
   ]
  },
  {
   "cell_type": "code",
   "execution_count": 314,
   "metadata": {},
   "outputs": [
    {
     "name": "stdout",
     "output_type": "stream",
     "text": [
      "              precision    recall  f1-score   support\n",
      "\n",
      "         0.0       0.86      0.74      0.80       220\n",
      "         1.0       0.83      0.91      0.87       313\n",
      "\n",
      "   micro avg       0.84      0.84      0.84       533\n",
      "   macro avg       0.85      0.83      0.83       533\n",
      "weighted avg       0.84      0.84      0.84       533\n",
      "\n"
     ]
    }
   ],
   "source": [
    "print(classification_report(y_test,predicted_labels))"
   ]
  },
  {
   "cell_type": "markdown",
   "metadata": {},
   "source": [
    "##  lets see if accuracy increases when a new created feature is added."
   ]
  },
  {
   "cell_type": "code",
   "execution_count": 303,
   "metadata": {},
   "outputs": [],
   "source": [
    "def getmap(x):\n",
    "    if x!=None:\n",
    "        if x==0:\n",
    "            return 0\n",
    "        elif x>500 & x<600: \n",
    "            return 1\n",
    "        elif x>600 & x<700:\n",
    "            return 2\n",
    "        else:\n",
    "            return 3\n",
    "    else:\n",
    "        return None"
   ]
  },
  {
   "cell_type": "code",
   "execution_count": 304,
   "metadata": {},
   "outputs": [],
   "source": [
    "fix_data[\"ManagCBscoreui_APP\"]=fix_data.ManagCBscoreui_APP.astype(int)"
   ]
  },
  {
   "cell_type": "code",
   "execution_count": 305,
   "metadata": {},
   "outputs": [],
   "source": [
    "fix_data['credit_score']=fix_data.ManagCBscoreui_APP.map(lambda x : getmap(x))\n"
   ]
  },
  {
   "cell_type": "markdown",
   "metadata": {},
   "source": [
    "- removing ManagCBscoreui_APP feature"
   ]
  },
  {
   "cell_type": "code",
   "execution_count": 306,
   "metadata": {},
   "outputs": [],
   "source": [
    "features1=fix_data.drop([\"target\",\"ManagCBscoreui_APP\"],1)\n",
    "target1=fix_data[\"target\"]"
   ]
  },
  {
   "cell_type": "code",
   "execution_count": 307,
   "metadata": {},
   "outputs": [],
   "source": [
    "from sklearn.model_selection import train_test_split\n",
    "\n",
    "train_x1, test_x1, y_train1, y_test1 = train_test_split(features1, target1, test_size=0.2, random_state=0)"
   ]
  },
  {
   "cell_type": "code",
   "execution_count": 308,
   "metadata": {},
   "outputs": [],
   "source": [
    "from sklearn.preprocessing import MaxAbsScaler\n",
    "scaler = MaxAbsScaler()\n",
    "scaler.fit(train_x1)\n",
    "X_train1 = scaler.transform(train_x1)\n",
    "X_test1 = scaler.transform(test_x1)"
   ]
  },
  {
   "cell_type": "markdown",
   "metadata": {},
   "source": [
    "## Decision Tree Classifier"
   ]
  },
  {
   "cell_type": "code",
   "execution_count": 309,
   "metadata": {},
   "outputs": [
    {
     "name": "stdout",
     "output_type": "stream",
     "text": [
      "0.8424015009380863\n"
     ]
    }
   ],
   "source": [
    "from sklearn.tree import DecisionTreeClassifier\n",
    "from sklearn.neighbors import KNeighborsClassifier\n",
    "from sklearn.metrics import accuracy_score\n",
    "from sklearn import metrics\n",
    "DTClassifier= DecisionTreeClassifier (max_depth=200,criterion='gini',min_samples_leaf=9)\n",
    "DTClassifier.fit(X_train1,y_train1)\n",
    "predicted_labels = DTClassifier.predict(X_test1)\n",
    "accuracy_score= accuracy_score(y_test1, predicted_labels)\n",
    "print(accuracy_score)"
   ]
  },
  {
   "cell_type": "markdown",
   "metadata": {},
   "source": [
    "## Gradient Decent Boosting"
   ]
  },
  {
   "cell_type": "code",
   "execution_count": 310,
   "metadata": {},
   "outputs": [],
   "source": [
    "from sklearn.ensemble import GradientBoostingClassifier\n",
    "gbcl = GradientBoostingClassifier(n_estimators =500, random_state=1)\n",
    "gbcl = gbcl.fit(X_train1, y_train1)"
   ]
  },
  {
   "cell_type": "code",
   "execution_count": 311,
   "metadata": {},
   "outputs": [
    {
     "data": {
      "text/plain": [
       "0.8667917448405253"
      ]
     },
     "execution_count": 311,
     "metadata": {},
     "output_type": "execute_result"
    }
   ],
   "source": [
    "gbcl.score(X_test1,y_test1)"
   ]
  },
  {
   "cell_type": "markdown",
   "metadata": {},
   "source": [
    "## Random forest Classifier"
   ]
  },
  {
   "cell_type": "code",
   "execution_count": 312,
   "metadata": {},
   "outputs": [
    {
     "data": {
      "text/plain": [
       "RandomForestClassifier(bootstrap=True, class_weight='balanced',\n",
       "            criterion='gini', max_depth=None, max_features='auto',\n",
       "            max_leaf_nodes=None, min_impurity_decrease=0.0,\n",
       "            min_impurity_split=None, min_samples_leaf=1,\n",
       "            min_samples_split=2, min_weight_fraction_leaf=0.0,\n",
       "            n_estimators=200, n_jobs=-1, oob_score=False, random_state=1,\n",
       "            verbose=0, warm_start=False)"
      ]
     },
     "execution_count": 312,
     "metadata": {},
     "output_type": "execute_result"
    }
   ],
   "source": [
    "from sklearn.ensemble import RandomForestClassifier\n",
    "from sklearn.metrics import classification_report, confusion_matrix, roc_curve, make_scorer\n",
    "SEED = 1\n",
    "model_full_rf = RandomForestClassifier(n_estimators=200, class_weight='balanced', random_state=SEED, n_jobs=-1)\n",
    "model_full_rf.fit(X_train1, y_train1)"
   ]
  },
  {
   "cell_type": "code",
   "execution_count": 313,
   "metadata": {},
   "outputs": [
    {
     "data": {
      "text/plain": [
       "0.8611632270168855"
      ]
     },
     "execution_count": 313,
     "metadata": {},
     "output_type": "execute_result"
    }
   ],
   "source": [
    "model_full_rf.score(X_test1,y_test1)"
   ]
  },
  {
   "cell_type": "code",
   "execution_count": 316,
   "metadata": {},
   "outputs": [],
   "source": [
    "predicted=model_full_rf.predict(X_test1)"
   ]
  },
  {
   "cell_type": "code",
   "execution_count": 317,
   "metadata": {},
   "outputs": [
    {
     "data": {
      "image/png": "[encoded data removed]",
      "text/plain": [
       "<Figure size 432x288 with 2 Axes>"
      ]
     },
     "metadata": {
      "needs_background": "light"
     },
     "output_type": "display_data"
    }
   ],
   "source": [
    "import scikitplot as skplt\n",
    "skplt.metrics.plot_confusion_matrix(y_test1,predicted, normalize=False)\n",
    "plt.show()"
   ]
  },
  {
   "cell_type": "code",
   "execution_count": 318,
   "metadata": {},
   "outputs": [
    {
     "name": "stdout",
     "output_type": "stream",
     "text": [
      "              precision    recall  f1-score   support\n",
      "\n",
      "         0.0       0.84      0.82      0.83       220\n",
      "         1.0       0.87      0.89      0.88       313\n",
      "\n",
      "   micro avg       0.86      0.86      0.86       533\n",
      "   macro avg       0.86      0.85      0.86       533\n",
      "weighted avg       0.86      0.86      0.86       533\n",
      "\n"
     ]
    }
   ],
   "source": [
    "print(classification_report(y_test1,predicted))"
   ]
  },
  {
   "cell_type": "code",
   "execution_count": null,
   "metadata": {},
   "outputs": [],
   "source": [
    "# best score gotten by me is 86.\n",
    "#since the data is very less, "
   ]
  },
  {
   "cell_type": "code",
   "execution_count": null,
   "metadata": {},
   "outputs": [],
   "source": []
  },
  {
   "cell_type": "code",
   "execution_count": null,
   "metadata": {},
   "outputs": [],
   "source": []
  },
  {
   "cell_type": "code",
   "execution_count": null,
   "metadata": {},
   "outputs": [],
   "source": []
  },
  {
   "cell_type": "code",
   "execution_count": null,
   "metadata": {},
   "outputs": [],
   "source": []
  },
  {
   "cell_type": "code",
   "execution_count": null,
   "metadata": {},
   "outputs": [],
   "source": []
  }
 ],
 "metadata": {
  "kernelspec": {
   "display_name": "Python 3",
   "language": "python",
   "name": "python3"
  },
  "language_info": {
   "codemirror_mode": {
    "name": "ipython",
    "version": 3
   },
   "file_extension": ".py",
   "mimetype": "text/x-python",
   "name": "python",
   "nbconvert_exporter": "python",
   "pygments_lexer": "ipython3",
   "version": "3.6.7"
  }
 },
 "nbformat": 4,
 "nbformat_minor": 2
}
