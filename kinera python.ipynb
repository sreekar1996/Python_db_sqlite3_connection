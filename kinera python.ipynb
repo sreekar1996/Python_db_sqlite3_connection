{
 "cells": [
  {
   "cell_type": "code",
   "execution_count": 1,
   "metadata": {},
   "outputs": [],
   "source": [
    "import sqlite3\n",
    "import pandas as pd"
   ]
  },
  {
   "cell_type": "code",
   "execution_count": 2,
   "metadata": {},
   "outputs": [],
   "source": [
    "# Create the connection\n",
    "cnx = sqlite3.connect(r'kinara_assessment_20181008.db')"
   ]
  },
  {
   "cell_type": "code",
   "execution_count": 3,
   "metadata": {},
   "outputs": [],
   "source": [
    "# create the dataframe from a query\n",
    "df = pd.read_sql_query(\"SELECT * FROM loan_information\", cnx)"
   ]
  },
  {
   "cell_type": "code",
   "execution_count": 4,
   "metadata": {},
   "outputs": [
    {
     "data": {
      "text/html": [
       "<div>\n",
       "<style scoped>\n",
       "    .dataframe tbody tr th:only-of-type {\n",
       "        vertical-align: middle;\n",
       "    }\n",
       "\n",
       "    .dataframe tbody tr th {\n",
       "        vertical-align: top;\n",
       "    }\n",
       "\n",
       "    .dataframe thead th {\n",
       "        text-align: right;\n",
       "    }\n",
       "</style>\n",
       "<table border=\"1\" class=\"dataframe\">\n",
       "  <thead>\n",
       "    <tr style=\"text-align: right;\">\n",
       "      <th></th>\n",
       "      <th>loan_id</th>\n",
       "      <th>account_number</th>\n",
       "      <th>customer_id</th>\n",
       "      <th>enterprise_id</th>\n",
       "      <th>screening_date</th>\n",
       "      <th>product_code</th>\n",
       "      <th>hub_id</th>\n",
       "    </tr>\n",
       "  </thead>\n",
       "  <tbody>\n",
       "    <tr>\n",
       "      <th>0</th>\n",
       "      <td>5692</td>\n",
       "      <td>TLMFS0000055</td>\n",
       "      <td>17850</td>\n",
       "      <td>6278</td>\n",
       "      <td>2017-03-07</td>\n",
       "      <td>TLMFS</td>\n",
       "      <td>46</td>\n",
       "    </tr>\n",
       "    <tr>\n",
       "      <th>1</th>\n",
       "      <td>6190</td>\n",
       "      <td>TLWCU0001219</td>\n",
       "      <td>17857</td>\n",
       "      <td>6280</td>\n",
       "      <td>2017-03-07</td>\n",
       "      <td>TLWCU</td>\n",
       "      <td>32</td>\n",
       "    </tr>\n",
       "    <tr>\n",
       "      <th>2</th>\n",
       "      <td>6191</td>\n",
       "      <td>TLAPS0000292</td>\n",
       "      <td>9481</td>\n",
       "      <td>2916</td>\n",
       "      <td>2017-03-07</td>\n",
       "      <td>TLAPS</td>\n",
       "      <td>32</td>\n",
       "    </tr>\n",
       "    <tr>\n",
       "      <th>3</th>\n",
       "      <td>6192</td>\n",
       "      <td>LCRIU0000019</td>\n",
       "      <td>6597</td>\n",
       "      <td>32</td>\n",
       "      <td>2017-03-10</td>\n",
       "      <td>LCRIU</td>\n",
       "      <td>32</td>\n",
       "    </tr>\n",
       "    <tr>\n",
       "      <th>4</th>\n",
       "      <td>6193</td>\n",
       "      <td>LCRIU0000020</td>\n",
       "      <td>9732</td>\n",
       "      <td>3167</td>\n",
       "      <td>2017-03-13</td>\n",
       "      <td>LCRIU</td>\n",
       "      <td>32</td>\n",
       "    </tr>\n",
       "  </tbody>\n",
       "</table>\n",
       "</div>"
      ],
      "text/plain": [
       "   loan_id account_number  customer_id  enterprise_id screening_date  \\\n",
       "0     5692   TLMFS0000055        17850           6278     2017-03-07   \n",
       "1     6190   TLWCU0001219        17857           6280     2017-03-07   \n",
       "2     6191   TLAPS0000292         9481           2916     2017-03-07   \n",
       "3     6192   LCRIU0000019         6597             32     2017-03-10   \n",
       "4     6193   LCRIU0000020         9732           3167     2017-03-13   \n",
       "\n",
       "  product_code  hub_id  \n",
       "0        TLMFS      46  \n",
       "1        TLWCU      32  \n",
       "2        TLAPS      32  \n",
       "3        LCRIU      32  \n",
       "4        LCRIU      32  "
      ]
     },
     "execution_count": 4,
     "metadata": {},
     "output_type": "execute_result"
    }
   ],
   "source": [
    "df.head()"
   ]
  },
  {
   "cell_type": "code",
   "execution_count": 5,
   "metadata": {},
   "outputs": [
    {
     "data": {
      "text/plain": [
       "2589"
      ]
     },
     "execution_count": 5,
     "metadata": {},
     "output_type": "execute_result"
    }
   ],
   "source": [
    "len(df.customer_id.unique())"
   ]
  },
  {
   "cell_type": "code",
   "execution_count": 6,
   "metadata": {},
   "outputs": [
    {
     "data": {
      "text/plain": [
       "24221    8\n",
       "24277    4\n",
       "6684     4\n",
       "20437    3\n",
       "6923     3\n",
       "Name: customer_id, dtype: int64"
      ]
     },
     "execution_count": 6,
     "metadata": {},
     "output_type": "execute_result"
    }
   ],
   "source": [
    "df.customer_id.value_counts().head()"
   ]
  },
  {
   "cell_type": "code",
   "execution_count": 7,
   "metadata": {},
   "outputs": [
    {
     "data": {
      "text/html": [
       "<div>\n",
       "<style scoped>\n",
       "    .dataframe tbody tr th:only-of-type {\n",
       "        vertical-align: middle;\n",
       "    }\n",
       "\n",
       "    .dataframe tbody tr th {\n",
       "        vertical-align: top;\n",
       "    }\n",
       "\n",
       "    .dataframe thead th {\n",
       "        text-align: right;\n",
       "    }\n",
       "</style>\n",
       "<table border=\"1\" class=\"dataframe\">\n",
       "  <thead>\n",
       "    <tr style=\"text-align: right;\">\n",
       "      <th></th>\n",
       "      <th>loan_id</th>\n",
       "      <th>account_number</th>\n",
       "      <th>customer_id</th>\n",
       "      <th>enterprise_id</th>\n",
       "      <th>screening_date</th>\n",
       "      <th>product_code</th>\n",
       "      <th>hub_id</th>\n",
       "    </tr>\n",
       "  </thead>\n",
       "  <tbody>\n",
       "    <tr>\n",
       "      <th>2401</th>\n",
       "      <td>11032</td>\n",
       "      <td>None</td>\n",
       "      <td>24221</td>\n",
       "      <td>8439</td>\n",
       "      <td>2017-05-22</td>\n",
       "      <td>None</td>\n",
       "      <td>35</td>\n",
       "    </tr>\n",
       "    <tr>\n",
       "      <th>2453</th>\n",
       "      <td>11084</td>\n",
       "      <td>None</td>\n",
       "      <td>24221</td>\n",
       "      <td>8439</td>\n",
       "      <td>2017-05-23</td>\n",
       "      <td>None</td>\n",
       "      <td>35</td>\n",
       "    </tr>\n",
       "    <tr>\n",
       "      <th>2473</th>\n",
       "      <td>11104</td>\n",
       "      <td>None</td>\n",
       "      <td>24221</td>\n",
       "      <td>8439</td>\n",
       "      <td>2017-05-24</td>\n",
       "      <td>None</td>\n",
       "      <td>35</td>\n",
       "    </tr>\n",
       "    <tr>\n",
       "      <th>2492</th>\n",
       "      <td>11123</td>\n",
       "      <td>None</td>\n",
       "      <td>24221</td>\n",
       "      <td>8439</td>\n",
       "      <td>2017-05-24</td>\n",
       "      <td>None</td>\n",
       "      <td>35</td>\n",
       "    </tr>\n",
       "    <tr>\n",
       "      <th>2505</th>\n",
       "      <td>11136</td>\n",
       "      <td>None</td>\n",
       "      <td>24221</td>\n",
       "      <td>8439</td>\n",
       "      <td>2017-05-24</td>\n",
       "      <td>None</td>\n",
       "      <td>35</td>\n",
       "    </tr>\n",
       "    <tr>\n",
       "      <th>2528</th>\n",
       "      <td>11159</td>\n",
       "      <td>None</td>\n",
       "      <td>24221</td>\n",
       "      <td>8439</td>\n",
       "      <td>2017-05-25</td>\n",
       "      <td>None</td>\n",
       "      <td>35</td>\n",
       "    </tr>\n",
       "    <tr>\n",
       "      <th>2582</th>\n",
       "      <td>11213</td>\n",
       "      <td>None</td>\n",
       "      <td>24221</td>\n",
       "      <td>8439</td>\n",
       "      <td>2017-05-26</td>\n",
       "      <td>None</td>\n",
       "      <td>35</td>\n",
       "    </tr>\n",
       "    <tr>\n",
       "      <th>2583</th>\n",
       "      <td>11214</td>\n",
       "      <td>None</td>\n",
       "      <td>24221</td>\n",
       "      <td>8439</td>\n",
       "      <td>2017-05-26</td>\n",
       "      <td>None</td>\n",
       "      <td>35</td>\n",
       "    </tr>\n",
       "  </tbody>\n",
       "</table>\n",
       "</div>"
      ],
      "text/plain": [
       "      loan_id account_number  customer_id  enterprise_id screening_date  \\\n",
       "2401    11032           None        24221           8439     2017-05-22   \n",
       "2453    11084           None        24221           8439     2017-05-23   \n",
       "2473    11104           None        24221           8439     2017-05-24   \n",
       "2492    11123           None        24221           8439     2017-05-24   \n",
       "2505    11136           None        24221           8439     2017-05-24   \n",
       "2528    11159           None        24221           8439     2017-05-25   \n",
       "2582    11213           None        24221           8439     2017-05-26   \n",
       "2583    11214           None        24221           8439     2017-05-26   \n",
       "\n",
       "     product_code  hub_id  \n",
       "2401         None      35  \n",
       "2453         None      35  \n",
       "2473         None      35  \n",
       "2492         None      35  \n",
       "2505         None      35  \n",
       "2528         None      35  \n",
       "2582         None      35  \n",
       "2583         None      35  "
      ]
     },
     "execution_count": 7,
     "metadata": {},
     "output_type": "execute_result"
    }
   ],
   "source": [
    "df[df.customer_id==24221]"
   ]
  },
  {
   "cell_type": "code",
   "execution_count": 8,
   "metadata": {},
   "outputs": [
    {
     "data": {
      "text/plain": [
       "2662"
      ]
     },
     "execution_count": 8,
     "metadata": {},
     "output_type": "execute_result"
    }
   ],
   "source": [
    "len(df.loan_id.unique())"
   ]
  },
  {
   "cell_type": "code",
   "execution_count": 9,
   "metadata": {},
   "outputs": [
    {
     "data": {
      "text/plain": [
       "1548"
      ]
     },
     "execution_count": 9,
     "metadata": {},
     "output_type": "execute_result"
    }
   ],
   "source": [
    "len(df.account_number.unique())"
   ]
  },
  {
   "cell_type": "code",
   "execution_count": 10,
   "metadata": {},
   "outputs": [
    {
     "data": {
      "text/plain": [
       "(2662, 7)"
      ]
     },
     "execution_count": 10,
     "metadata": {},
     "output_type": "execute_result"
    }
   ],
   "source": [
    "df.shape"
   ]
  },
  {
   "cell_type": "code",
   "execution_count": 11,
   "metadata": {},
   "outputs": [
    {
     "data": {
      "text/plain": [
       "loan_id              0\n",
       "account_number    1115\n",
       "customer_id          0\n",
       "enterprise_id        0\n",
       "screening_date       0\n",
       "product_code      1056\n",
       "hub_id               0\n",
       "dtype: int64"
      ]
     },
     "execution_count": 11,
     "metadata": {},
     "output_type": "execute_result"
    }
   ],
   "source": [
    "df.isnull().sum()"
   ]
  },
  {
   "cell_type": "code",
   "execution_count": 12,
   "metadata": {},
   "outputs": [],
   "source": [
    "df1 = pd.read_sql_query(\"SELECT * FROM scores_information\", cnx)"
   ]
  },
  {
   "cell_type": "code",
   "execution_count": 13,
   "metadata": {},
   "outputs": [
    {
     "data": {
      "text/html": [
       "<div>\n",
       "<style scoped>\n",
       "    .dataframe tbody tr th:only-of-type {\n",
       "        vertical-align: middle;\n",
       "    }\n",
       "\n",
       "    .dataframe tbody tr th {\n",
       "        vertical-align: top;\n",
       "    }\n",
       "\n",
       "    .dataframe thead th {\n",
       "        text-align: right;\n",
       "    }\n",
       "</style>\n",
       "<table border=\"1\" class=\"dataframe\">\n",
       "  <thead>\n",
       "    <tr style=\"text-align: right;\">\n",
       "      <th></th>\n",
       "      <th>loan_id</th>\n",
       "      <th>ManagAgeui_APP</th>\n",
       "      <th>BusinFormalityOfTheBusinessui</th>\n",
       "      <th>ManagCBscoreui_APP</th>\n",
       "    </tr>\n",
       "  </thead>\n",
       "  <tbody>\n",
       "    <tr>\n",
       "      <th>0</th>\n",
       "      <td>5692</td>\n",
       "      <td>32</td>\n",
       "      <td>Cash &amp; Non Banked</td>\n",
       "      <td>0</td>\n",
       "    </tr>\n",
       "    <tr>\n",
       "      <th>1</th>\n",
       "      <td>6190</td>\n",
       "      <td>35</td>\n",
       "      <td>Cash &amp; Non Banked</td>\n",
       "      <td>0</td>\n",
       "    </tr>\n",
       "    <tr>\n",
       "      <th>2</th>\n",
       "      <td>6191</td>\n",
       "      <td>32</td>\n",
       "      <td>Cash &amp; Non Banked</td>\n",
       "      <td>0</td>\n",
       "    </tr>\n",
       "    <tr>\n",
       "      <th>3</th>\n",
       "      <td>6193</td>\n",
       "      <td>39</td>\n",
       "      <td>Cash &amp; Non Banked</td>\n",
       "      <td>548</td>\n",
       "    </tr>\n",
       "    <tr>\n",
       "      <th>4</th>\n",
       "      <td>8581</td>\n",
       "      <td>36</td>\n",
       "      <td>Cash &amp; Non Banked</td>\n",
       "      <td>0</td>\n",
       "    </tr>\n",
       "  </tbody>\n",
       "</table>\n",
       "</div>"
      ],
      "text/plain": [
       "   loan_id ManagAgeui_APP BusinFormalityOfTheBusinessui ManagCBscoreui_APP\n",
       "0     5692             32             Cash & Non Banked                  0\n",
       "1     6190             35             Cash & Non Banked                  0\n",
       "2     6191             32             Cash & Non Banked                  0\n",
       "3     6193             39             Cash & Non Banked                548\n",
       "4     8581             36             Cash & Non Banked                  0"
      ]
     },
     "execution_count": 13,
     "metadata": {},
     "output_type": "execute_result"
    }
   ],
   "source": [
    "df1.head()"
   ]
  },
  {
   "cell_type": "code",
   "execution_count": 14,
   "metadata": {},
   "outputs": [
    {
     "data": {
      "text/plain": [
       "(2033, 4)"
      ]
     },
     "execution_count": 14,
     "metadata": {},
     "output_type": "execute_result"
    }
   ],
   "source": [
    "df1.shape"
   ]
  },
  {
   "cell_type": "code",
   "execution_count": 15,
   "metadata": {},
   "outputs": [
    {
     "data": {
      "text/plain": [
       "loan_id                           0\n",
       "ManagAgeui_APP                   74\n",
       "BusinFormalityOfTheBusinessui     2\n",
       "ManagCBscoreui_APP               74\n",
       "dtype: int64"
      ]
     },
     "execution_count": 15,
     "metadata": {},
     "output_type": "execute_result"
    }
   ],
   "source": [
    "df1.isnull().sum()"
   ]
  },
  {
   "cell_type": "code",
   "execution_count": 16,
   "metadata": {},
   "outputs": [],
   "source": [
    "df2 = pd.read_sql_query(\"SELECT * FROM enteprise_information\", cnx)"
   ]
  },
  {
   "cell_type": "code",
   "execution_count": 17,
   "metadata": {},
   "outputs": [
    {
     "data": {
      "text/html": [
       "<div>\n",
       "<style scoped>\n",
       "    .dataframe tbody tr th:only-of-type {\n",
       "        vertical-align: middle;\n",
       "    }\n",
       "\n",
       "    .dataframe tbody tr th {\n",
       "        vertical-align: top;\n",
       "    }\n",
       "\n",
       "    .dataframe thead th {\n",
       "        text-align: right;\n",
       "    }\n",
       "</style>\n",
       "<table border=\"1\" class=\"dataframe\">\n",
       "  <thead>\n",
       "    <tr style=\"text-align: right;\">\n",
       "      <th></th>\n",
       "      <th>enterprise_id</th>\n",
       "      <th>business_type</th>\n",
       "      <th>business_activity</th>\n",
       "      <th>business_sector</th>\n",
       "    </tr>\n",
       "  </thead>\n",
       "  <tbody>\n",
       "    <tr>\n",
       "      <th>0</th>\n",
       "      <td>4</td>\n",
       "      <td>Manufacturing</td>\n",
       "      <td>Sales</td>\n",
       "      <td>Printing</td>\n",
       "    </tr>\n",
       "    <tr>\n",
       "      <th>1</th>\n",
       "      <td>7</td>\n",
       "      <td>Manufacturing</td>\n",
       "      <td>Job Work &amp; Sales</td>\n",
       "      <td>Fabrication</td>\n",
       "    </tr>\n",
       "    <tr>\n",
       "      <th>2</th>\n",
       "      <td>8</td>\n",
       "      <td>Manufacturing</td>\n",
       "      <td>Job Work &amp; Sales</td>\n",
       "      <td>Auto Components</td>\n",
       "    </tr>\n",
       "    <tr>\n",
       "      <th>3</th>\n",
       "      <td>16</td>\n",
       "      <td>Manufacturing</td>\n",
       "      <td>Job Work &amp; Sales</td>\n",
       "      <td>Fabrication</td>\n",
       "    </tr>\n",
       "    <tr>\n",
       "      <th>4</th>\n",
       "      <td>19</td>\n",
       "      <td>Manufacturing</td>\n",
       "      <td>Sales</td>\n",
       "      <td>Leather</td>\n",
       "    </tr>\n",
       "  </tbody>\n",
       "</table>\n",
       "</div>"
      ],
      "text/plain": [
       "   enterprise_id  business_type business_activity  business_sector\n",
       "0              4  Manufacturing             Sales         Printing\n",
       "1              7  Manufacturing  Job Work & Sales      Fabrication\n",
       "2              8  Manufacturing  Job Work & Sales  Auto Components\n",
       "3             16  Manufacturing  Job Work & Sales      Fabrication\n",
       "4             19  Manufacturing             Sales          Leather"
      ]
     },
     "execution_count": 17,
     "metadata": {},
     "output_type": "execute_result"
    }
   ],
   "source": [
    "df2.head()"
   ]
  },
  {
   "cell_type": "code",
   "execution_count": 18,
   "metadata": {},
   "outputs": [
    {
     "data": {
      "text/plain": [
       "(2589, 4)"
      ]
     },
     "execution_count": 18,
     "metadata": {},
     "output_type": "execute_result"
    }
   ],
   "source": [
    "df2.shape"
   ]
  },
  {
   "cell_type": "code",
   "execution_count": 19,
   "metadata": {},
   "outputs": [
    {
     "data": {
      "text/plain": [
       "enterprise_id        0\n",
       "business_type        0\n",
       "business_activity    0\n",
       "business_sector      2\n",
       "dtype: int64"
      ]
     },
     "execution_count": 19,
     "metadata": {},
     "output_type": "execute_result"
    }
   ],
   "source": [
    "df2.isnull().sum()"
   ]
  },
  {
   "cell_type": "code",
   "execution_count": 20,
   "metadata": {},
   "outputs": [],
   "source": [
    "df3 = pd.read_sql_query(\"SELECT * FROM disbursements_information\", cnx)"
   ]
  },
  {
   "cell_type": "code",
   "execution_count": 21,
   "metadata": {},
   "outputs": [
    {
     "data": {
      "text/html": [
       "<div>\n",
       "<style scoped>\n",
       "    .dataframe tbody tr th:only-of-type {\n",
       "        vertical-align: middle;\n",
       "    }\n",
       "\n",
       "    .dataframe tbody tr th {\n",
       "        vertical-align: top;\n",
       "    }\n",
       "\n",
       "    .dataframe thead th {\n",
       "        text-align: right;\n",
       "    }\n",
       "</style>\n",
       "<table border=\"1\" class=\"dataframe\">\n",
       "  <thead>\n",
       "    <tr style=\"text-align: right;\">\n",
       "      <th></th>\n",
       "      <th>account_number</th>\n",
       "      <th>net_disbursement_magnitude</th>\n",
       "      <th>transaction_Date</th>\n",
       "    </tr>\n",
       "  </thead>\n",
       "  <tbody>\n",
       "    <tr>\n",
       "      <th>0</th>\n",
       "      <td>TLWCS0000594</td>\n",
       "      <td>276196.0</td>\n",
       "      <td>2017-02-28</td>\n",
       "    </tr>\n",
       "    <tr>\n",
       "      <th>1</th>\n",
       "      <td>TLWCS0000609</td>\n",
       "      <td>731482.0</td>\n",
       "      <td>2017-02-28</td>\n",
       "    </tr>\n",
       "    <tr>\n",
       "      <th>2</th>\n",
       "      <td>TLMFS0000046</td>\n",
       "      <td>915017.0</td>\n",
       "      <td>2017-02-28</td>\n",
       "    </tr>\n",
       "    <tr>\n",
       "      <th>3</th>\n",
       "      <td>TLWCS0000656</td>\n",
       "      <td>924979.0</td>\n",
       "      <td>2017-02-28</td>\n",
       "    </tr>\n",
       "    <tr>\n",
       "      <th>4</th>\n",
       "      <td>TLAPS0000238</td>\n",
       "      <td>1343871.0</td>\n",
       "      <td>2017-02-28</td>\n",
       "    </tr>\n",
       "  </tbody>\n",
       "</table>\n",
       "</div>"
      ],
      "text/plain": [
       "  account_number  net_disbursement_magnitude transaction_Date\n",
       "0   TLWCS0000594                    276196.0       2017-02-28\n",
       "1   TLWCS0000609                    731482.0       2017-02-28\n",
       "2   TLMFS0000046                    915017.0       2017-02-28\n",
       "3   TLWCS0000656                    924979.0       2017-02-28\n",
       "4   TLAPS0000238                   1343871.0       2017-02-28"
      ]
     },
     "execution_count": 21,
     "metadata": {},
     "output_type": "execute_result"
    }
   ],
   "source": [
    "df3.head()"
   ]
  },
  {
   "cell_type": "code",
   "execution_count": 22,
   "metadata": {},
   "outputs": [
    {
     "data": {
      "text/plain": [
       "(1575, 3)"
      ]
     },
     "execution_count": 22,
     "metadata": {},
     "output_type": "execute_result"
    }
   ],
   "source": [
    "df3.shape"
   ]
  },
  {
   "cell_type": "code",
   "execution_count": 23,
   "metadata": {},
   "outputs": [
    {
     "data": {
      "text/plain": [
       "account_number                0\n",
       "net_disbursement_magnitude    0\n",
       "transaction_Date              0\n",
       "dtype: int64"
      ]
     },
     "execution_count": 23,
     "metadata": {},
     "output_type": "execute_result"
    }
   ],
   "source": [
    "df3.isnull().sum()"
   ]
  },
  {
   "cell_type": "code",
   "execution_count": 24,
   "metadata": {},
   "outputs": [
    {
     "data": {
      "text/plain": [
       "1545"
      ]
     },
     "execution_count": 24,
     "metadata": {},
     "output_type": "execute_result"
    }
   ],
   "source": [
    "len(df3.account_number.unique())"
   ]
  },
  {
   "cell_type": "code",
   "execution_count": 25,
   "metadata": {},
   "outputs": [],
   "source": [
    "data= pd.merge(df,df1, how='left', on=['loan_id'])"
   ]
  },
  {
   "cell_type": "code",
   "execution_count": 26,
   "metadata": {},
   "outputs": [
    {
     "data": {
      "text/html": [
       "<div>\n",
       "<style scoped>\n",
       "    .dataframe tbody tr th:only-of-type {\n",
       "        vertical-align: middle;\n",
       "    }\n",
       "\n",
       "    .dataframe tbody tr th {\n",
       "        vertical-align: top;\n",
       "    }\n",
       "\n",
       "    .dataframe thead th {\n",
       "        text-align: right;\n",
       "    }\n",
       "</style>\n",
       "<table border=\"1\" class=\"dataframe\">\n",
       "  <thead>\n",
       "    <tr style=\"text-align: right;\">\n",
       "      <th></th>\n",
       "      <th>loan_id</th>\n",
       "      <th>account_number</th>\n",
       "      <th>customer_id</th>\n",
       "      <th>enterprise_id</th>\n",
       "      <th>screening_date</th>\n",
       "      <th>product_code</th>\n",
       "      <th>hub_id</th>\n",
       "      <th>ManagAgeui_APP</th>\n",
       "      <th>BusinFormalityOfTheBusinessui</th>\n",
       "      <th>ManagCBscoreui_APP</th>\n",
       "    </tr>\n",
       "  </thead>\n",
       "  <tbody>\n",
       "    <tr>\n",
       "      <th>0</th>\n",
       "      <td>5692</td>\n",
       "      <td>TLMFS0000055</td>\n",
       "      <td>17850</td>\n",
       "      <td>6278</td>\n",
       "      <td>2017-03-07</td>\n",
       "      <td>TLMFS</td>\n",
       "      <td>46</td>\n",
       "      <td>32</td>\n",
       "      <td>Cash &amp; Non Banked</td>\n",
       "      <td>0</td>\n",
       "    </tr>\n",
       "    <tr>\n",
       "      <th>1</th>\n",
       "      <td>6190</td>\n",
       "      <td>TLWCU0001219</td>\n",
       "      <td>17857</td>\n",
       "      <td>6280</td>\n",
       "      <td>2017-03-07</td>\n",
       "      <td>TLWCU</td>\n",
       "      <td>32</td>\n",
       "      <td>35</td>\n",
       "      <td>Cash &amp; Non Banked</td>\n",
       "      <td>0</td>\n",
       "    </tr>\n",
       "    <tr>\n",
       "      <th>2</th>\n",
       "      <td>6191</td>\n",
       "      <td>TLAPS0000292</td>\n",
       "      <td>9481</td>\n",
       "      <td>2916</td>\n",
       "      <td>2017-03-07</td>\n",
       "      <td>TLAPS</td>\n",
       "      <td>32</td>\n",
       "      <td>32</td>\n",
       "      <td>Cash &amp; Non Banked</td>\n",
       "      <td>0</td>\n",
       "    </tr>\n",
       "    <tr>\n",
       "      <th>3</th>\n",
       "      <td>6192</td>\n",
       "      <td>LCRIU0000019</td>\n",
       "      <td>6597</td>\n",
       "      <td>32</td>\n",
       "      <td>2017-03-10</td>\n",
       "      <td>LCRIU</td>\n",
       "      <td>32</td>\n",
       "      <td>NaN</td>\n",
       "      <td>NaN</td>\n",
       "      <td>NaN</td>\n",
       "    </tr>\n",
       "    <tr>\n",
       "      <th>4</th>\n",
       "      <td>6193</td>\n",
       "      <td>LCRIU0000020</td>\n",
       "      <td>9732</td>\n",
       "      <td>3167</td>\n",
       "      <td>2017-03-13</td>\n",
       "      <td>LCRIU</td>\n",
       "      <td>32</td>\n",
       "      <td>39</td>\n",
       "      <td>Cash &amp; Non Banked</td>\n",
       "      <td>548</td>\n",
       "    </tr>\n",
       "  </tbody>\n",
       "</table>\n",
       "</div>"
      ],
      "text/plain": [
       "   loan_id account_number  customer_id  enterprise_id screening_date  \\\n",
       "0     5692   TLMFS0000055        17850           6278     2017-03-07   \n",
       "1     6190   TLWCU0001219        17857           6280     2017-03-07   \n",
       "2     6191   TLAPS0000292         9481           2916     2017-03-07   \n",
       "3     6192   LCRIU0000019         6597             32     2017-03-10   \n",
       "4     6193   LCRIU0000020         9732           3167     2017-03-13   \n",
       "\n",
       "  product_code  hub_id ManagAgeui_APP BusinFormalityOfTheBusinessui  \\\n",
       "0        TLMFS      46             32             Cash & Non Banked   \n",
       "1        TLWCU      32             35             Cash & Non Banked   \n",
       "2        TLAPS      32             32             Cash & Non Banked   \n",
       "3        LCRIU      32            NaN                           NaN   \n",
       "4        LCRIU      32             39             Cash & Non Banked   \n",
       "\n",
       "  ManagCBscoreui_APP  \n",
       "0                  0  \n",
       "1                  0  \n",
       "2                  0  \n",
       "3                NaN  \n",
       "4                548  "
      ]
     },
     "execution_count": 26,
     "metadata": {},
     "output_type": "execute_result"
    }
   ],
   "source": [
    "data.head()"
   ]
  },
  {
   "cell_type": "code",
   "execution_count": 27,
   "metadata": {},
   "outputs": [
    {
     "data": {
      "text/plain": [
       "(2662, 10)"
      ]
     },
     "execution_count": 27,
     "metadata": {},
     "output_type": "execute_result"
    }
   ],
   "source": [
    "data.shape"
   ]
  },
  {
   "cell_type": "code",
   "execution_count": 28,
   "metadata": {},
   "outputs": [
    {
     "data": {
      "text/plain": [
       "loan_id                             0\n",
       "account_number                   1115\n",
       "customer_id                         0\n",
       "enterprise_id                       0\n",
       "screening_date                      0\n",
       "product_code                     1056\n",
       "hub_id                              0\n",
       "ManagAgeui_APP                    703\n",
       "BusinFormalityOfTheBusinessui     631\n",
       "ManagCBscoreui_APP                703\n",
       "dtype: int64"
      ]
     },
     "execution_count": 28,
     "metadata": {},
     "output_type": "execute_result"
    }
   ],
   "source": [
    "data.isnull().sum()"
   ]
  },
  {
   "cell_type": "code",
   "execution_count": 29,
   "metadata": {},
   "outputs": [
    {
     "data": {
      "text/plain": [
       "array(['Cash & Non Banked', nan, 'Invoice & Banked',\n",
       "       'Invoice & Non Banked', 'Cash & Banked', None], dtype=object)"
      ]
     },
     "execution_count": 29,
     "metadata": {},
     "output_type": "execute_result"
    }
   ],
   "source": [
    "data.BusinFormalityOfTheBusinessui.unique()"
   ]
  },
  {
   "cell_type": "code",
   "execution_count": 30,
   "metadata": {},
   "outputs": [],
   "source": [
    "data1= pd.merge(data,df3, how='left', on=['account_number'])"
   ]
  },
  {
   "cell_type": "code",
   "execution_count": 31,
   "metadata": {},
   "outputs": [
    {
     "data": {
      "text/plain": [
       "(2692, 12)"
      ]
     },
     "execution_count": 31,
     "metadata": {},
     "output_type": "execute_result"
    }
   ],
   "source": [
    "data1.shape"
   ]
  },
  {
   "cell_type": "code",
   "execution_count": 32,
   "metadata": {},
   "outputs": [],
   "source": [
    "data2= pd.merge(data1,df2, how='left', on=['enterprise_id'])"
   ]
  },
  {
   "cell_type": "code",
   "execution_count": 33,
   "metadata": {},
   "outputs": [
    {
     "data": {
      "text/plain": [
       "(2692, 15)"
      ]
     },
     "execution_count": 33,
     "metadata": {},
     "output_type": "execute_result"
    }
   ],
   "source": [
    "data2.shape"
   ]
  },
  {
   "cell_type": "code",
   "execution_count": 34,
   "metadata": {},
   "outputs": [
    {
     "data": {
      "text/plain": [
       "loan_id                             0\n",
       "account_number                   1115\n",
       "customer_id                         0\n",
       "enterprise_id                       0\n",
       "screening_date                      0\n",
       "product_code                     1056\n",
       "hub_id                              0\n",
       "ManagAgeui_APP                    705\n",
       "BusinFormalityOfTheBusinessui     631\n",
       "ManagCBscoreui_APP                705\n",
       "net_disbursement_magnitude       1117\n",
       "transaction_Date                 1117\n",
       "business_type                       0\n",
       "business_activity                   0\n",
       "business_sector                     2\n",
       "dtype: int64"
      ]
     },
     "execution_count": 34,
     "metadata": {},
     "output_type": "execute_result"
    }
   ],
   "source": [
    "data2.isnull().sum()"
   ]
  },
  {
   "cell_type": "code",
   "execution_count": 35,
   "metadata": {},
   "outputs": [
    {
     "data": {
      "text/html": [
       "<div>\n",
       "<style scoped>\n",
       "    .dataframe tbody tr th:only-of-type {\n",
       "        vertical-align: middle;\n",
       "    }\n",
       "\n",
       "    .dataframe tbody tr th {\n",
       "        vertical-align: top;\n",
       "    }\n",
       "\n",
       "    .dataframe thead th {\n",
       "        text-align: right;\n",
       "    }\n",
       "</style>\n",
       "<table border=\"1\" class=\"dataframe\">\n",
       "  <thead>\n",
       "    <tr style=\"text-align: right;\">\n",
       "      <th></th>\n",
       "      <th>loan_id</th>\n",
       "      <th>account_number</th>\n",
       "      <th>customer_id</th>\n",
       "      <th>enterprise_id</th>\n",
       "      <th>screening_date</th>\n",
       "      <th>product_code</th>\n",
       "      <th>hub_id</th>\n",
       "      <th>ManagAgeui_APP</th>\n",
       "      <th>BusinFormalityOfTheBusinessui</th>\n",
       "      <th>ManagCBscoreui_APP</th>\n",
       "      <th>net_disbursement_magnitude</th>\n",
       "      <th>transaction_Date</th>\n",
       "      <th>business_type</th>\n",
       "      <th>business_activity</th>\n",
       "      <th>business_sector</th>\n",
       "    </tr>\n",
       "  </thead>\n",
       "  <tbody>\n",
       "    <tr>\n",
       "      <th>0</th>\n",
       "      <td>5692</td>\n",
       "      <td>TLMFS0000055</td>\n",
       "      <td>17850</td>\n",
       "      <td>6278</td>\n",
       "      <td>2017-03-07</td>\n",
       "      <td>TLMFS</td>\n",
       "      <td>46</td>\n",
       "      <td>32</td>\n",
       "      <td>Cash &amp; Non Banked</td>\n",
       "      <td>0</td>\n",
       "      <td>345909.0</td>\n",
       "      <td>2017-02-28</td>\n",
       "      <td>Manufacturing</td>\n",
       "      <td>Job Work</td>\n",
       "      <td>Auto Components</td>\n",
       "    </tr>\n",
       "    <tr>\n",
       "      <th>1</th>\n",
       "      <td>6190</td>\n",
       "      <td>TLWCU0001219</td>\n",
       "      <td>17857</td>\n",
       "      <td>6280</td>\n",
       "      <td>2017-03-07</td>\n",
       "      <td>TLWCU</td>\n",
       "      <td>32</td>\n",
       "      <td>35</td>\n",
       "      <td>Cash &amp; Non Banked</td>\n",
       "      <td>0</td>\n",
       "      <td>144157.0</td>\n",
       "      <td>2017-02-28</td>\n",
       "      <td>Trading</td>\n",
       "      <td>Retail</td>\n",
       "      <td>Book Stores</td>\n",
       "    </tr>\n",
       "    <tr>\n",
       "      <th>2</th>\n",
       "      <td>6191</td>\n",
       "      <td>TLAPS0000292</td>\n",
       "      <td>9481</td>\n",
       "      <td>2916</td>\n",
       "      <td>2017-03-07</td>\n",
       "      <td>TLAPS</td>\n",
       "      <td>32</td>\n",
       "      <td>32</td>\n",
       "      <td>Cash &amp; Non Banked</td>\n",
       "      <td>0</td>\n",
       "      <td>484931.0</td>\n",
       "      <td>2017-03-23</td>\n",
       "      <td>Manufacturing</td>\n",
       "      <td>Sales</td>\n",
       "      <td>Electricals</td>\n",
       "    </tr>\n",
       "    <tr>\n",
       "      <th>3</th>\n",
       "      <td>6192</td>\n",
       "      <td>LCRIU0000019</td>\n",
       "      <td>6597</td>\n",
       "      <td>32</td>\n",
       "      <td>2017-03-10</td>\n",
       "      <td>LCRIU</td>\n",
       "      <td>32</td>\n",
       "      <td>NaN</td>\n",
       "      <td>NaN</td>\n",
       "      <td>NaN</td>\n",
       "      <td>683859.0</td>\n",
       "      <td>2017-03-13</td>\n",
       "      <td>Manufacturing</td>\n",
       "      <td>Job Work &amp; Sales</td>\n",
       "      <td>Auto Components</td>\n",
       "    </tr>\n",
       "    <tr>\n",
       "      <th>4</th>\n",
       "      <td>6193</td>\n",
       "      <td>LCRIU0000020</td>\n",
       "      <td>9732</td>\n",
       "      <td>3167</td>\n",
       "      <td>2017-03-13</td>\n",
       "      <td>LCRIU</td>\n",
       "      <td>32</td>\n",
       "      <td>39</td>\n",
       "      <td>Cash &amp; Non Banked</td>\n",
       "      <td>548</td>\n",
       "      <td>896703.0</td>\n",
       "      <td>2017-03-15</td>\n",
       "      <td>Manufacturing</td>\n",
       "      <td>Job Work</td>\n",
       "      <td>Auto Components</td>\n",
       "    </tr>\n",
       "    <tr>\n",
       "      <th>5</th>\n",
       "      <td>8581</td>\n",
       "      <td>TLAPS0000238</td>\n",
       "      <td>17643</td>\n",
       "      <td>6209</td>\n",
       "      <td>2017-03-02</td>\n",
       "      <td>TLAPS</td>\n",
       "      <td>26</td>\n",
       "      <td>36</td>\n",
       "      <td>Cash &amp; Non Banked</td>\n",
       "      <td>0</td>\n",
       "      <td>1343871.0</td>\n",
       "      <td>2017-02-28</td>\n",
       "      <td>Manufacturing</td>\n",
       "      <td>Job Work</td>\n",
       "      <td>Machine  Components</td>\n",
       "    </tr>\n",
       "    <tr>\n",
       "      <th>6</th>\n",
       "      <td>8582</td>\n",
       "      <td>TLMFS0000046</td>\n",
       "      <td>7010</td>\n",
       "      <td>445</td>\n",
       "      <td>2017-03-02</td>\n",
       "      <td>TLMFS</td>\n",
       "      <td>84</td>\n",
       "      <td>48</td>\n",
       "      <td>Cash &amp; Non Banked</td>\n",
       "      <td>0</td>\n",
       "      <td>915017.0</td>\n",
       "      <td>2017-02-28</td>\n",
       "      <td>Manufacturing</td>\n",
       "      <td>Sales</td>\n",
       "      <td>Auto Components</td>\n",
       "    </tr>\n",
       "    <tr>\n",
       "      <th>7</th>\n",
       "      <td>8583</td>\n",
       "      <td>TLWCS0000609</td>\n",
       "      <td>17638</td>\n",
       "      <td>6207</td>\n",
       "      <td>2017-03-02</td>\n",
       "      <td>TLWCS</td>\n",
       "      <td>36</td>\n",
       "      <td>NaN</td>\n",
       "      <td>NaN</td>\n",
       "      <td>NaN</td>\n",
       "      <td>731482.0</td>\n",
       "      <td>2017-02-28</td>\n",
       "      <td>Manufacturing</td>\n",
       "      <td>Sales</td>\n",
       "      <td>Machine  Components</td>\n",
       "    </tr>\n",
       "    <tr>\n",
       "      <th>8</th>\n",
       "      <td>8584</td>\n",
       "      <td>TLAPS0000270</td>\n",
       "      <td>17639</td>\n",
       "      <td>6208</td>\n",
       "      <td>2017-03-02</td>\n",
       "      <td>TLAPS</td>\n",
       "      <td>32</td>\n",
       "      <td>35</td>\n",
       "      <td>Invoice &amp; Banked</td>\n",
       "      <td>584</td>\n",
       "      <td>401225.0</td>\n",
       "      <td>2017-02-28</td>\n",
       "      <td>Manufacturing</td>\n",
       "      <td>Job Work</td>\n",
       "      <td>Auto Components</td>\n",
       "    </tr>\n",
       "    <tr>\n",
       "      <th>9</th>\n",
       "      <td>8585</td>\n",
       "      <td>TLWCS0000656</td>\n",
       "      <td>17662</td>\n",
       "      <td>6216</td>\n",
       "      <td>2017-03-02</td>\n",
       "      <td>TLWCS</td>\n",
       "      <td>29</td>\n",
       "      <td>61</td>\n",
       "      <td>Cash &amp; Non Banked</td>\n",
       "      <td>0</td>\n",
       "      <td>924979.0</td>\n",
       "      <td>2017-02-28</td>\n",
       "      <td>Manufacturing</td>\n",
       "      <td>Sales</td>\n",
       "      <td>Machine  Components</td>\n",
       "    </tr>\n",
       "    <tr>\n",
       "      <th>10</th>\n",
       "      <td>8586</td>\n",
       "      <td>TLWCS0000594</td>\n",
       "      <td>17665</td>\n",
       "      <td>6217</td>\n",
       "      <td>2017-03-02</td>\n",
       "      <td>TLWCS</td>\n",
       "      <td>11</td>\n",
       "      <td>33</td>\n",
       "      <td>Cash &amp; Non Banked</td>\n",
       "      <td>0</td>\n",
       "      <td>276196.0</td>\n",
       "      <td>2017-02-28</td>\n",
       "      <td>Manufacturing</td>\n",
       "      <td>Sales</td>\n",
       "      <td>Wood</td>\n",
       "    </tr>\n",
       "    <tr>\n",
       "      <th>11</th>\n",
       "      <td>8587</td>\n",
       "      <td>LCRDS0000162</td>\n",
       "      <td>7815</td>\n",
       "      <td>1250</td>\n",
       "      <td>2017-03-02</td>\n",
       "      <td>LCRDS</td>\n",
       "      <td>15</td>\n",
       "      <td>47</td>\n",
       "      <td>Cash &amp; Non Banked</td>\n",
       "      <td>0</td>\n",
       "      <td>583800.0</td>\n",
       "      <td>2017-02-28</td>\n",
       "      <td>Manufacturing</td>\n",
       "      <td>Sales</td>\n",
       "      <td>Wood</td>\n",
       "    </tr>\n",
       "    <tr>\n",
       "      <th>12</th>\n",
       "      <td>8588</td>\n",
       "      <td>None</td>\n",
       "      <td>17670</td>\n",
       "      <td>6218</td>\n",
       "      <td>2017-03-02</td>\n",
       "      <td>None</td>\n",
       "      <td>6</td>\n",
       "      <td>NaN</td>\n",
       "      <td>NaN</td>\n",
       "      <td>NaN</td>\n",
       "      <td>NaN</td>\n",
       "      <td>NaN</td>\n",
       "      <td>Trading</td>\n",
       "      <td>Retail</td>\n",
       "      <td>None</td>\n",
       "    </tr>\n",
       "    <tr>\n",
       "      <th>13</th>\n",
       "      <td>8590</td>\n",
       "      <td>None</td>\n",
       "      <td>17678</td>\n",
       "      <td>6220</td>\n",
       "      <td>2017-03-02</td>\n",
       "      <td>None</td>\n",
       "      <td>14</td>\n",
       "      <td>NaN</td>\n",
       "      <td>NaN</td>\n",
       "      <td>NaN</td>\n",
       "      <td>NaN</td>\n",
       "      <td>NaN</td>\n",
       "      <td>Manufacturing</td>\n",
       "      <td>Job Work</td>\n",
       "      <td>Auto Components</td>\n",
       "    </tr>\n",
       "    <tr>\n",
       "      <th>14</th>\n",
       "      <td>8591</td>\n",
       "      <td>ICWCS0000074</td>\n",
       "      <td>17687</td>\n",
       "      <td>6222</td>\n",
       "      <td>2017-03-02</td>\n",
       "      <td>ICWCS</td>\n",
       "      <td>14</td>\n",
       "      <td>47</td>\n",
       "      <td>Invoice &amp; Banked</td>\n",
       "      <td>704</td>\n",
       "      <td>637848.0</td>\n",
       "      <td>2017-03-28</td>\n",
       "      <td>Manufacturing</td>\n",
       "      <td>Sales</td>\n",
       "      <td>Machine  Components</td>\n",
       "    </tr>\n",
       "  </tbody>\n",
       "</table>\n",
       "</div>"
      ],
      "text/plain": [
       "    loan_id account_number  customer_id  enterprise_id screening_date  \\\n",
       "0      5692   TLMFS0000055        17850           6278     2017-03-07   \n",
       "1      6190   TLWCU0001219        17857           6280     2017-03-07   \n",
       "2      6191   TLAPS0000292         9481           2916     2017-03-07   \n",
       "3      6192   LCRIU0000019         6597             32     2017-03-10   \n",
       "4      6193   LCRIU0000020         9732           3167     2017-03-13   \n",
       "5      8581   TLAPS0000238        17643           6209     2017-03-02   \n",
       "6      8582   TLMFS0000046         7010            445     2017-03-02   \n",
       "7      8583   TLWCS0000609        17638           6207     2017-03-02   \n",
       "8      8584   TLAPS0000270        17639           6208     2017-03-02   \n",
       "9      8585   TLWCS0000656        17662           6216     2017-03-02   \n",
       "10     8586   TLWCS0000594        17665           6217     2017-03-02   \n",
       "11     8587   LCRDS0000162         7815           1250     2017-03-02   \n",
       "12     8588           None        17670           6218     2017-03-02   \n",
       "13     8590           None        17678           6220     2017-03-02   \n",
       "14     8591   ICWCS0000074        17687           6222     2017-03-02   \n",
       "\n",
       "   product_code  hub_id ManagAgeui_APP BusinFormalityOfTheBusinessui  \\\n",
       "0         TLMFS      46             32             Cash & Non Banked   \n",
       "1         TLWCU      32             35             Cash & Non Banked   \n",
       "2         TLAPS      32             32             Cash & Non Banked   \n",
       "3         LCRIU      32            NaN                           NaN   \n",
       "4         LCRIU      32             39             Cash & Non Banked   \n",
       "5         TLAPS      26             36             Cash & Non Banked   \n",
       "6         TLMFS      84             48             Cash & Non Banked   \n",
       "7         TLWCS      36            NaN                           NaN   \n",
       "8         TLAPS      32             35              Invoice & Banked   \n",
       "9         TLWCS      29             61             Cash & Non Banked   \n",
       "10        TLWCS      11             33             Cash & Non Banked   \n",
       "11        LCRDS      15             47             Cash & Non Banked   \n",
       "12         None       6            NaN                           NaN   \n",
       "13         None      14            NaN                           NaN   \n",
       "14        ICWCS      14             47              Invoice & Banked   \n",
       "\n",
       "   ManagCBscoreui_APP  net_disbursement_magnitude transaction_Date  \\\n",
       "0                   0                    345909.0       2017-02-28   \n",
       "1                   0                    144157.0       2017-02-28   \n",
       "2                   0                    484931.0       2017-03-23   \n",
       "3                 NaN                    683859.0       2017-03-13   \n",
       "4                 548                    896703.0       2017-03-15   \n",
       "5                   0                   1343871.0       2017-02-28   \n",
       "6                   0                    915017.0       2017-02-28   \n",
       "7                 NaN                    731482.0       2017-02-28   \n",
       "8                 584                    401225.0       2017-02-28   \n",
       "9                   0                    924979.0       2017-02-28   \n",
       "10                  0                    276196.0       2017-02-28   \n",
       "11                  0                    583800.0       2017-02-28   \n",
       "12                NaN                         NaN              NaN   \n",
       "13                NaN                         NaN              NaN   \n",
       "14                704                    637848.0       2017-03-28   \n",
       "\n",
       "    business_type business_activity      business_sector  \n",
       "0   Manufacturing          Job Work      Auto Components  \n",
       "1         Trading            Retail          Book Stores  \n",
       "2   Manufacturing             Sales          Electricals  \n",
       "3   Manufacturing  Job Work & Sales      Auto Components  \n",
       "4   Manufacturing          Job Work      Auto Components  \n",
       "5   Manufacturing          Job Work  Machine  Components  \n",
       "6   Manufacturing             Sales      Auto Components  \n",
       "7   Manufacturing             Sales  Machine  Components  \n",
       "8   Manufacturing          Job Work      Auto Components  \n",
       "9   Manufacturing             Sales  Machine  Components  \n",
       "10  Manufacturing             Sales                 Wood  \n",
       "11  Manufacturing             Sales                 Wood  \n",
       "12        Trading            Retail                 None  \n",
       "13  Manufacturing          Job Work      Auto Components  \n",
       "14  Manufacturing             Sales  Machine  Components  "
      ]
     },
     "execution_count": 35,
     "metadata": {},
     "output_type": "execute_result"
    }
   ],
   "source": [
    "data2.head(15)"
   ]
  },
  {
   "cell_type": "code",
   "execution_count": 36,
   "metadata": {},
   "outputs": [
    {
     "data": {
      "text/plain": [
       "loan_id                            int64\n",
       "account_number                    object\n",
       "customer_id                        int64\n",
       "enterprise_id                      int64\n",
       "screening_date                    object\n",
       "product_code                      object\n",
       "hub_id                             int64\n",
       "ManagAgeui_APP                    object\n",
       "BusinFormalityOfTheBusinessui     object\n",
       "ManagCBscoreui_APP                object\n",
       "net_disbursement_magnitude       float64\n",
       "transaction_Date                  object\n",
       "business_type                     object\n",
       "business_activity                 object\n",
       "business_sector                   object\n",
       "dtype: object"
      ]
     },
     "execution_count": 36,
     "metadata": {},
     "output_type": "execute_result"
    }
   ],
   "source": [
    "data2.dtypes"
   ]
  },
  {
   "cell_type": "code",
   "execution_count": 37,
   "metadata": {},
   "outputs": [
    {
     "data": {
      "text/plain": [
       "(2692, 15)"
      ]
     },
     "execution_count": 37,
     "metadata": {},
     "output_type": "execute_result"
    }
   ],
   "source": [
    "data2.shape"
   ]
  },
  {
   "cell_type": "code",
   "execution_count": 38,
   "metadata": {},
   "outputs": [],
   "source": [
    "import numpy as np"
   ]
  },
  {
   "cell_type": "code",
   "execution_count": 39,
   "metadata": {},
   "outputs": [],
   "source": [
    "data2['account_number'].replace('None',np.nan,inplace=True)"
   ]
  },
  {
   "cell_type": "code",
   "execution_count": 40,
   "metadata": {},
   "outputs": [
    {
     "data": {
      "text/plain": [
       "loan_id                             0\n",
       "account_number                   1115\n",
       "customer_id                         0\n",
       "enterprise_id                       0\n",
       "screening_date                      0\n",
       "product_code                     1056\n",
       "hub_id                              0\n",
       "ManagAgeui_APP                    705\n",
       "BusinFormalityOfTheBusinessui     631\n",
       "ManagCBscoreui_APP                705\n",
       "net_disbursement_magnitude       1117\n",
       "transaction_Date                 1117\n",
       "business_type                       0\n",
       "business_activity                   0\n",
       "business_sector                     2\n",
       "dtype: int64"
      ]
     },
     "execution_count": 40,
     "metadata": {},
     "output_type": "execute_result"
    }
   ],
   "source": [
    "data2.isnull().sum()"
   ]
  },
  {
   "cell_type": "code",
   "execution_count": 41,
   "metadata": {},
   "outputs": [
    {
     "data": {
      "text/html": [
       "<div>\n",
       "<style scoped>\n",
       "    .dataframe tbody tr th:only-of-type {\n",
       "        vertical-align: middle;\n",
       "    }\n",
       "\n",
       "    .dataframe tbody tr th {\n",
       "        vertical-align: top;\n",
       "    }\n",
       "\n",
       "    .dataframe thead th {\n",
       "        text-align: right;\n",
       "    }\n",
       "</style>\n",
       "<table border=\"1\" class=\"dataframe\">\n",
       "  <thead>\n",
       "    <tr style=\"text-align: right;\">\n",
       "      <th></th>\n",
       "      <th>loan_id</th>\n",
       "      <th>account_number</th>\n",
       "      <th>customer_id</th>\n",
       "      <th>enterprise_id</th>\n",
       "      <th>screening_date</th>\n",
       "      <th>product_code</th>\n",
       "      <th>hub_id</th>\n",
       "      <th>ManagAgeui_APP</th>\n",
       "      <th>BusinFormalityOfTheBusinessui</th>\n",
       "      <th>ManagCBscoreui_APP</th>\n",
       "      <th>net_disbursement_magnitude</th>\n",
       "      <th>transaction_Date</th>\n",
       "      <th>business_type</th>\n",
       "      <th>business_activity</th>\n",
       "      <th>business_sector</th>\n",
       "    </tr>\n",
       "  </thead>\n",
       "  <tbody>\n",
       "    <tr>\n",
       "      <th>0</th>\n",
       "      <td>5692</td>\n",
       "      <td>TLMFS0000055</td>\n",
       "      <td>17850</td>\n",
       "      <td>6278</td>\n",
       "      <td>2017-03-07</td>\n",
       "      <td>TLMFS</td>\n",
       "      <td>46</td>\n",
       "      <td>32</td>\n",
       "      <td>Cash &amp; Non Banked</td>\n",
       "      <td>0</td>\n",
       "      <td>345909.0</td>\n",
       "      <td>2017-02-28</td>\n",
       "      <td>Manufacturing</td>\n",
       "      <td>Job Work</td>\n",
       "      <td>Auto Components</td>\n",
       "    </tr>\n",
       "    <tr>\n",
       "      <th>1</th>\n",
       "      <td>6190</td>\n",
       "      <td>TLWCU0001219</td>\n",
       "      <td>17857</td>\n",
       "      <td>6280</td>\n",
       "      <td>2017-03-07</td>\n",
       "      <td>TLWCU</td>\n",
       "      <td>32</td>\n",
       "      <td>35</td>\n",
       "      <td>Cash &amp; Non Banked</td>\n",
       "      <td>0</td>\n",
       "      <td>144157.0</td>\n",
       "      <td>2017-02-28</td>\n",
       "      <td>Trading</td>\n",
       "      <td>Retail</td>\n",
       "      <td>Book Stores</td>\n",
       "    </tr>\n",
       "    <tr>\n",
       "      <th>2</th>\n",
       "      <td>6191</td>\n",
       "      <td>TLAPS0000292</td>\n",
       "      <td>9481</td>\n",
       "      <td>2916</td>\n",
       "      <td>2017-03-07</td>\n",
       "      <td>TLAPS</td>\n",
       "      <td>32</td>\n",
       "      <td>32</td>\n",
       "      <td>Cash &amp; Non Banked</td>\n",
       "      <td>0</td>\n",
       "      <td>484931.0</td>\n",
       "      <td>2017-03-23</td>\n",
       "      <td>Manufacturing</td>\n",
       "      <td>Sales</td>\n",
       "      <td>Electricals</td>\n",
       "    </tr>\n",
       "    <tr>\n",
       "      <th>3</th>\n",
       "      <td>6192</td>\n",
       "      <td>LCRIU0000019</td>\n",
       "      <td>6597</td>\n",
       "      <td>32</td>\n",
       "      <td>2017-03-10</td>\n",
       "      <td>LCRIU</td>\n",
       "      <td>32</td>\n",
       "      <td>NaN</td>\n",
       "      <td>NaN</td>\n",
       "      <td>NaN</td>\n",
       "      <td>683859.0</td>\n",
       "      <td>2017-03-13</td>\n",
       "      <td>Manufacturing</td>\n",
       "      <td>Job Work &amp; Sales</td>\n",
       "      <td>Auto Components</td>\n",
       "    </tr>\n",
       "    <tr>\n",
       "      <th>4</th>\n",
       "      <td>6193</td>\n",
       "      <td>LCRIU0000020</td>\n",
       "      <td>9732</td>\n",
       "      <td>3167</td>\n",
       "      <td>2017-03-13</td>\n",
       "      <td>LCRIU</td>\n",
       "      <td>32</td>\n",
       "      <td>39</td>\n",
       "      <td>Cash &amp; Non Banked</td>\n",
       "      <td>548</td>\n",
       "      <td>896703.0</td>\n",
       "      <td>2017-03-15</td>\n",
       "      <td>Manufacturing</td>\n",
       "      <td>Job Work</td>\n",
       "      <td>Auto Components</td>\n",
       "    </tr>\n",
       "    <tr>\n",
       "      <th>5</th>\n",
       "      <td>8581</td>\n",
       "      <td>TLAPS0000238</td>\n",
       "      <td>17643</td>\n",
       "      <td>6209</td>\n",
       "      <td>2017-03-02</td>\n",
       "      <td>TLAPS</td>\n",
       "      <td>26</td>\n",
       "      <td>36</td>\n",
       "      <td>Cash &amp; Non Banked</td>\n",
       "      <td>0</td>\n",
       "      <td>1343871.0</td>\n",
       "      <td>2017-02-28</td>\n",
       "      <td>Manufacturing</td>\n",
       "      <td>Job Work</td>\n",
       "      <td>Machine  Components</td>\n",
       "    </tr>\n",
       "    <tr>\n",
       "      <th>6</th>\n",
       "      <td>8582</td>\n",
       "      <td>TLMFS0000046</td>\n",
       "      <td>7010</td>\n",
       "      <td>445</td>\n",
       "      <td>2017-03-02</td>\n",
       "      <td>TLMFS</td>\n",
       "      <td>84</td>\n",
       "      <td>48</td>\n",
       "      <td>Cash &amp; Non Banked</td>\n",
       "      <td>0</td>\n",
       "      <td>915017.0</td>\n",
       "      <td>2017-02-28</td>\n",
       "      <td>Manufacturing</td>\n",
       "      <td>Sales</td>\n",
       "      <td>Auto Components</td>\n",
       "    </tr>\n",
       "    <tr>\n",
       "      <th>7</th>\n",
       "      <td>8583</td>\n",
       "      <td>TLWCS0000609</td>\n",
       "      <td>17638</td>\n",
       "      <td>6207</td>\n",
       "      <td>2017-03-02</td>\n",
       "      <td>TLWCS</td>\n",
       "      <td>36</td>\n",
       "      <td>NaN</td>\n",
       "      <td>NaN</td>\n",
       "      <td>NaN</td>\n",
       "      <td>731482.0</td>\n",
       "      <td>2017-02-28</td>\n",
       "      <td>Manufacturing</td>\n",
       "      <td>Sales</td>\n",
       "      <td>Machine  Components</td>\n",
       "    </tr>\n",
       "    <tr>\n",
       "      <th>8</th>\n",
       "      <td>8584</td>\n",
       "      <td>TLAPS0000270</td>\n",
       "      <td>17639</td>\n",
       "      <td>6208</td>\n",
       "      <td>2017-03-02</td>\n",
       "      <td>TLAPS</td>\n",
       "      <td>32</td>\n",
       "      <td>35</td>\n",
       "      <td>Invoice &amp; Banked</td>\n",
       "      <td>584</td>\n",
       "      <td>401225.0</td>\n",
       "      <td>2017-02-28</td>\n",
       "      <td>Manufacturing</td>\n",
       "      <td>Job Work</td>\n",
       "      <td>Auto Components</td>\n",
       "    </tr>\n",
       "    <tr>\n",
       "      <th>9</th>\n",
       "      <td>8585</td>\n",
       "      <td>TLWCS0000656</td>\n",
       "      <td>17662</td>\n",
       "      <td>6216</td>\n",
       "      <td>2017-03-02</td>\n",
       "      <td>TLWCS</td>\n",
       "      <td>29</td>\n",
       "      <td>61</td>\n",
       "      <td>Cash &amp; Non Banked</td>\n",
       "      <td>0</td>\n",
       "      <td>924979.0</td>\n",
       "      <td>2017-02-28</td>\n",
       "      <td>Manufacturing</td>\n",
       "      <td>Sales</td>\n",
       "      <td>Machine  Components</td>\n",
       "    </tr>\n",
       "    <tr>\n",
       "      <th>10</th>\n",
       "      <td>8586</td>\n",
       "      <td>TLWCS0000594</td>\n",
       "      <td>17665</td>\n",
       "      <td>6217</td>\n",
       "      <td>2017-03-02</td>\n",
       "      <td>TLWCS</td>\n",
       "      <td>11</td>\n",
       "      <td>33</td>\n",
       "      <td>Cash &amp; Non Banked</td>\n",
       "      <td>0</td>\n",
       "      <td>276196.0</td>\n",
       "      <td>2017-02-28</td>\n",
       "      <td>Manufacturing</td>\n",
       "      <td>Sales</td>\n",
       "      <td>Wood</td>\n",
       "    </tr>\n",
       "    <tr>\n",
       "      <th>11</th>\n",
       "      <td>8587</td>\n",
       "      <td>LCRDS0000162</td>\n",
       "      <td>7815</td>\n",
       "      <td>1250</td>\n",
       "      <td>2017-03-02</td>\n",
       "      <td>LCRDS</td>\n",
       "      <td>15</td>\n",
       "      <td>47</td>\n",
       "      <td>Cash &amp; Non Banked</td>\n",
       "      <td>0</td>\n",
       "      <td>583800.0</td>\n",
       "      <td>2017-02-28</td>\n",
       "      <td>Manufacturing</td>\n",
       "      <td>Sales</td>\n",
       "      <td>Wood</td>\n",
       "    </tr>\n",
       "    <tr>\n",
       "      <th>12</th>\n",
       "      <td>8588</td>\n",
       "      <td>None</td>\n",
       "      <td>17670</td>\n",
       "      <td>6218</td>\n",
       "      <td>2017-03-02</td>\n",
       "      <td>None</td>\n",
       "      <td>6</td>\n",
       "      <td>NaN</td>\n",
       "      <td>NaN</td>\n",
       "      <td>NaN</td>\n",
       "      <td>NaN</td>\n",
       "      <td>NaN</td>\n",
       "      <td>Trading</td>\n",
       "      <td>Retail</td>\n",
       "      <td>None</td>\n",
       "    </tr>\n",
       "    <tr>\n",
       "      <th>13</th>\n",
       "      <td>8590</td>\n",
       "      <td>None</td>\n",
       "      <td>17678</td>\n",
       "      <td>6220</td>\n",
       "      <td>2017-03-02</td>\n",
       "      <td>None</td>\n",
       "      <td>14</td>\n",
       "      <td>NaN</td>\n",
       "      <td>NaN</td>\n",
       "      <td>NaN</td>\n",
       "      <td>NaN</td>\n",
       "      <td>NaN</td>\n",
       "      <td>Manufacturing</td>\n",
       "      <td>Job Work</td>\n",
       "      <td>Auto Components</td>\n",
       "    </tr>\n",
       "    <tr>\n",
       "      <th>14</th>\n",
       "      <td>8591</td>\n",
       "      <td>ICWCS0000074</td>\n",
       "      <td>17687</td>\n",
       "      <td>6222</td>\n",
       "      <td>2017-03-02</td>\n",
       "      <td>ICWCS</td>\n",
       "      <td>14</td>\n",
       "      <td>47</td>\n",
       "      <td>Invoice &amp; Banked</td>\n",
       "      <td>704</td>\n",
       "      <td>637848.0</td>\n",
       "      <td>2017-03-28</td>\n",
       "      <td>Manufacturing</td>\n",
       "      <td>Sales</td>\n",
       "      <td>Machine  Components</td>\n",
       "    </tr>\n",
       "  </tbody>\n",
       "</table>\n",
       "</div>"
      ],
      "text/plain": [
       "    loan_id account_number  customer_id  enterprise_id screening_date  \\\n",
       "0      5692   TLMFS0000055        17850           6278     2017-03-07   \n",
       "1      6190   TLWCU0001219        17857           6280     2017-03-07   \n",
       "2      6191   TLAPS0000292         9481           2916     2017-03-07   \n",
       "3      6192   LCRIU0000019         6597             32     2017-03-10   \n",
       "4      6193   LCRIU0000020         9732           3167     2017-03-13   \n",
       "5      8581   TLAPS0000238        17643           6209     2017-03-02   \n",
       "6      8582   TLMFS0000046         7010            445     2017-03-02   \n",
       "7      8583   TLWCS0000609        17638           6207     2017-03-02   \n",
       "8      8584   TLAPS0000270        17639           6208     2017-03-02   \n",
       "9      8585   TLWCS0000656        17662           6216     2017-03-02   \n",
       "10     8586   TLWCS0000594        17665           6217     2017-03-02   \n",
       "11     8587   LCRDS0000162         7815           1250     2017-03-02   \n",
       "12     8588           None        17670           6218     2017-03-02   \n",
       "13     8590           None        17678           6220     2017-03-02   \n",
       "14     8591   ICWCS0000074        17687           6222     2017-03-02   \n",
       "\n",
       "   product_code  hub_id ManagAgeui_APP BusinFormalityOfTheBusinessui  \\\n",
       "0         TLMFS      46             32             Cash & Non Banked   \n",
       "1         TLWCU      32             35             Cash & Non Banked   \n",
       "2         TLAPS      32             32             Cash & Non Banked   \n",
       "3         LCRIU      32            NaN                           NaN   \n",
       "4         LCRIU      32             39             Cash & Non Banked   \n",
       "5         TLAPS      26             36             Cash & Non Banked   \n",
       "6         TLMFS      84             48             Cash & Non Banked   \n",
       "7         TLWCS      36            NaN                           NaN   \n",
       "8         TLAPS      32             35              Invoice & Banked   \n",
       "9         TLWCS      29             61             Cash & Non Banked   \n",
       "10        TLWCS      11             33             Cash & Non Banked   \n",
       "11        LCRDS      15             47             Cash & Non Banked   \n",
       "12         None       6            NaN                           NaN   \n",
       "13         None      14            NaN                           NaN   \n",
       "14        ICWCS      14             47              Invoice & Banked   \n",
       "\n",
       "   ManagCBscoreui_APP  net_disbursement_magnitude transaction_Date  \\\n",
       "0                   0                    345909.0       2017-02-28   \n",
       "1                   0                    144157.0       2017-02-28   \n",
       "2                   0                    484931.0       2017-03-23   \n",
       "3                 NaN                    683859.0       2017-03-13   \n",
       "4                 548                    896703.0       2017-03-15   \n",
       "5                   0                   1343871.0       2017-02-28   \n",
       "6                   0                    915017.0       2017-02-28   \n",
       "7                 NaN                    731482.0       2017-02-28   \n",
       "8                 584                    401225.0       2017-02-28   \n",
       "9                   0                    924979.0       2017-02-28   \n",
       "10                  0                    276196.0       2017-02-28   \n",
       "11                  0                    583800.0       2017-02-28   \n",
       "12                NaN                         NaN              NaN   \n",
       "13                NaN                         NaN              NaN   \n",
       "14                704                    637848.0       2017-03-28   \n",
       "\n",
       "    business_type business_activity      business_sector  \n",
       "0   Manufacturing          Job Work      Auto Components  \n",
       "1         Trading            Retail          Book Stores  \n",
       "2   Manufacturing             Sales          Electricals  \n",
       "3   Manufacturing  Job Work & Sales      Auto Components  \n",
       "4   Manufacturing          Job Work      Auto Components  \n",
       "5   Manufacturing          Job Work  Machine  Components  \n",
       "6   Manufacturing             Sales      Auto Components  \n",
       "7   Manufacturing             Sales  Machine  Components  \n",
       "8   Manufacturing          Job Work      Auto Components  \n",
       "9   Manufacturing             Sales  Machine  Components  \n",
       "10  Manufacturing             Sales                 Wood  \n",
       "11  Manufacturing             Sales                 Wood  \n",
       "12        Trading            Retail                 None  \n",
       "13  Manufacturing          Job Work      Auto Components  \n",
       "14  Manufacturing             Sales  Machine  Components  "
      ]
     },
     "execution_count": 41,
     "metadata": {},
     "output_type": "execute_result"
    }
   ],
   "source": [
    "data2.head(15)"
   ]
  },
  {
   "cell_type": "code",
   "execution_count": 42,
   "metadata": {},
   "outputs": [
    {
     "data": {
      "text/html": [
       "<div>\n",
       "<style scoped>\n",
       "    .dataframe tbody tr th:only-of-type {\n",
       "        vertical-align: middle;\n",
       "    }\n",
       "\n",
       "    .dataframe tbody tr th {\n",
       "        vertical-align: top;\n",
       "    }\n",
       "\n",
       "    .dataframe thead th {\n",
       "        text-align: right;\n",
       "    }\n",
       "</style>\n",
       "<table border=\"1\" class=\"dataframe\">\n",
       "  <thead>\n",
       "    <tr style=\"text-align: right;\">\n",
       "      <th></th>\n",
       "      <th>loan_id</th>\n",
       "      <th>account_number</th>\n",
       "      <th>customer_id</th>\n",
       "      <th>enterprise_id</th>\n",
       "      <th>screening_date</th>\n",
       "      <th>product_code</th>\n",
       "      <th>hub_id</th>\n",
       "      <th>ManagAgeui_APP</th>\n",
       "      <th>BusinFormalityOfTheBusinessui</th>\n",
       "      <th>ManagCBscoreui_APP</th>\n",
       "      <th>net_disbursement_magnitude</th>\n",
       "      <th>transaction_Date</th>\n",
       "      <th>business_type</th>\n",
       "      <th>business_activity</th>\n",
       "      <th>business_sector</th>\n",
       "    </tr>\n",
       "  </thead>\n",
       "  <tbody>\n",
       "    <tr>\n",
       "      <th>12</th>\n",
       "      <td>8588</td>\n",
       "      <td>None</td>\n",
       "      <td>17670</td>\n",
       "      <td>6218</td>\n",
       "      <td>2017-03-02</td>\n",
       "      <td>None</td>\n",
       "      <td>6</td>\n",
       "      <td>NaN</td>\n",
       "      <td>NaN</td>\n",
       "      <td>NaN</td>\n",
       "      <td>NaN</td>\n",
       "      <td>NaN</td>\n",
       "      <td>Trading</td>\n",
       "      <td>Retail</td>\n",
       "      <td>None</td>\n",
       "    </tr>\n",
       "    <tr>\n",
       "      <th>13</th>\n",
       "      <td>8590</td>\n",
       "      <td>None</td>\n",
       "      <td>17678</td>\n",
       "      <td>6220</td>\n",
       "      <td>2017-03-02</td>\n",
       "      <td>None</td>\n",
       "      <td>14</td>\n",
       "      <td>NaN</td>\n",
       "      <td>NaN</td>\n",
       "      <td>NaN</td>\n",
       "      <td>NaN</td>\n",
       "      <td>NaN</td>\n",
       "      <td>Manufacturing</td>\n",
       "      <td>Job Work</td>\n",
       "      <td>Auto Components</td>\n",
       "    </tr>\n",
       "    <tr>\n",
       "      <th>16</th>\n",
       "      <td>8594</td>\n",
       "      <td>None</td>\n",
       "      <td>17698</td>\n",
       "      <td>6226</td>\n",
       "      <td>2017-03-03</td>\n",
       "      <td>None</td>\n",
       "      <td>4</td>\n",
       "      <td>43</td>\n",
       "      <td>Cash &amp; Non Banked</td>\n",
       "      <td>549</td>\n",
       "      <td>NaN</td>\n",
       "      <td>NaN</td>\n",
       "      <td>Manufacturing</td>\n",
       "      <td>Job Work &amp; Sales</td>\n",
       "      <td>Fabrication</td>\n",
       "    </tr>\n",
       "    <tr>\n",
       "      <th>17</th>\n",
       "      <td>8596</td>\n",
       "      <td>None</td>\n",
       "      <td>17714</td>\n",
       "      <td>6232</td>\n",
       "      <td>2017-03-04</td>\n",
       "      <td>None</td>\n",
       "      <td>25</td>\n",
       "      <td>NaN</td>\n",
       "      <td>NaN</td>\n",
       "      <td>NaN</td>\n",
       "      <td>NaN</td>\n",
       "      <td>NaN</td>\n",
       "      <td>Manufacturing</td>\n",
       "      <td>Job Work &amp; Sales</td>\n",
       "      <td>Auto Components</td>\n",
       "    </tr>\n",
       "    <tr>\n",
       "      <th>20</th>\n",
       "      <td>8600</td>\n",
       "      <td>None</td>\n",
       "      <td>17713</td>\n",
       "      <td>6231</td>\n",
       "      <td>2017-03-05</td>\n",
       "      <td>TLWCS</td>\n",
       "      <td>34</td>\n",
       "      <td>NaN</td>\n",
       "      <td>NaN</td>\n",
       "      <td>NaN</td>\n",
       "      <td>NaN</td>\n",
       "      <td>NaN</td>\n",
       "      <td>Manufacturing</td>\n",
       "      <td>Job Work &amp; Sales</td>\n",
       "      <td>Machine  Components</td>\n",
       "    </tr>\n",
       "  </tbody>\n",
       "</table>\n",
       "</div>"
      ],
      "text/plain": [
       "    loan_id account_number  customer_id  enterprise_id screening_date  \\\n",
       "12     8588           None        17670           6218     2017-03-02   \n",
       "13     8590           None        17678           6220     2017-03-02   \n",
       "16     8594           None        17698           6226     2017-03-03   \n",
       "17     8596           None        17714           6232     2017-03-04   \n",
       "20     8600           None        17713           6231     2017-03-05   \n",
       "\n",
       "   product_code  hub_id ManagAgeui_APP BusinFormalityOfTheBusinessui  \\\n",
       "12         None       6            NaN                           NaN   \n",
       "13         None      14            NaN                           NaN   \n",
       "16         None       4             43             Cash & Non Banked   \n",
       "17         None      25            NaN                           NaN   \n",
       "20        TLWCS      34            NaN                           NaN   \n",
       "\n",
       "   ManagCBscoreui_APP  net_disbursement_magnitude transaction_Date  \\\n",
       "12                NaN                         NaN              NaN   \n",
       "13                NaN                         NaN              NaN   \n",
       "16                549                         NaN              NaN   \n",
       "17                NaN                         NaN              NaN   \n",
       "20                NaN                         NaN              NaN   \n",
       "\n",
       "    business_type business_activity      business_sector  \n",
       "12        Trading            Retail                 None  \n",
       "13  Manufacturing          Job Work      Auto Components  \n",
       "16  Manufacturing  Job Work & Sales          Fabrication  \n",
       "17  Manufacturing  Job Work & Sales      Auto Components  \n",
       "20  Manufacturing  Job Work & Sales  Machine  Components  "
      ]
     },
     "execution_count": 42,
     "metadata": {},
     "output_type": "execute_result"
    }
   ],
   "source": [
    "data2[data2.account_number.isnull()].head(5)\n"
   ]
  },
  {
   "cell_type": "code",
   "execution_count": 43,
   "metadata": {},
   "outputs": [
    {
     "data": {
      "text/plain": [
       "1115"
      ]
     },
     "execution_count": 43,
     "metadata": {},
     "output_type": "execute_result"
    }
   ],
   "source": [
    "len(data2[data2.account_number.isnull()])"
   ]
  },
  {
   "cell_type": "code",
   "execution_count": null,
   "metadata": {},
   "outputs": [],
   "source": []
  },
  {
   "cell_type": "code",
   "execution_count": null,
   "metadata": {},
   "outputs": [],
   "source": []
  },
  {
   "cell_type": "code",
   "execution_count": null,
   "metadata": {},
   "outputs": [],
   "source": []
  },
  {
   "cell_type": "code",
   "execution_count": null,
   "metadata": {},
   "outputs": [],
   "source": []
  },
  {
   "cell_type": "code",
   "execution_count": null,
   "metadata": {},
   "outputs": [],
   "source": []
  },
  {
   "cell_type": "code",
   "execution_count": null,
   "metadata": {},
   "outputs": [],
   "source": []
  },
  {
   "cell_type": "code",
   "execution_count": null,
   "metadata": {},
   "outputs": [],
   "source": []
  },
  {
   "cell_type": "code",
   "execution_count": null,
   "metadata": {},
   "outputs": [],
   "source": []
  },
  {
   "cell_type": "code",
   "execution_count": null,
   "metadata": {},
   "outputs": [],
   "source": []
  },
  {
   "cell_type": "code",
   "execution_count": null,
   "metadata": {},
   "outputs": [],
   "source": []
  },
  {
   "cell_type": "code",
   "execution_count": null,
   "metadata": {},
   "outputs": [],
   "source": []
  }
 ],
 "metadata": {
  "kernelspec": {
   "display_name": "Python 3",
   "language": "python",
   "name": "python3"
  },
  "language_info": {
   "codemirror_mode": {
    "name": "ipython",
    "version": 3
   },
   "file_extension": ".py",
   "mimetype": "text/x-python",
   "name": "python",
   "nbconvert_exporter": "python",
   "pygments_lexer": "ipython3",
   "version": "3.6.7"
  }
 },
 "nbformat": 4,
 "nbformat_minor": 2
}
